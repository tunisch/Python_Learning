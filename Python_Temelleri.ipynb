{
 "cells": [
  {
   "cell_type": "markdown",
   "id": "265e96df-c9b2-487d-9eb3-1c260b1cde10",
   "metadata": {},
   "source": [
    "# Python Temelleri"
   ]
  },
  {
   "cell_type": "code",
   "execution_count": null,
   "id": "875c7478-a8c0-459c-ae63-019d2b16f409",
   "metadata": {},
   "outputs": [
    {
     "name": "stdout",
     "output_type": "stream",
     "text": [
      "Tunahan Erturk\n"
     ]
    }
   ],
   "source": [
    "print(\"Tunahan Erturk\")"
   ]
  },
  {
   "cell_type": "code",
   "execution_count": 1,
   "id": "99e5852b-7b09-46e5-9a95-6b3104094dff",
   "metadata": {},
   "outputs": [
    {
     "data": {
      "text/plain": [
       "'tunahan'"
      ]
     },
     "execution_count": 1,
     "metadata": {},
     "output_type": "execute_result"
    }
   ],
   "source": [
    "#\"input\" fonksiyonu kullanıcıdan veri almak için kullanılır.\n",
    "input(\"isminiz nedir\")"
   ]
  },
  {
   "cell_type": "code",
   "execution_count": 2,
   "id": "7c2e1fd1",
   "metadata": {},
   "outputs": [
    {
     "data": {
      "text/plain": [
       "'erturk'"
      ]
     },
     "execution_count": 2,
     "metadata": {},
     "output_type": "execute_result"
    }
   ],
   "source": [
    "input(\"soyadiniz nedir\")"
   ]
  },
  {
   "cell_type": "markdown",
   "id": "631cffef-c5df-4dc0-945e-c81baf68ba3a",
   "metadata": {},
   "source": [
    "## Variables and Constants"
   ]
  },
  {
   "cell_type": "code",
   "execution_count": 3,
   "id": "e2d77b0c-2621-4a0b-b55b-47d6fb79fade",
   "metadata": {},
   "outputs": [
    {
     "name": "stdout",
     "output_type": "stream",
     "text": [
      "Tunahan Erturk\n"
     ]
    }
   ],
   "source": [
    "isim = 'Tunahan'\n",
    "soyisim = 'Erturk'\n",
    "\n",
    "print(isim + \" \" + soyisim)\n",
    "\n"
   ]
  },
  {
   "cell_type": "code",
   "execution_count": 4,
   "id": "5bd07c81-f53a-4116-9e0d-0db5a1c26485",
   "metadata": {},
   "outputs": [],
   "source": [
    "#sabitler (constantlar buyuk harfle tanimlanilir, yazilir.\n",
    "PI = 3.14"
   ]
  },
  {
   "cell_type": "code",
   "execution_count": 5,
   "id": "7521e071-99b1-499b-bab7-ed15a520c9be",
   "metadata": {},
   "outputs": [],
   "source": [
    "isim = 'Suleyman'"
   ]
  },
  {
   "cell_type": "code",
   "execution_count": 6,
   "id": "b6012533-21a4-49e3-aec3-7dc595a6c0f8",
   "metadata": {},
   "outputs": [
    {
     "name": "stdout",
     "output_type": "stream",
     "text": [
      "Suleyman\n"
     ]
    }
   ],
   "source": [
    "print(isim)"
   ]
  },
  {
   "cell_type": "code",
   "execution_count": 7,
   "id": "8c327a52",
   "metadata": {},
   "outputs": [],
   "source": [
    "isim,soyisim = soyisim,isim"
   ]
  },
  {
   "cell_type": "code",
   "execution_count": 8,
   "id": "bff3781d",
   "metadata": {},
   "outputs": [
    {
     "name": "stdout",
     "output_type": "stream",
     "text": [
      "Erturk\n"
     ]
    }
   ],
   "source": [
    "print(isim)"
   ]
  },
  {
   "cell_type": "code",
   "execution_count": 9,
   "id": "e307ba2c",
   "metadata": {},
   "outputs": [
    {
     "name": "stdout",
     "output_type": "stream",
     "text": [
      "Suleyman\n"
     ]
    }
   ],
   "source": [
    "print(soyisim)"
   ]
  },
  {
   "cell_type": "code",
   "execution_count": 10,
   "id": "fa9e7f7f",
   "metadata": {},
   "outputs": [
    {
     "name": "stdout",
     "output_type": "stream",
     "text": [
      "Erturk\n"
     ]
    }
   ],
   "source": [
    "print(isim)"
   ]
  },
  {
   "cell_type": "code",
   "execution_count": 11,
   "id": "5b27dd08",
   "metadata": {},
   "outputs": [],
   "source": [
    "#print = \"Tunahan\" #bu sekilde print fonksiyonunu degistiremeyiz. print fonksiyonu sabittir. keyword'dur. ve degistirilemez."
   ]
  },
  {
   "cell_type": "markdown",
   "id": "229bed30",
   "metadata": {},
   "source": [
    "## Veri Tipleri(Data Types)"
   ]
  },
  {
   "cell_type": "markdown",
   "id": "4fdd2236",
   "metadata": {},
   "source": [
    "Numbers (Sayilar)-\n",
    "Strings (Karakter dizileri)-\n",
    "Lists (Listeler)-\n",
    "Tuples (Demetler)-\n",
    "Dictionaries (Sozlukler)-\n",
    "Sets (Kumeler)"
   ]
  },
  {
   "cell_type": "markdown",
   "id": "efba1414",
   "metadata": {},
   "source": [
    "### Numbers -Sayilar"
   ]
  },
  {
   "cell_type": "code",
   "execution_count": 12,
   "id": "1d000427",
   "metadata": {},
   "outputs": [],
   "source": [
    "Yas = 29"
   ]
  },
  {
   "cell_type": "code",
   "execution_count": 13,
   "id": "089a806c",
   "metadata": {},
   "outputs": [
    {
     "data": {
      "text/plain": [
       "10"
      ]
     },
     "execution_count": 13,
     "metadata": {},
     "output_type": "execute_result"
    }
   ],
   "source": [
    "5+5"
   ]
  },
  {
   "cell_type": "markdown",
   "id": "9521f8e9",
   "metadata": {},
   "source": [
    "- integer ==> tam sayi (5)\n",
    "- float ==> ondalikli sayi (3.14)\n",
    "- long ==> cok buyuk sayilar (python3'te yok) neden yok? cunku python3'te integer siniri yok.)\n",
    "- complex ==> karma sayilar (a+bi) 3.14j"
   ]
  },
  {
   "cell_type": "code",
   "execution_count": 14,
   "id": "804e3b2f",
   "metadata": {},
   "outputs": [
    {
     "data": {
      "text/plain": [
       "10.65"
      ]
     },
     "execution_count": 14,
     "metadata": {},
     "output_type": "execute_result"
    }
   ],
   "source": [
    "5+5.65"
   ]
  },
  {
   "cell_type": "code",
   "execution_count": 15,
   "id": "ebe91cd0",
   "metadata": {},
   "outputs": [
    {
     "data": {
      "text/plain": [
       "5.0"
      ]
     },
     "execution_count": 15,
     "metadata": {},
     "output_type": "execute_result"
    }
   ],
   "source": [
    "10.5 - 5.5"
   ]
  },
  {
   "cell_type": "code",
   "execution_count": 16,
   "id": "bf8a00ab",
   "metadata": {},
   "outputs": [
    {
     "data": {
      "text/plain": [
       "11.0"
      ]
     },
     "execution_count": 16,
     "metadata": {},
     "output_type": "execute_result"
    }
   ],
   "source": [
    "55 / 5"
   ]
  },
  {
   "cell_type": "code",
   "execution_count": 17,
   "id": "cb764593",
   "metadata": {},
   "outputs": [
    {
     "data": {
      "text/plain": [
       "1"
      ]
     },
     "execution_count": 17,
     "metadata": {},
     "output_type": "execute_result"
    }
   ],
   "source": [
    "40 % 3 #mod alma islemi yani kalan bulma islemi yapar."
   ]
  },
  {
   "cell_type": "code",
   "execution_count": 18,
   "id": "98ff3393",
   "metadata": {},
   "outputs": [
    {
     "data": {
      "text/plain": [
       "64"
      ]
     },
     "execution_count": 18,
     "metadata": {},
     "output_type": "execute_result"
    }
   ],
   "source": [
    "4 ** 3 # 4'un 3. kuvvetini alir. 4^3 ussu alir."
   ]
  },
  {
   "cell_type": "code",
   "execution_count": 19,
   "id": "c708085e",
   "metadata": {},
   "outputs": [
    {
     "data": {
      "text/plain": [
       "6"
      ]
     },
     "execution_count": 19,
     "metadata": {},
     "output_type": "execute_result"
    }
   ],
   "source": [
    "40 // 6 # bolum alma islemi yapar. yani 6'ya bolup noktali kismi atar."
   ]
  },
  {
   "cell_type": "code",
   "execution_count": 20,
   "id": "05949090",
   "metadata": {},
   "outputs": [
    {
     "data": {
      "text/plain": [
       "5"
      ]
     },
     "execution_count": 20,
     "metadata": {},
     "output_type": "execute_result"
    }
   ],
   "source": [
    "round(4.56) # yuvarlama islemi yapar.\n"
   ]
  },
  {
   "cell_type": "code",
   "execution_count": 21,
   "id": "e3ce4ec6",
   "metadata": {},
   "outputs": [
    {
     "data": {
      "text/plain": [
       "4.6"
      ]
     },
     "execution_count": 21,
     "metadata": {},
     "output_type": "execute_result"
    }
   ],
   "source": [
    "round(4.56,1) # virgulden sonra kac basamak yuvarlamak istiyorsak onu belirtiriz."
   ]
  },
  {
   "cell_type": "code",
   "execution_count": 22,
   "id": "fb1a6640",
   "metadata": {},
   "outputs": [
    {
     "data": {
      "text/plain": [
       "4"
      ]
     },
     "execution_count": 22,
     "metadata": {},
     "output_type": "execute_result"
    }
   ],
   "source": [
    "round(4.51) # 4.51 yuvarladigimizda 5'e yuvarlar.\n",
    "round(4.50) # 4.50 yuvarladigimizda 4'e yuvarlar."
   ]
  },
  {
   "cell_type": "code",
   "execution_count": 23,
   "id": "4a481e8a",
   "metadata": {},
   "outputs": [],
   "source": [
    "a = 4\n",
    "b = 5"
   ]
  },
  {
   "cell_type": "code",
   "execution_count": 24,
   "id": "db5caf28",
   "metadata": {},
   "outputs": [
    {
     "data": {
      "text/plain": [
       "9"
      ]
     },
     "execution_count": 24,
     "metadata": {},
     "output_type": "execute_result"
    }
   ],
   "source": [
    "a + b"
   ]
  },
  {
   "cell_type": "code",
   "execution_count": 25,
   "id": "2ed97c03",
   "metadata": {},
   "outputs": [
    {
     "data": {
      "text/plain": [
       "20"
      ]
     },
     "execution_count": 25,
     "metadata": {},
     "output_type": "execute_result"
    }
   ],
   "source": [
    "a * b"
   ]
  },
  {
   "cell_type": "markdown",
   "id": "b1ffb012",
   "metadata": {},
   "source": [
    "### Strings -Karakter dizileri"
   ]
  },
  {
   "cell_type": "code",
   "execution_count": 26,
   "id": "70a94441",
   "metadata": {},
   "outputs": [
    {
     "data": {
      "text/plain": [
       "'\\ndsfjsjf\\nds;ofjsd;f\\nds;f;dsfo;\\n'"
      ]
     },
     "execution_count": 26,
     "metadata": {},
     "output_type": "execute_result"
    }
   ],
   "source": [
    "'tunahan'\n",
    "\"tunahan\"\n",
    "\"\"\"tunahan\"\"\"\n",
    "# 3 farkli sekilde string tanimlanabilir.\n",
    "\n",
    "\"\"\"\n",
    "dsfjsjf\n",
    "ds;ofjsd;f\n",
    "ds;f;dsfo;\n",
    "\"\"\"\n",
    "# coklu satirli string tanimlamak icin 3 tirnak kullanilir."
   ]
  },
  {
   "cell_type": "code",
   "execution_count": 27,
   "id": "52edb776",
   "metadata": {},
   "outputs": [],
   "source": [
    "isim = 'tunahan erturk'"
   ]
  },
  {
   "cell_type": "code",
   "execution_count": 28,
   "id": "89af0c46",
   "metadata": {},
   "outputs": [
    {
     "data": {
      "text/plain": [
       "'t'"
      ]
     },
     "execution_count": 28,
     "metadata": {},
     "output_type": "execute_result"
    }
   ],
   "source": [
    "isim[0] # stringin ilk karakterini alir."
   ]
  },
  {
   "cell_type": "code",
   "execution_count": 29,
   "id": "e6c93b60",
   "metadata": {},
   "outputs": [
    {
     "data": {
      "text/plain": [
       "' '"
      ]
     },
     "execution_count": 29,
     "metadata": {},
     "output_type": "execute_result"
    }
   ],
   "source": [
    "isim[7] # neden bos cikti verdi? cunku bosluk karakteri de bir karakterdir."
   ]
  },
  {
   "cell_type": "code",
   "execution_count": 30,
   "id": "b61101a5",
   "metadata": {},
   "outputs": [
    {
     "data": {
      "text/plain": [
       "'ahan '"
      ]
     },
     "execution_count": 30,
     "metadata": {},
     "output_type": "execute_result"
    }
   ],
   "source": [
    "isim[3:8] # 3. karakterden 4. karaktere kadar olan karakterleri alir."
   ]
  },
  {
   "cell_type": "code",
   "execution_count": 31,
   "id": "517d1185",
   "metadata": {},
   "outputs": [
    {
     "data": {
      "text/plain": [
       "'aa '"
      ]
     },
     "execution_count": 31,
     "metadata": {},
     "output_type": "execute_result"
    }
   ],
   "source": [
    "isim[3:8:2] # 3. karakterden 8. karaktere kadar olan karakterleri 2 karakter atlayarak alir."
   ]
  },
  {
   "cell_type": "code",
   "execution_count": 32,
   "id": "bbb2ef4c",
   "metadata": {},
   "outputs": [
    {
     "data": {
      "text/plain": [
       "'tunahan erturk'"
      ]
     },
     "execution_count": 32,
     "metadata": {},
     "output_type": "execute_result"
    }
   ],
   "source": [
    "isim # jupiter notebook'ta print fonksiyonu kullanmadan degiskeni yazdirmak icin degiskenin adini yazmak yeterlidir."
   ]
  },
  {
   "cell_type": "code",
   "execution_count": 33,
   "id": "0df01a5d",
   "metadata": {},
   "outputs": [
    {
     "data": {
      "text/plain": [
       "\"Turkiyenin en buyuk sehri Istanbul'dur\""
      ]
     },
     "execution_count": 33,
     "metadata": {},
     "output_type": "execute_result"
    }
   ],
   "source": [
    "\"Turkiyenin en buyuk sehri Istanbul'dur\" # string icerisinde cift tirnak kullanmak icin ters slash kullanilir."
   ]
  },
  {
   "cell_type": "code",
   "execution_count": 34,
   "id": "03ed77af",
   "metadata": {},
   "outputs": [
    {
     "name": "stdout",
     "output_type": "stream",
     "text": [
      "Turkiyenin en buyuk \n",
      " sehri Istanbul'dur\n"
     ]
    }
   ],
   "source": [
    "print(\"Turkiyenin en buyuk \\n sehri Istanbul'dur\") # \\n karakteri alt satira gecis yapar."
   ]
  },
  {
   "cell_type": "code",
   "execution_count": 35,
   "id": "353d321d",
   "metadata": {},
   "outputs": [
    {
     "name": "stdout",
     "output_type": "stream",
     "text": [
      "Turkiyenin en buyuk \t sehri Istanbul'dur\n"
     ]
    }
   ],
   "source": [
    "print(\"Turkiyenin en buyuk \\t sehri Istanbul'dur\") # \\t karakteri bir tab kadar bosluk birakir."
   ]
  },
  {
   "cell_type": "code",
   "execution_count": 36,
   "id": "687b1c8e",
   "metadata": {},
   "outputs": [
    {
     "data": {
      "text/plain": [
       "'tunahantunahantunahan'"
      ]
     },
     "execution_count": 36,
     "metadata": {},
     "output_type": "execute_result"
    }
   ],
   "source": [
    "\"tunahan\" * 3 # stringi 3 kere yanyana yazar."
   ]
  },
  {
   "cell_type": "code",
   "execution_count": 37,
   "id": "f0fbcb47",
   "metadata": {},
   "outputs": [
    {
     "data": {
      "text/plain": [
       "'tunahanerturk'"
      ]
     },
     "execution_count": 37,
     "metadata": {},
     "output_type": "execute_result"
    }
   ],
   "source": [
    "\"tunahan\" + \"erturk\" # stringleri birlestirir."
   ]
  },
  {
   "cell_type": "code",
   "execution_count": 38,
   "id": "30d580b2",
   "metadata": {},
   "outputs": [
    {
     "data": {
      "text/plain": [
       "'tunahan erturk'"
      ]
     },
     "execution_count": 38,
     "metadata": {},
     "output_type": "execute_result"
    }
   ],
   "source": [
    "\"tunahan\" + \" \" + \"erturk\" # stringleri birlestirirken aralarina bosluk eklemek icin bosluk karakteri eklenir."
   ]
  },
  {
   "cell_type": "markdown",
   "id": "96413c40",
   "metadata": {},
   "source": [
    "### String-Methodlar"
   ]
  },
  {
   "cell_type": "code",
   "execution_count": 39,
   "id": "13acf98e",
   "metadata": {},
   "outputs": [
    {
     "data": {
      "text/plain": [
       "'TUNAHAN ERTURK'"
      ]
     },
     "execution_count": 39,
     "metadata": {},
     "output_type": "execute_result"
    }
   ],
   "source": [
    "\"tunahan erturk\".upper() # stringi buyuk harfe cevir"
   ]
  },
  {
   "cell_type": "code",
   "execution_count": 40,
   "id": "fbd1afc4",
   "metadata": {},
   "outputs": [
    {
     "data": {
      "text/plain": [
       "'tunahan erturk'"
      ]
     },
     "execution_count": 40,
     "metadata": {},
     "output_type": "execute_result"
    }
   ],
   "source": [
    "'TUNAHAN ERTURK'.lower() # stringi kucuk harfe cevir"
   ]
  },
  {
   "cell_type": "code",
   "execution_count": 41,
   "id": "669a191a",
   "metadata": {},
   "outputs": [
    {
     "data": {
      "text/plain": [
       "'Tunahan erturk'"
      ]
     },
     "execution_count": 41,
     "metadata": {},
     "output_type": "execute_result"
    }
   ],
   "source": [
    "\"tunahan erturk\".capitalize() # stringin sadece ilk harfini buyuk yapar."
   ]
  },
  {
   "cell_type": "code",
   "execution_count": 42,
   "id": "ecf79bd3",
   "metadata": {},
   "outputs": [],
   "source": [
    "isim = \"tunahan erturk\""
   ]
  },
  {
   "cell_type": "code",
   "execution_count": 43,
   "id": "7977689f",
   "metadata": {},
   "outputs": [
    {
     "data": {
      "text/plain": [
       "'TUNAHAN ERTURK'"
      ]
     },
     "execution_count": 43,
     "metadata": {},
     "output_type": "execute_result"
    }
   ],
   "source": [
    "isim.upper() # stringi buyuk harfe cevirir."
   ]
  },
  {
   "cell_type": "code",
   "execution_count": 44,
   "id": "25a9ffc3",
   "metadata": {},
   "outputs": [
    {
     "data": {
      "text/plain": [
       "'tunahan erturk'"
      ]
     },
     "execution_count": 44,
     "metadata": {},
     "output_type": "execute_result"
    }
   ],
   "source": [
    "isim "
   ]
  },
  {
   "cell_type": "code",
   "execution_count": 45,
   "id": "e4d576bc",
   "metadata": {},
   "outputs": [
    {
     "data": {
      "text/plain": [
       "2"
      ]
     },
     "execution_count": 45,
     "metadata": {},
     "output_type": "execute_result"
    }
   ],
   "source": [
    "isim.count('a') # string icerisinde a harfinin kac tane oldugunu sayar."
   ]
  },
  {
   "cell_type": "code",
   "execution_count": 46,
   "id": "9e9b4021",
   "metadata": {},
   "outputs": [
    {
     "data": {
      "text/plain": [
       "3"
      ]
     },
     "execution_count": 46,
     "metadata": {},
     "output_type": "execute_result"
    }
   ],
   "source": [
    "isim.find('a') # string icerisinde a harfinin kacinci karakterde oldugunu bulur."
   ]
  },
  {
   "cell_type": "code",
   "execution_count": 47,
   "id": "0d1c30bc",
   "metadata": {},
   "outputs": [
    {
     "data": {
      "text/plain": [
       "3"
      ]
     },
     "execution_count": 47,
     "metadata": {},
     "output_type": "execute_result"
    }
   ],
   "source": [
    "isim.index('a') # string icerisinde a harfinin kacinci karakterde oldugunu bulur."
   ]
  },
  {
   "cell_type": "code",
   "execution_count": 48,
   "id": "396b31f5",
   "metadata": {},
   "outputs": [],
   "source": [
    "yeni = \"   tunahan erturk    \""
   ]
  },
  {
   "cell_type": "code",
   "execution_count": 49,
   "id": "eefa5e48",
   "metadata": {},
   "outputs": [
    {
     "data": {
      "text/plain": [
       "'tunahan erturk    '"
      ]
     },
     "execution_count": 49,
     "metadata": {},
     "output_type": "execute_result"
    }
   ],
   "source": [
    "yeni.lstrip() # stringin basindaki bosluklari siler."
   ]
  },
  {
   "cell_type": "code",
   "execution_count": 50,
   "id": "a94ec7e7",
   "metadata": {},
   "outputs": [
    {
     "data": {
      "text/plain": [
       "'   tunahan erturk'"
      ]
     },
     "execution_count": 50,
     "metadata": {},
     "output_type": "execute_result"
    }
   ],
   "source": [
    "yeni.rstrip() # stringin sonundaki bosluklari siler."
   ]
  },
  {
   "cell_type": "markdown",
   "id": "c31a284f",
   "metadata": {},
   "source": [
    "###### Veri analizinde kullanilir"
   ]
  },
  {
   "cell_type": "code",
   "execution_count": 51,
   "id": "d2443ed8",
   "metadata": {},
   "outputs": [
    {
     "data": {
      "text/plain": [
       "'tunahan erturk'"
      ]
     },
     "execution_count": 51,
     "metadata": {},
     "output_type": "execute_result"
    }
   ],
   "source": [
    "yeni.strip() # stringin basindaki ve sonundaki bosluklari siler. "
   ]
  },
  {
   "cell_type": "code",
   "execution_count": 52,
   "id": "dc09077e",
   "metadata": {},
   "outputs": [
    {
     "data": {
      "text/plain": [
       "'tunehen erturk'"
      ]
     },
     "execution_count": 52,
     "metadata": {},
     "output_type": "execute_result"
    }
   ],
   "source": [
    "isim.replace('a','e') # string icerisindeki a harflerini e harfi ile degistirir."
   ]
  },
  {
   "cell_type": "code",
   "execution_count": 53,
   "id": "aed65eaa",
   "metadata": {},
   "outputs": [],
   "source": [
    "isim = \"tunahan\"\n",
    "soyisim = \"erturk\""
   ]
  },
  {
   "cell_type": "code",
   "execution_count": 54,
   "id": "44f38c31",
   "metadata": {},
   "outputs": [
    {
     "name": "stdout",
     "output_type": "stream",
     "text": [
      "Benim ismim tunahan soyadim erturk\n"
     ]
    }
   ],
   "source": [
    "# Format methodu (string icerisindeki {} parantezlerine degiskenleri yerlestirir.)\n",
    "print(\"Benim ismim {} soyadim {}\" .format(isim,soyisim)) "
   ]
  },
  {
   "cell_type": "markdown",
   "id": "eb2c4be7",
   "metadata": {},
   "source": [
    "#### Boolean Veri Tipi\n"
   ]
  },
  {
   "cell_type": "code",
   "execution_count": 55,
   "id": "4d117ffd",
   "metadata": {},
   "outputs": [],
   "source": [
    "# Boolean veri tipi (True ve False degerlerini alir.) Karsilastirma islemlerinde kullanilir."
   ]
  },
  {
   "cell_type": "code",
   "execution_count": 56,
   "id": "94c75cb2",
   "metadata": {},
   "outputs": [
    {
     "data": {
      "text/plain": [
       "True"
      ]
     },
     "execution_count": 56,
     "metadata": {},
     "output_type": "execute_result"
    }
   ],
   "source": [
    "5 > 4 # True doner."
   ]
  },
  {
   "cell_type": "code",
   "execution_count": 57,
   "id": "8414cdb5",
   "metadata": {},
   "outputs": [
    {
     "data": {
      "text/plain": [
       "False"
      ]
     },
     "execution_count": 57,
     "metadata": {},
     "output_type": "execute_result"
    }
   ],
   "source": [
    "7 < 5 # False doner."
   ]
  },
  {
   "cell_type": "code",
   "execution_count": 58,
   "id": "56b6d2af",
   "metadata": {},
   "outputs": [
    {
     "data": {
      "text/plain": [
       "True"
      ]
     },
     "execution_count": 58,
     "metadata": {},
     "output_type": "execute_result"
    }
   ],
   "source": [
    "5 == 5 # == esit mi anlamina gelir. True doner."
   ]
  },
  {
   "cell_type": "code",
   "execution_count": 59,
   "id": "45007e06",
   "metadata": {},
   "outputs": [
    {
     "data": {
      "text/plain": [
       "False"
      ]
     },
     "execution_count": 59,
     "metadata": {},
     "output_type": "execute_result"
    }
   ],
   "source": [
    "4 == 5 # == iki esitlik isareti ile karsilastirma yapilir."
   ]
  },
  {
   "cell_type": "code",
   "execution_count": 60,
   "id": "63ecd5b7",
   "metadata": {},
   "outputs": [
    {
     "data": {
      "text/plain": [
       "True"
      ]
     },
     "execution_count": 60,
     "metadata": {},
     "output_type": "execute_result"
    }
   ],
   "source": [
    "7 >= 7 # >= buyuk esit anlamina gelir."
   ]
  },
  {
   "cell_type": "code",
   "execution_count": 61,
   "id": "a292a17e",
   "metadata": {},
   "outputs": [
    {
     "data": {
      "text/plain": [
       "False"
      ]
     },
     "execution_count": 61,
     "metadata": {},
     "output_type": "execute_result"
    }
   ],
   "source": [
    "7 >= 9 # False doner cunku 7 9'dan kucuktur."
   ]
  },
  {
   "cell_type": "code",
   "execution_count": 62,
   "id": "25ec695e",
   "metadata": {},
   "outputs": [
    {
     "data": {
      "text/plain": [
       "True"
      ]
     },
     "execution_count": 62,
     "metadata": {},
     "output_type": "execute_result"
    }
   ],
   "source": [
    "8 <= 9 # True doner cunku 8 9'dan kucuk esittir."
   ]
  },
  {
   "cell_type": "code",
   "execution_count": 63,
   "id": "b5046bd8",
   "metadata": {},
   "outputs": [
    {
     "data": {
      "text/plain": [
       "False"
      ]
     },
     "execution_count": 63,
     "metadata": {},
     "output_type": "execute_result"
    }
   ],
   "source": [
    "6 != 6 # != esit degil anlamina gelir. ( False doner cunku 6 6'ya esittir. )"
   ]
  },
  {
   "cell_type": "code",
   "execution_count": 64,
   "id": "754f1551",
   "metadata": {},
   "outputs": [
    {
     "data": {
      "text/plain": [
       "True"
      ]
     },
     "execution_count": 64,
     "metadata": {},
     "output_type": "execute_result"
    }
   ],
   "source": [
    "6 != 5 # True doner cunku 6 5'e esit degildir."
   ]
  },
  {
   "cell_type": "markdown",
   "id": "df0d28b8",
   "metadata": {},
   "source": [
    "### List (Listeler)"
   ]
  },
  {
   "cell_type": "code",
   "execution_count": 65,
   "id": "bdd3f087",
   "metadata": {},
   "outputs": [],
   "source": [
    "insan = [\"tunahan\",\"erturk\",29,\"python\"] # listeler [] ile tanimlanir."
   ]
  },
  {
   "cell_type": "code",
   "execution_count": 66,
   "id": "bb5e5acd",
   "metadata": {},
   "outputs": [
    {
     "name": "stdout",
     "output_type": "stream",
     "text": [
      "['tunahan', 'erturk', 29, 'python']\n"
     ]
    }
   ],
   "source": [
    "print(insan)"
   ]
  },
  {
   "cell_type": "code",
   "execution_count": 67,
   "id": "b6cdd6d9",
   "metadata": {},
   "outputs": [
    {
     "data": {
      "text/plain": [
       "'tunahan'"
      ]
     },
     "execution_count": 67,
     "metadata": {},
     "output_type": "execute_result"
    }
   ],
   "source": [
    "insan [0] # listelerde index numaralari 0'dan baslar."
   ]
  },
  {
   "cell_type": "code",
   "execution_count": 68,
   "id": "91551a85",
   "metadata": {},
   "outputs": [
    {
     "data": {
      "text/plain": [
       "'erturk'"
      ]
     },
     "execution_count": 68,
     "metadata": {},
     "output_type": "execute_result"
    }
   ],
   "source": [
    "insan[1] # insan listesinin 1. indexindeki elemani alir."
   ]
  },
  {
   "cell_type": "code",
   "execution_count": 69,
   "id": "e97f1a2c",
   "metadata": {},
   "outputs": [
    {
     "data": {
      "text/plain": [
       "['tunahan', 'erturk']"
      ]
     },
     "execution_count": 69,
     "metadata": {},
     "output_type": "execute_result"
    }
   ],
   "source": [
    "insan[0:2] # insan listesinin 0. indexinden 2. indexine kadar olan elemanlari alir."
   ]
  },
  {
   "cell_type": "code",
   "execution_count": 70,
   "id": "39c1705f",
   "metadata": {},
   "outputs": [
    {
     "data": {
      "text/plain": [
       "['tunahan', 29]"
      ]
     },
     "execution_count": 70,
     "metadata": {},
     "output_type": "execute_result"
    }
   ],
   "source": [
    "insan[0:3:2] # insan listesinin 0. indexinden 3. indexine kadar olan elemanlari 2 atlayarak alir."
   ]
  },
  {
   "cell_type": "code",
   "execution_count": 71,
   "id": "d98d3d98",
   "metadata": {},
   "outputs": [],
   "source": [
    "isim = \"tunahan\""
   ]
  },
  {
   "cell_type": "markdown",
   "id": "fe025f8a",
   "metadata": {},
   "source": [
    "isim[0] = \"T\" # stringlerde degisiklik yapilamaz. hata verir."
   ]
  },
  {
   "cell_type": "code",
   "execution_count": 72,
   "id": "117176f5",
   "metadata": {},
   "outputs": [],
   "source": [
    "insan[0] = \"Ali\" # listelerde degisiklik yapilabilir."
   ]
  },
  {
   "cell_type": "code",
   "execution_count": 73,
   "id": "94af5676",
   "metadata": {},
   "outputs": [
    {
     "name": "stdout",
     "output_type": "stream",
     "text": [
      "['Ali', 'erturk', 29, 'python']\n"
     ]
    }
   ],
   "source": [
    "print(insan) # insan listesindeki 0. indexdeki elemani degisti."
   ]
  },
  {
   "cell_type": "code",
   "execution_count": 74,
   "id": "ca766c47",
   "metadata": {},
   "outputs": [],
   "source": [
    "insanlar = [[\"tunahan\", \"erturk\"], [\"ali\", \"yazar\"], [\"veli\", \"bozar\"]] # ic ice listeler"
   ]
  },
  {
   "cell_type": "code",
   "execution_count": 75,
   "id": "2010145d",
   "metadata": {},
   "outputs": [
    {
     "data": {
      "text/plain": [
       "['tunahan', 'erturk']"
      ]
     },
     "execution_count": 75,
     "metadata": {},
     "output_type": "execute_result"
    }
   ],
   "source": [
    "insanlar[0] # insanlar listesinin 0. indexindeki elemani alir."
   ]
  },
  {
   "cell_type": "code",
   "execution_count": 76,
   "id": "7fc49a03",
   "metadata": {},
   "outputs": [
    {
     "data": {
      "text/plain": [
       "'erturk'"
      ]
     },
     "execution_count": 76,
     "metadata": {},
     "output_type": "execute_result"
    }
   ],
   "source": [
    "insanlar[0][1] # insanlar listesinin 0. indexindeki 1. indexindeki elemani alir."
   ]
  },
  {
   "cell_type": "code",
   "execution_count": 77,
   "id": "cb63ebc0",
   "metadata": {},
   "outputs": [
    {
     "data": {
      "text/plain": [
       "'ali'"
      ]
     },
     "execution_count": 77,
     "metadata": {},
     "output_type": "execute_result"
    }
   ],
   "source": [
    "insanlar[1][0] # insanlar listesinin 1. indexindeki 0. indexindeki elemani alir."
   ]
  },
  {
   "cell_type": "code",
   "execution_count": 78,
   "id": "f8911d11",
   "metadata": {},
   "outputs": [
    {
     "data": {
      "text/plain": [
       "3"
      ]
     },
     "execution_count": 78,
     "metadata": {},
     "output_type": "execute_result"
    }
   ],
   "source": [
    "len(insanlar) # insanlar listesinin uzunlugunu verir."
   ]
  },
  {
   "cell_type": "code",
   "execution_count": 79,
   "id": "5b3a504f",
   "metadata": {},
   "outputs": [
    {
     "data": {
      "text/plain": [
       "4"
      ]
     },
     "execution_count": 79,
     "metadata": {},
     "output_type": "execute_result"
    }
   ],
   "source": [
    "len(insan) # insan listesinin uzunlugunu verir."
   ]
  },
  {
   "cell_type": "code",
   "execution_count": 80,
   "id": "bfbc5fd8",
   "metadata": {},
   "outputs": [],
   "source": [
    "sayilar = [1,2,3,5,76,878,657567,45] #liste oldugunu belirtmek icin [] kullanilir. ve bu yuzden liste oldugunu anladik.  "
   ]
  },
  {
   "cell_type": "code",
   "execution_count": 81,
   "id": "66f40965",
   "metadata": {},
   "outputs": [
    {
     "data": {
      "text/plain": [
       "8"
      ]
     },
     "execution_count": 81,
     "metadata": {},
     "output_type": "execute_result"
    }
   ],
   "source": [
    "len(sayilar) # sayilar listesinin uzunlugunu verir."
   ]
  },
  {
   "cell_type": "code",
   "execution_count": 82,
   "id": "d856cabb",
   "metadata": {},
   "outputs": [
    {
     "data": {
      "text/plain": [
       "45"
      ]
     },
     "execution_count": 82,
     "metadata": {},
     "output_type": "execute_result"
    }
   ],
   "source": [
    "sayilar[-1] # sayilar listesinin son elemanini alir."
   ]
  },
  {
   "cell_type": "code",
   "execution_count": 83,
   "id": "9ccadcc5",
   "metadata": {},
   "outputs": [
    {
     "data": {
      "text/plain": [
       "76"
      ]
     },
     "execution_count": 83,
     "metadata": {},
     "output_type": "execute_result"
    }
   ],
   "source": [
    "sayilar[-4] # sayilar listesinin sondan 4. elemanini alir."
   ]
  },
  {
   "cell_type": "code",
   "execution_count": 84,
   "id": "03a57c67",
   "metadata": {},
   "outputs": [
    {
     "data": {
      "text/plain": [
       "[76, 878, 657567, 45]"
      ]
     },
     "execution_count": 84,
     "metadata": {},
     "output_type": "execute_result"
    }
   ],
   "source": [
    "sayilar[-4:] # sayilar listesinin sondan 4. elemandan son elemana kadar olan elemanlari alir."
   ]
  },
  {
   "cell_type": "code",
   "execution_count": 85,
   "id": "717e12bf",
   "metadata": {},
   "outputs": [
    {
     "data": {
      "text/plain": [
       "[76, 878, 657567]"
      ]
     },
     "execution_count": 85,
     "metadata": {},
     "output_type": "execute_result"
    }
   ],
   "source": [
    "sayilar[-4:-1] # sayilar listesinin sondan 4. elemandan sondan 1. elemana kadar olan elemanlari alir. ama sondan 1. elemani almaz. neden almaz? cunku sondan 1. elemanin index numarasi -1'dir."
   ]
  },
  {
   "cell_type": "code",
   "execution_count": 86,
   "id": "53a59178",
   "metadata": {},
   "outputs": [
    {
     "data": {
      "text/plain": [
       "[76, 878]"
      ]
     },
     "execution_count": 86,
     "metadata": {},
     "output_type": "execute_result"
    }
   ],
   "source": [
    "sayilar[-4:-2] # sayilar listesinin sondan 4. elemandan sondan 2. elemana kadar olan elemanlari alir."
   ]
  },
  {
   "cell_type": "code",
   "execution_count": 87,
   "id": "aefd4c95",
   "metadata": {},
   "outputs": [],
   "source": [
    "isim = \"tunahan\""
   ]
  },
  {
   "cell_type": "code",
   "execution_count": 88,
   "id": "d0a3835e",
   "metadata": {},
   "outputs": [
    {
     "data": {
      "text/plain": [
       "7"
      ]
     },
     "execution_count": 88,
     "metadata": {},
     "output_type": "execute_result"
    }
   ],
   "source": [
    "len(isim) # isim stringinin uzunlugunu verir."
   ]
  },
  {
   "cell_type": "code",
   "execution_count": 89,
   "id": "b56f6317",
   "metadata": {},
   "outputs": [],
   "source": [
    "sayilar.append(100) # sayilar listesine 100 elemanini ekler."
   ]
  },
  {
   "cell_type": "code",
   "execution_count": 90,
   "id": "a3e223b0",
   "metadata": {},
   "outputs": [
    {
     "name": "stdout",
     "output_type": "stream",
     "text": [
      "[1, 2, 3, 5, 76, 878, 657567, 45, 100]\n"
     ]
    }
   ],
   "source": [
    "print(sayilar)"
   ]
  },
  {
   "cell_type": "code",
   "execution_count": 91,
   "id": "cd761a58",
   "metadata": {},
   "outputs": [],
   "source": [
    "sayilar.insert(3,200) # sayilar listesinin 3. indexine 200 elemanini ekler."
   ]
  },
  {
   "cell_type": "code",
   "execution_count": 92,
   "id": "a78e7c97",
   "metadata": {},
   "outputs": [
    {
     "name": "stdout",
     "output_type": "stream",
     "text": [
      "[1, 2, 3, 200, 5, 76, 878, 657567, 45, 100]\n"
     ]
    }
   ],
   "source": [
    "print(sayilar)"
   ]
  },
  {
   "cell_type": "code",
   "execution_count": 93,
   "id": "ce7e4c54",
   "metadata": {},
   "outputs": [],
   "source": [
    "sayilar.remove(200) # sayilar listesinden 200 elemanini siler."
   ]
  },
  {
   "cell_type": "code",
   "execution_count": 94,
   "id": "146c23a6",
   "metadata": {},
   "outputs": [
    {
     "name": "stdout",
     "output_type": "stream",
     "text": [
      "[1, 2, 3, 5, 76, 878, 657567, 45, 100]\n"
     ]
    }
   ],
   "source": [
    "print(sayilar)"
   ]
  },
  {
   "cell_type": "code",
   "execution_count": 95,
   "id": "d0f0bc0a",
   "metadata": {},
   "outputs": [
    {
     "data": {
      "text/plain": [
       "100"
      ]
     },
     "execution_count": 95,
     "metadata": {},
     "output_type": "execute_result"
    }
   ],
   "source": [
    "sayilar.pop() # sayilar listesinin son elemanini siler. pop fonksiyonu icine index numarasi alirsa o index numarasindaki elemani siler."
   ]
  },
  {
   "cell_type": "code",
   "execution_count": 96,
   "id": "0171ab88",
   "metadata": {},
   "outputs": [
    {
     "name": "stdout",
     "output_type": "stream",
     "text": [
      "[1, 2, 3, 5, 76, 878, 657567, 45]\n"
     ]
    }
   ],
   "source": [
    "print(sayilar) # sayilar listesinin son elemani silindi, son eleman 100 oldugu icin 100 elemani silindi."
   ]
  },
  {
   "cell_type": "code",
   "execution_count": 97,
   "id": "566f1fc3",
   "metadata": {},
   "outputs": [
    {
     "data": {
      "text/plain": [
       "5"
      ]
     },
     "execution_count": 97,
     "metadata": {},
     "output_type": "execute_result"
    }
   ],
   "source": [
    "sayilar.pop(3) # sayilar listesinin 3. indexindeki elemani siler."
   ]
  },
  {
   "cell_type": "code",
   "execution_count": 98,
   "id": "7e48e11f",
   "metadata": {},
   "outputs": [
    {
     "name": "stdout",
     "output_type": "stream",
     "text": [
      "[1, 2, 3, 76, 878, 657567, 45]\n"
     ]
    }
   ],
   "source": [
    "print(sayilar) # sayilar listesinin 3. indexindeki eleman silindi"
   ]
  },
  {
   "cell_type": "code",
   "execution_count": 99,
   "id": "c77c16b5",
   "metadata": {},
   "outputs": [
    {
     "data": {
      "text/plain": [
       "[1, 2, 3, 76, 878, 657567, 45]"
      ]
     },
     "execution_count": 99,
     "metadata": {},
     "output_type": "execute_result"
    }
   ],
   "source": [
    "sayilar.copy() # sayilar listesini kopyalar. ve eski listeyi degistirmez."
   ]
  },
  {
   "cell_type": "code",
   "execution_count": 100,
   "id": "00ad483e",
   "metadata": {},
   "outputs": [],
   "source": [
    "yeni = sayilar.copy() # sayilar listesini yeni adinda bir degiskene kopyalar. ve artik bu \"yeni\"  adindanaki listede degisiklik yapabilirsiniz."
   ]
  },
  {
   "cell_type": "code",
   "execution_count": 101,
   "id": "aff1fb25",
   "metadata": {},
   "outputs": [
    {
     "name": "stdout",
     "output_type": "stream",
     "text": [
      "[1, 2, 3, 76, 878, 657567, 45]\n"
     ]
    }
   ],
   "source": [
    "print(yeni) # yeni listesi sayilar listesinin kopyasidir."
   ]
  },
  {
   "cell_type": "code",
   "execution_count": 102,
   "id": "8945fd4f",
   "metadata": {},
   "outputs": [],
   "source": [
    "a = [1,2,3,4]\n",
    "b = [5,6,7]"
   ]
  },
  {
   "cell_type": "code",
   "execution_count": 103,
   "id": "3cb4036e",
   "metadata": {},
   "outputs": [
    {
     "data": {
      "text/plain": [
       "[1, 2, 3, 4, 5, 6, 7]"
      ]
     },
     "execution_count": 103,
     "metadata": {},
     "output_type": "execute_result"
    }
   ],
   "source": [
    "a + b # iki listeyi birlestirir."
   ]
  },
  {
   "cell_type": "code",
   "execution_count": 104,
   "id": "d6f5774a",
   "metadata": {},
   "outputs": [],
   "source": [
    "c = a + b"
   ]
  },
  {
   "cell_type": "code",
   "execution_count": 105,
   "id": "6a8767e9",
   "metadata": {},
   "outputs": [
    {
     "name": "stdout",
     "output_type": "stream",
     "text": [
      "[1, 2, 3, 4, 5, 6, 7]\n"
     ]
    }
   ],
   "source": [
    "print(c)"
   ]
  },
  {
   "cell_type": "code",
   "execution_count": 106,
   "id": "5472c50e",
   "metadata": {},
   "outputs": [],
   "source": [
    "c = [1,2,3,4]\n",
    "d = [5,6,7,8,9]"
   ]
  },
  {
   "cell_type": "code",
   "execution_count": 107,
   "id": "d3814239",
   "metadata": {},
   "outputs": [],
   "source": [
    "c.extend(d) # c listesine d listesini ekler."
   ]
  },
  {
   "cell_type": "code",
   "execution_count": 108,
   "id": "371d3f28",
   "metadata": {},
   "outputs": [
    {
     "name": "stdout",
     "output_type": "stream",
     "text": [
      "[1, 2, 3, 4, 5, 6, 7, 8, 9]\n"
     ]
    }
   ],
   "source": [
    "print(c) # c listesine d listesi eklendi."
   ]
  },
  {
   "cell_type": "code",
   "execution_count": 109,
   "id": "4b0fc388",
   "metadata": {},
   "outputs": [],
   "source": [
    "d = [5,6,7,8,9,10,10,10]"
   ]
  },
  {
   "cell_type": "code",
   "execution_count": 110,
   "id": "f1dc0637",
   "metadata": {},
   "outputs": [
    {
     "data": {
      "text/plain": [
       "3"
      ]
     },
     "execution_count": 110,
     "metadata": {},
     "output_type": "execute_result"
    }
   ],
   "source": [
    "d.count(10) # d listesinde 10 elemaninin kac tane oldugunu sayar. Yani d listesinde 10 dan kac tane oldugunu soyler."
   ]
  },
  {
   "cell_type": "code",
   "execution_count": 111,
   "id": "4d788ff0",
   "metadata": {},
   "outputs": [
    {
     "data": {
      "text/plain": [
       "1"
      ]
     },
     "execution_count": 111,
     "metadata": {},
     "output_type": "execute_result"
    }
   ],
   "source": [
    "d.index(6) # d listesinde 10 elemaninin kacinci indexde oldugunu soyler."
   ]
  },
  {
   "cell_type": "code",
   "execution_count": 112,
   "id": "37c40bf3",
   "metadata": {},
   "outputs": [],
   "source": [
    "d.insert(3,100) # d listesinin 3. indexine 100 elemanini ekler. ilki index numarasi, ikincisi eklemek istedigimiz eleman."
   ]
  },
  {
   "cell_type": "code",
   "execution_count": 113,
   "id": "becfea1e",
   "metadata": {},
   "outputs": [
    {
     "name": "stdout",
     "output_type": "stream",
     "text": [
      "[5, 6, 7, 100, 8, 9, 10, 10, 10]\n"
     ]
    }
   ],
   "source": [
    "print(d)"
   ]
  },
  {
   "cell_type": "code",
   "execution_count": 114,
   "id": "dbc95506",
   "metadata": {},
   "outputs": [],
   "source": [
    "d.insert(4,\"tek\")"
   ]
  },
  {
   "cell_type": "code",
   "execution_count": 115,
   "id": "a07ed033",
   "metadata": {},
   "outputs": [
    {
     "name": "stdout",
     "output_type": "stream",
     "text": [
      "[5, 6, 7, 100, 'tek', 8, 9, 10, 10, 10]\n"
     ]
    }
   ],
   "source": [
    "print(d)"
   ]
  },
  {
   "cell_type": "code",
   "execution_count": 116,
   "id": "8392fb63",
   "metadata": {},
   "outputs": [
    {
     "data": {
      "text/plain": [
       "'tek'"
      ]
     },
     "execution_count": 116,
     "metadata": {},
     "output_type": "execute_result"
    }
   ],
   "source": [
    "d.pop(4) # d listesinin 4. indexindeki elemani siler."
   ]
  },
  {
   "cell_type": "code",
   "execution_count": 117,
   "id": "a476aae6",
   "metadata": {},
   "outputs": [
    {
     "name": "stdout",
     "output_type": "stream",
     "text": [
      "[5, 6, 7, 100, 8, 9, 10, 10, 10]\n"
     ]
    }
   ],
   "source": [
    "print(d)"
   ]
  },
  {
   "cell_type": "code",
   "execution_count": 118,
   "id": "d9a9724c",
   "metadata": {},
   "outputs": [],
   "source": [
    "g = [2,45,3,1,34,23,12,5,35,21,12]"
   ]
  },
  {
   "cell_type": "code",
   "execution_count": 119,
   "id": "72ed594a",
   "metadata": {},
   "outputs": [],
   "source": [
    "g.sort() # g listesini kucukten buyuge siralar."
   ]
  },
  {
   "cell_type": "code",
   "execution_count": 120,
   "id": "aa22e337",
   "metadata": {},
   "outputs": [
    {
     "name": "stdout",
     "output_type": "stream",
     "text": [
      "[1, 2, 3, 5, 12, 12, 21, 23, 34, 35, 45]\n"
     ]
    }
   ],
   "source": [
    "print(g)"
   ]
  },
  {
   "cell_type": "code",
   "execution_count": 121,
   "id": "d6c52713",
   "metadata": {},
   "outputs": [],
   "source": [
    "isimler = [\"tunahan\",\"ali\",\"veli\",\"mehmet\",\"ahmet\"]"
   ]
  },
  {
   "cell_type": "code",
   "execution_count": 122,
   "id": "921e8896",
   "metadata": {},
   "outputs": [],
   "source": [
    "isimler.reverse() # isimler listesini ters cevirir."
   ]
  },
  {
   "cell_type": "code",
   "execution_count": 123,
   "id": "fc0dd17f",
   "metadata": {},
   "outputs": [
    {
     "name": "stdout",
     "output_type": "stream",
     "text": [
      "['ahmet', 'mehmet', 'veli', 'ali', 'tunahan']\n"
     ]
    }
   ],
   "source": [
    "print(isimler)"
   ]
  },
  {
   "cell_type": "code",
   "execution_count": 124,
   "id": "fbfb9ba1",
   "metadata": {},
   "outputs": [],
   "source": [
    "isimler.sort() # isimler listesini alfabetik siralar."
   ]
  },
  {
   "cell_type": "code",
   "execution_count": 125,
   "id": "7bd7705a",
   "metadata": {},
   "outputs": [
    {
     "name": "stdout",
     "output_type": "stream",
     "text": [
      "['ahmet', 'ali', 'mehmet', 'tunahan', 'veli']\n"
     ]
    }
   ],
   "source": [
    "print(isimler)"
   ]
  },
  {
   "cell_type": "code",
   "execution_count": 126,
   "id": "d7f90afe",
   "metadata": {},
   "outputs": [],
   "source": [
    "isimler.clear() # isimler listesini temizler."
   ]
  },
  {
   "cell_type": "code",
   "execution_count": 127,
   "id": "1e03af4a",
   "metadata": {},
   "outputs": [
    {
     "name": "stdout",
     "output_type": "stream",
     "text": [
      "[]\n"
     ]
    }
   ],
   "source": [
    "print(isimler) # isimler listesi temizlendi."
   ]
  },
  {
   "cell_type": "markdown",
   "id": "49174206",
   "metadata": {},
   "source": [
    "### Dictionaries (Sozlukler) \" { } \" bu ifade ile sozluk icine alinir"
   ]
  },
  {
   "cell_type": "code",
   "execution_count": 128,
   "id": "a484cd4f",
   "metadata": {},
   "outputs": [],
   "source": [
    "kimlik = {\"isim\":\"tunahan\",\n",
    "          \"soyisim\":\"erturk\",\n",
    "          \"yas\":29,\n",
    "            \"tc_no\" : 32424234234,\n",
    "             \"yer\" : \"Adana\" \n",
    "        } # sozlukler {} ile tanimlanir. key ve value degerleri vardir."
   ]
  },
  {
   "cell_type": "code",
   "execution_count": 129,
   "id": "572e60f0",
   "metadata": {},
   "outputs": [
    {
     "data": {
      "text/plain": [
       "'tunahan'"
      ]
     },
     "execution_count": 129,
     "metadata": {},
     "output_type": "execute_result"
    }
   ],
   "source": [
    "kimlik[\"isim\"] # sozluklerde key degeri ile value degerine ulasilir."
   ]
  },
  {
   "cell_type": "code",
   "execution_count": 130,
   "id": "e058a8ef",
   "metadata": {},
   "outputs": [
    {
     "data": {
      "text/plain": [
       "'Adana'"
      ]
     },
     "execution_count": 130,
     "metadata": {},
     "output_type": "execute_result"
    }
   ],
   "source": [
    "kimlik[\"yer\"] # sozluklerde key degeri ile value degerine ulasilir."
   ]
  },
  {
   "cell_type": "markdown",
   "id": "791ad277",
   "metadata": {},
   "source": [
    "kimlik[0] # sozluklerde index numarasi ile elemanlara ulasilamaz. hata verir. sozluklerde index numarasi yoktur."
   ]
  },
  {
   "cell_type": "code",
   "execution_count": 131,
   "id": "041e60d1",
   "metadata": {},
   "outputs": [],
   "source": [
    "kimlik[\"isim\"] = \"Ali\" # sozluklerde value degeri degistirilebilir."
   ]
  },
  {
   "cell_type": "code",
   "execution_count": 132,
   "id": "5b3a679d",
   "metadata": {},
   "outputs": [
    {
     "name": "stdout",
     "output_type": "stream",
     "text": [
      "{'isim': 'Ali', 'soyisim': 'erturk', 'yas': 29, 'tc_no': 32424234234, 'yer': 'Adana'}\n"
     ]
    }
   ],
   "source": [
    "print(kimlik)"
   ]
  },
  {
   "cell_type": "code",
   "execution_count": 133,
   "id": "511df472",
   "metadata": {},
   "outputs": [],
   "source": [
    "#key degerleri degistirilemez."
   ]
  },
  {
   "cell_type": "code",
   "execution_count": 134,
   "id": "cfbcceee",
   "metadata": {},
   "outputs": [
    {
     "data": {
      "text/plain": [
       "5"
      ]
     },
     "execution_count": 134,
     "metadata": {},
     "output_type": "execute_result"
    }
   ],
   "source": [
    "len(kimlik) # sozluklerin uzunlugunu verir."
   ]
  },
  {
   "cell_type": "code",
   "execution_count": 135,
   "id": "e0de4faf",
   "metadata": {},
   "outputs": [
    {
     "data": {
      "text/plain": [
       "dict_keys(['isim', 'soyisim', 'yas', 'tc_no', 'yer'])"
      ]
     },
     "execution_count": 135,
     "metadata": {},
     "output_type": "execute_result"
    }
   ],
   "source": [
    "kimlik.keys() # sozluklerin key degerlerini verir."
   ]
  },
  {
   "cell_type": "code",
   "execution_count": 136,
   "id": "8d63f4e8",
   "metadata": {},
   "outputs": [
    {
     "data": {
      "text/plain": [
       "dict_values(['Ali', 'erturk', 29, 32424234234, 'Adana'])"
      ]
     },
     "execution_count": 136,
     "metadata": {},
     "output_type": "execute_result"
    }
   ],
   "source": [
    "kimlik.values() # sozluklerin value degerlerini verir."
   ]
  },
  {
   "cell_type": "code",
   "execution_count": 137,
   "id": "99c1d6b0",
   "metadata": {},
   "outputs": [],
   "source": [
    "kimlik[\"yil\"] = 1992 # sozluklere yeni key ve value degeri ekler."
   ]
  },
  {
   "cell_type": "code",
   "execution_count": 138,
   "id": "7020d30f",
   "metadata": {},
   "outputs": [
    {
     "name": "stdout",
     "output_type": "stream",
     "text": [
      "{'isim': 'Ali', 'soyisim': 'erturk', 'yas': 29, 'tc_no': 32424234234, 'yer': 'Adana', 'yil': 1992}\n"
     ]
    }
   ],
   "source": [
    "print(kimlik)"
   ]
  },
  {
   "cell_type": "markdown",
   "id": "7e7f454b",
   "metadata": {},
   "source": [
    "##### Nested (ic ice eklemek)"
   ]
  },
  {
   "cell_type": "code",
   "execution_count": 139,
   "id": "950b468b",
   "metadata": {},
   "outputs": [],
   "source": [
    "kimlik = {\"isim\":\"tunahan\",\n",
    "          \"soyisim\":\"erturk\",\n",
    "          \"yas\":29,\n",
    "            \"tc_no\" : 32424234234,\n",
    "             \"yer\" : \"Adana\" , \n",
    "             \"bilgiler\" : {\n",
    "                 \"email\" : \"tuna@gmail.com\",\n",
    "                 \"kardes_sayisi\" : 2\n",
    "             } \n",
    "        } \n",
    "#nested dictionary (ic ice sozlukler) sozluklerin icine sozluk eklemek. {} icine {} eklemek."
   ]
  },
  {
   "cell_type": "code",
   "execution_count": 140,
   "id": "c4a29fa3",
   "metadata": {},
   "outputs": [
    {
     "name": "stdout",
     "output_type": "stream",
     "text": [
      "{'isim': 'tunahan', 'soyisim': 'erturk', 'yas': 29, 'tc_no': 32424234234, 'yer': 'Adana', 'bilgiler': {'email': 'tuna@gmail.com', 'kardes_sayisi': 2}}\n"
     ]
    }
   ],
   "source": [
    "print(kimlik)"
   ]
  },
  {
   "cell_type": "code",
   "execution_count": 141,
   "id": "771c7e1f",
   "metadata": {},
   "outputs": [],
   "source": [
    "#key neler eklenebilir? string, integer, float, boolean, tuple."
   ]
  },
  {
   "cell_type": "code",
   "execution_count": 142,
   "id": "5ae4b023",
   "metadata": {},
   "outputs": [],
   "source": [
    "#key neler eklenemez? list, dictionary, set (mutable olanlar eklenemez.)\n",
    "#value neler eklenebilir? string, integer, float, boolean, tuple, list, dictionary, set (mutable olanlar eklenir.)"
   ]
  },
  {
   "cell_type": "code",
   "execution_count": 143,
   "id": "ca60942c",
   "metadata": {},
   "outputs": [
    {
     "data": {
      "text/plain": [
       "dict_items([('isim', 'tunahan'), ('soyisim', 'erturk'), ('yas', 29), ('tc_no', 32424234234), ('yer', 'Adana'), ('bilgiler', {'email': 'tuna@gmail.com', 'kardes_sayisi': 2})])"
      ]
     },
     "execution_count": 143,
     "metadata": {},
     "output_type": "execute_result"
    }
   ],
   "source": [
    "kimlik.items() # sozluklerin key ve value degerlerini verir."
   ]
  },
  {
   "cell_type": "code",
   "execution_count": 144,
   "id": "55b9dee3",
   "metadata": {},
   "outputs": [
    {
     "data": {
      "text/plain": [
       "'tunahan'"
      ]
     },
     "execution_count": 144,
     "metadata": {},
     "output_type": "execute_result"
    }
   ],
   "source": [
    "kimlik.get(\"isim\") # get fonksiyonu ile sozluklerde key degerlerine ulasilir."
   ]
  },
  {
   "cell_type": "code",
   "execution_count": 145,
   "id": "d57b8e7b",
   "metadata": {},
   "outputs": [
    {
     "data": {
      "text/plain": [
       "'erturk'"
      ]
     },
     "execution_count": 145,
     "metadata": {},
     "output_type": "execute_result"
    }
   ],
   "source": [
    "kimlik.get(\"soyisim\") # get fonksiyonu ile sozluklerde key degerlerine ulasilir."
   ]
  },
  {
   "cell_type": "code",
   "execution_count": 146,
   "id": "b5303aeb",
   "metadata": {},
   "outputs": [],
   "source": [
    "kimlik.update({\"anne_adi\":\"Fatma\"}) # sozluklere yeni key ve value degeri ekler."
   ]
  },
  {
   "cell_type": "code",
   "execution_count": 147,
   "id": "d02f1759",
   "metadata": {},
   "outputs": [
    {
     "name": "stdout",
     "output_type": "stream",
     "text": [
      "{'isim': 'tunahan', 'soyisim': 'erturk', 'yas': 29, 'tc_no': 32424234234, 'yer': 'Adana', 'bilgiler': {'email': 'tuna@gmail.com', 'kardes_sayisi': 2}, 'anne_adi': 'Fatma'}\n"
     ]
    }
   ],
   "source": [
    "print(kimlik)"
   ]
  },
  {
   "cell_type": "code",
   "execution_count": 148,
   "id": "55b37777",
   "metadata": {},
   "outputs": [
    {
     "data": {
      "text/plain": [
       "{'isim': 'tunahan',\n",
       " 'soyisim': 'erturk',\n",
       " 'yas': 29,\n",
       " 'tc_no': 32424234234,\n",
       " 'yer': 'Adana',\n",
       " 'bilgiler': {'email': 'tuna@gmail.com', 'kardes_sayisi': 2},\n",
       " 'anne_adi': 'Fatma'}"
      ]
     },
     "execution_count": 148,
     "metadata": {},
     "output_type": "execute_result"
    }
   ],
   "source": [
    "kimlik.copy() # sozlukleri kopyalar."
   ]
  },
  {
   "cell_type": "code",
   "execution_count": 149,
   "id": "85a80501",
   "metadata": {},
   "outputs": [
    {
     "data": {
      "text/plain": [
       "'tunahan'"
      ]
     },
     "execution_count": 149,
     "metadata": {},
     "output_type": "execute_result"
    }
   ],
   "source": [
    "kimlik.pop(\"isim\") # sozluklerden isim key degerini siler."
   ]
  },
  {
   "cell_type": "code",
   "execution_count": 150,
   "id": "ebe38ca0",
   "metadata": {},
   "outputs": [
    {
     "name": "stdout",
     "output_type": "stream",
     "text": [
      "{'soyisim': 'erturk', 'yas': 29, 'tc_no': 32424234234, 'yer': 'Adana', 'bilgiler': {'email': 'tuna@gmail.com', 'kardes_sayisi': 2}, 'anne_adi': 'Fatma'}\n"
     ]
    }
   ],
   "source": [
    "print(kimlik)"
   ]
  },
  {
   "cell_type": "code",
   "execution_count": 151,
   "id": "fd2bc5c3",
   "metadata": {},
   "outputs": [],
   "source": [
    "#key degerini geri almak istersek pop fonksiyonu kullanilir. pop fonksiyonu silinen key degerini geri dondurur."
   ]
  },
  {
   "cell_type": "code",
   "execution_count": 152,
   "id": "1fee8929",
   "metadata": {},
   "outputs": [
    {
     "name": "stdout",
     "output_type": "stream",
     "text": [
      "{'soyisim': 'erturk', 'yas': 29, 'tc_no': 32424234234, 'yer': 'Adana', 'bilgiler': {'email': 'tuna@gmail.com', 'kardes_sayisi': 2}, 'anne_adi': 'Fatma'}\n"
     ]
    }
   ],
   "source": [
    "print(kimlik)"
   ]
  },
  {
   "cell_type": "markdown",
   "id": "7a458077",
   "metadata": {},
   "source": [
    "### Tuple (Demetler)"
   ]
  },
  {
   "cell_type": "code",
   "execution_count": 153,
   "id": "1f535de7",
   "metadata": {},
   "outputs": [],
   "source": [
    "# listeler \"[]\" ile tanimlanirken, tuple'lar \"()\" ile tanimlanir.\n",
    "# listelerde degisiklik yapilabilirken, tuple'larda degisiklik yapilamaz.\n",
    "# tuple'lar daha hizli calisir."
   ]
  },
  {
   "cell_type": "code",
   "execution_count": 154,
   "id": "a3066369",
   "metadata": {},
   "outputs": [],
   "source": [
    "zamirler = (\"ben\",\"sen\",\"o\",\"biz\",\"siz\",\"onlar\" ) # tuple'lar () ile tanimlanir."
   ]
  },
  {
   "cell_type": "code",
   "execution_count": 155,
   "id": "5f6e8ac1",
   "metadata": {},
   "outputs": [
    {
     "data": {
      "text/plain": [
       "'ben'"
      ]
     },
     "execution_count": 155,
     "metadata": {},
     "output_type": "execute_result"
    }
   ],
   "source": [
    "zamirler[0]"
   ]
  },
  {
   "cell_type": "code",
   "execution_count": 156,
   "id": "474e64d8",
   "metadata": {},
   "outputs": [
    {
     "data": {
      "text/plain": [
       "('biz', 'siz')"
      ]
     },
     "execution_count": 156,
     "metadata": {},
     "output_type": "execute_result"
    }
   ],
   "source": [
    "zamirler[-3:-1]"
   ]
  },
  {
   "cell_type": "code",
   "execution_count": 157,
   "id": "05aec774",
   "metadata": {},
   "outputs": [
    {
     "data": {
      "text/plain": [
       "6"
      ]
     },
     "execution_count": 157,
     "metadata": {},
     "output_type": "execute_result"
    }
   ],
   "source": [
    "len(zamirler)"
   ]
  },
  {
   "cell_type": "code",
   "execution_count": 158,
   "id": "71d20e8e",
   "metadata": {},
   "outputs": [],
   "source": [
    "sayilar = (1,2,3,4,5,6,7,8,9,10)"
   ]
  },
  {
   "cell_type": "code",
   "execution_count": 159,
   "id": "77a213e1",
   "metadata": {},
   "outputs": [
    {
     "data": {
      "text/plain": [
       "('ben', 'sen', 'o', 'biz', 'siz', 'onlar', 1, 2, 3, 4, 5, 6, 7, 8, 9, 10)"
      ]
     },
     "execution_count": 159,
     "metadata": {},
     "output_type": "execute_result"
    }
   ],
   "source": [
    "zamirler + sayilar  "
   ]
  },
  {
   "cell_type": "code",
   "execution_count": 160,
   "id": "bb8ef99b",
   "metadata": {},
   "outputs": [
    {
     "data": {
      "text/plain": [
       "1"
      ]
     },
     "execution_count": 160,
     "metadata": {},
     "output_type": "execute_result"
    }
   ],
   "source": [
    "sayilar.count(5) # sayilar tuple'inda 5 elemaninin kac tane oldugunu sayar."
   ]
  },
  {
   "cell_type": "code",
   "execution_count": 161,
   "id": "73064b04",
   "metadata": {},
   "outputs": [
    {
     "data": {
      "text/plain": [
       "4"
      ]
     },
     "execution_count": 161,
     "metadata": {},
     "output_type": "execute_result"
    }
   ],
   "source": [
    "sayilar.index(5) # sayilar tuple'inda 5 elemaninin kacinci indexde oldugunu soyler."
   ]
  },
  {
   "cell_type": "code",
   "execution_count": 162,
   "id": "917152bc",
   "metadata": {},
   "outputs": [
    {
     "name": "stdout",
     "output_type": "stream",
     "text": [
      "(1,)\n"
     ]
    }
   ],
   "source": [
    "#tek elemanli bir tuple(demet) olusturmak istedigimizde sonuna virgul koymamiz gerekir.\n",
    "t = (1,) # tek elemali tuple\n",
    "print(t)"
   ]
  },
  {
   "cell_type": "code",
   "execution_count": 163,
   "id": "fb611f71",
   "metadata": {},
   "outputs": [],
   "source": [
    "# tuple degistirelemez. tuple'lara eleman eklenemez, cikarilamaz, degistirilemez."
   ]
  },
  {
   "cell_type": "markdown",
   "id": "38d503c1",
   "metadata": {},
   "source": [
    "### Sets (Kumeler)"
   ]
  },
  {
   "cell_type": "code",
   "execution_count": 164,
   "id": "3443084f",
   "metadata": {},
   "outputs": [],
   "source": [
    "#Kumeler bir listedir. Ama kumelerde elemanlar tekrar edemez. Kumelerde elemanlar sirasizdir.\n",
    "#Kumeler \"{}\" ile tanimlanir.\n",
    "#Kumelerde elemanlar sirasizdir. Yani elemanlarin sirasi onemli degildir.\n",
    "#Kumelerde (sets) index numarasi yoktur.\n",
    "#liste olsaydi nasil olurdu? listelerde \"[ ]\" kullanilir. setslerde \"{}\" kullanilir."
   ]
  },
  {
   "cell_type": "code",
   "execution_count": 165,
   "id": "18ec5a0d",
   "metadata": {},
   "outputs": [],
   "source": [
    "sayi = {1,2,3,4,5,6,7,8,9,10} # kumeler \"{}\" ile tanimlanir."
   ]
  },
  {
   "cell_type": "markdown",
   "id": "342bf7d8",
   "metadata": {},
   "source": [
    "sayi[1] # hata verir. cunku kumelerde index numarasi yoktur."
   ]
  },
  {
   "cell_type": "code",
   "execution_count": 166,
   "id": "8851a1a5",
   "metadata": {},
   "outputs": [
    {
     "name": "stdout",
     "output_type": "stream",
     "text": [
      "{1, 2, 3, 4, 5, 6, 7, 8, 9, 10}\n"
     ]
    }
   ],
   "source": [
    "print(sayi)"
   ]
  },
  {
   "cell_type": "code",
   "execution_count": 167,
   "id": "fec5cca9",
   "metadata": {},
   "outputs": [],
   "source": [
    "#setslerde degisiklik yapilabilir."
   ]
  },
  {
   "cell_type": "code",
   "execution_count": 168,
   "id": "119c8ff1",
   "metadata": {},
   "outputs": [],
   "source": [
    "#setslerde bir sey eklemek icin \"add\" fonksiyonu kullanilir.\n",
    "sayi.add(11) # sayi kumesine 11 elemanini ekler."
   ]
  },
  {
   "cell_type": "code",
   "execution_count": 169,
   "id": "7e2f12cf",
   "metadata": {},
   "outputs": [
    {
     "name": "stdout",
     "output_type": "stream",
     "text": [
      "{1, 2, 3, 4, 5, 6, 7, 8, 9, 10, 11}\n"
     ]
    }
   ],
   "source": [
    "print(sayi)"
   ]
  },
  {
   "cell_type": "code",
   "execution_count": 170,
   "id": "1db61070",
   "metadata": {},
   "outputs": [],
   "source": [
    "#setslerde bir sey silmek icin \"discard\" fonksiyonu kullanilir.\n",
    "#setslerde bir seu silmek icin \"remove\" fonksiyonu da kullanilir.\n",
    "sayi.discard(7) # sayi kumesinden 7 elemanini siler."
   ]
  },
  {
   "cell_type": "code",
   "execution_count": 171,
   "id": "a9f73c81",
   "metadata": {},
   "outputs": [
    {
     "name": "stdout",
     "output_type": "stream",
     "text": [
      "{1, 2, 3, 4, 5, 6, 8, 9, 10, 11}\n"
     ]
    }
   ],
   "source": [
    "print(sayi)"
   ]
  },
  {
   "cell_type": "code",
   "execution_count": 172,
   "id": "33328193",
   "metadata": {},
   "outputs": [],
   "source": [
    "sayi.add(4)"
   ]
  },
  {
   "cell_type": "code",
   "execution_count": 173,
   "id": "a0e2f44e",
   "metadata": {},
   "outputs": [
    {
     "name": "stdout",
     "output_type": "stream",
     "text": [
      "{1, 2, 3, 4, 5, 6, 8, 9, 10, 11}\n"
     ]
    }
   ],
   "source": [
    "print(sayi)"
   ]
  },
  {
   "cell_type": "code",
   "execution_count": 174,
   "id": "09089b8c",
   "metadata": {},
   "outputs": [],
   "source": [
    "sayi.remove(4) # sayi kumesinden 4 elemanini siler."
   ]
  },
  {
   "cell_type": "code",
   "execution_count": 175,
   "id": "2f2ab064",
   "metadata": {},
   "outputs": [
    {
     "name": "stdout",
     "output_type": "stream",
     "text": [
      "{1, 2, 3, 5, 6, 8, 9, 10, 11}\n"
     ]
    }
   ],
   "source": [
    "print(sayi)"
   ]
  },
  {
   "cell_type": "code",
   "execution_count": 176,
   "id": "f6ff5b2b",
   "metadata": {},
   "outputs": [],
   "source": [
    "#sets \"update fonksiyonu ile birden fazla eleman ekleyebiliriz.\"\n",
    "yeni = {12,13,14,15,16,17,18,19,20} #sets oldugunu nasil anlariz? cunku elemanlarin arasinda virgul var.\n",
    "#liste olsaydi nasil olurdu? listelerde \"[ ]\" kullanilir. setslerde \"{}\" kullanilir.\n",
    "sayi.update(yeni) # sayi kumesine yeni kumesini ekler."
   ]
  },
  {
   "cell_type": "code",
   "execution_count": 177,
   "id": "52d101aa",
   "metadata": {},
   "outputs": [
    {
     "name": "stdout",
     "output_type": "stream",
     "text": [
      "{1, 2, 3, 5, 6, 8, 9, 10, 11, 12, 13, 14, 15, 16, 17, 18, 19, 20}\n"
     ]
    }
   ],
   "source": [
    "print(sayi)"
   ]
  },
  {
   "cell_type": "code",
   "execution_count": 178,
   "id": "a0d2b3c5",
   "metadata": {},
   "outputs": [],
   "source": [
    "a = {1,2,3,4,5,6,7,8,9,10}\n",
    "b = {5,6,7,8,9,10,11,12,13,14}"
   ]
  },
  {
   "cell_type": "code",
   "execution_count": 179,
   "id": "8a39bea5",
   "metadata": {},
   "outputs": [
    {
     "data": {
      "text/plain": [
       "{1, 2, 3, 4}"
      ]
     },
     "execution_count": 179,
     "metadata": {},
     "output_type": "execute_result"
    }
   ],
   "source": [
    "a.difference(b) # a kumesinde olup b kumesinde olmayan elemanlari verir."
   ]
  },
  {
   "cell_type": "code",
   "execution_count": 180,
   "id": "dcbed0ce",
   "metadata": {},
   "outputs": [
    {
     "data": {
      "text/plain": [
       "{5, 6, 7, 8, 9, 10}"
      ]
     },
     "execution_count": 180,
     "metadata": {},
     "output_type": "execute_result"
    }
   ],
   "source": [
    "a.intersection(b) # a ve b kumelerinde ortak olan elemanlari verir."
   ]
  },
  {
   "cell_type": "code",
   "execution_count": 181,
   "id": "a3e6bad4",
   "metadata": {},
   "outputs": [
    {
     "data": {
      "text/plain": [
       "{1, 2, 3, 4, 5, 6, 7, 8, 9, 10, 11, 12, 13, 14}"
      ]
     },
     "execution_count": 181,
     "metadata": {},
     "output_type": "execute_result"
    }
   ],
   "source": [
    "a.union(b) # a ve b kumelerindeki elemanlari birlestirir."
   ]
  },
  {
   "cell_type": "code",
   "execution_count": 182,
   "id": "ff985a34",
   "metadata": {},
   "outputs": [
    {
     "data": {
      "text/plain": [
       "10"
      ]
     },
     "execution_count": 182,
     "metadata": {},
     "output_type": "execute_result"
    }
   ],
   "source": [
    "len(a) # a kumesinin uzunlugunu verir."
   ]
  },
  {
   "cell_type": "code",
   "execution_count": 183,
   "id": "9d4e85da",
   "metadata": {},
   "outputs": [
    {
     "data": {
      "text/plain": [
       "10"
      ]
     },
     "execution_count": 183,
     "metadata": {},
     "output_type": "execute_result"
    }
   ],
   "source": [
    "len(b) # b kumesinin uzunlugunu verir."
   ]
  },
  {
   "cell_type": "code",
   "execution_count": 184,
   "id": "0eb16af8",
   "metadata": {},
   "outputs": [
    {
     "name": "stdout",
     "output_type": "stream",
     "text": [
      "{1, 2, 3, 4, 5, 6, 7, 8, 9, 10}\n"
     ]
    }
   ],
   "source": [
    "print(a)"
   ]
  },
  {
   "cell_type": "code",
   "execution_count": 185,
   "id": "c2e6f6ef",
   "metadata": {},
   "outputs": [
    {
     "name": "stdout",
     "output_type": "stream",
     "text": [
      "{5, 6, 7, 8, 9, 10, 11, 12, 13, 14}\n"
     ]
    }
   ],
   "source": [
    "print(b)"
   ]
  },
  {
   "cell_type": "code",
   "execution_count": 186,
   "id": "268bb499",
   "metadata": {},
   "outputs": [],
   "source": [
    "a = 9.9"
   ]
  },
  {
   "cell_type": "code",
   "execution_count": 187,
   "id": "046d9841",
   "metadata": {},
   "outputs": [
    {
     "data": {
      "text/plain": [
       "float"
      ]
     },
     "execution_count": 187,
     "metadata": {},
     "output_type": "execute_result"
    }
   ],
   "source": [
    "type(a) # type fonksiyonu ile degiskenin veri tipini ogrenebiliriz."
   ]
  },
  {
   "cell_type": "code",
   "execution_count": 188,
   "id": "617bf2b3",
   "metadata": {},
   "outputs": [
    {
     "data": {
      "text/plain": [
       "'9.9'"
      ]
     },
     "execution_count": 188,
     "metadata": {},
     "output_type": "execute_result"
    }
   ],
   "source": [
    "str(a)"
   ]
  },
  {
   "cell_type": "markdown",
   "id": "7131d89f",
   "metadata": {},
   "source": [
    "###### Veri donusturme int > str (stringe cevirme)"
   ]
  },
  {
   "cell_type": "code",
   "execution_count": 189,
   "id": "92e0eeec",
   "metadata": {},
   "outputs": [],
   "source": [
    "c = str(a) # a degiskenini stringe cevirir."
   ]
  },
  {
   "cell_type": "code",
   "execution_count": 190,
   "id": "8fcb426c",
   "metadata": {},
   "outputs": [
    {
     "data": {
      "text/plain": [
       "str"
      ]
     },
     "execution_count": 190,
     "metadata": {},
     "output_type": "execute_result"
    }
   ],
   "source": [
    "type(c) # c degiskeninin veri tipini ogreniriz."
   ]
  },
  {
   "cell_type": "code",
   "execution_count": 191,
   "id": "6d28bcb1",
   "metadata": {},
   "outputs": [],
   "source": [
    "b = \"5.6\""
   ]
  },
  {
   "cell_type": "code",
   "execution_count": 192,
   "id": "41d4451f",
   "metadata": {},
   "outputs": [
    {
     "data": {
      "text/plain": [
       "'9.95.6'"
      ]
     },
     "execution_count": 192,
     "metadata": {},
     "output_type": "execute_result"
    }
   ],
   "source": [
    "c + b # c degiskeni  9.9 ve b degiskeni 5.6 oldugu icin c ve b degiskenlerini birlestirir."
   ]
  },
  {
   "cell_type": "code",
   "execution_count": 193,
   "id": "807accb8",
   "metadata": {},
   "outputs": [],
   "source": [
    "d = float(b) # b degiskenini float'a cevirir. d degiskenine atar."
   ]
  },
  {
   "cell_type": "code",
   "execution_count": 194,
   "id": "28140328",
   "metadata": {},
   "outputs": [
    {
     "data": {
      "text/plain": [
       "5"
      ]
     },
     "execution_count": 194,
     "metadata": {},
     "output_type": "execute_result"
    }
   ],
   "source": [
    "int(d) # d degiskenini integer'a cevirir."
   ]
  },
  {
   "cell_type": "code",
   "execution_count": 195,
   "id": "16d23f07",
   "metadata": {},
   "outputs": [
    {
     "data": {
      "text/plain": [
       "float"
      ]
     },
     "execution_count": 195,
     "metadata": {},
     "output_type": "execute_result"
    }
   ],
   "source": [
    "type(d)"
   ]
  },
  {
   "cell_type": "code",
   "execution_count": 196,
   "id": "0f192d4f",
   "metadata": {},
   "outputs": [],
   "source": [
    "x = [3,6,5,8,9,3]"
   ]
  },
  {
   "cell_type": "code",
   "execution_count": 197,
   "id": "32bc80a6",
   "metadata": {},
   "outputs": [
    {
     "data": {
      "text/plain": [
       "(3, 6, 5, 8, 9, 3)"
      ]
     },
     "execution_count": 197,
     "metadata": {},
     "output_type": "execute_result"
    }
   ],
   "source": [
    "tuple(x) # x listesini tuple'a cevirir."
   ]
  },
  {
   "cell_type": "code",
   "execution_count": 198,
   "id": "9d235406",
   "metadata": {},
   "outputs": [
    {
     "data": {
      "text/plain": [
       "{3, 5, 6, 8, 9}"
      ]
     },
     "execution_count": 198,
     "metadata": {},
     "output_type": "execute_result"
    }
   ],
   "source": [
    "set(x) # x listesini set'e cevirir."
   ]
  },
  {
   "cell_type": "code",
   "execution_count": 199,
   "id": "dcd518b8",
   "metadata": {},
   "outputs": [
    {
     "data": {
      "text/plain": [
       "{'x': 7, 'y': 9}"
      ]
     },
     "execution_count": 199,
     "metadata": {},
     "output_type": "execute_result"
    }
   ],
   "source": [
    "dict(x = 7, y = 9) # x ve y key degerlerine 7 ve 9 value degerlerini atar."
   ]
  },
  {
   "cell_type": "code",
   "execution_count": 200,
   "id": "6ac2d107",
   "metadata": {},
   "outputs": [],
   "source": [
    "t = (1,2,3,4,5,6,7,8,9,10)"
   ]
  },
  {
   "cell_type": "code",
   "execution_count": 201,
   "id": "8535c02d",
   "metadata": {},
   "outputs": [
    {
     "data": {
      "text/plain": [
       "[1, 2, 3, 4, 5, 6, 7, 8, 9, 10]"
      ]
     },
     "execution_count": 201,
     "metadata": {},
     "output_type": "execute_result"
    }
   ],
   "source": [
    "list(t) # t tuple'ini list'e cevirir. \"list\" fonksiyonu ile tuple'lar,set'ler ve string'ler list'e cevrilebilir."
   ]
  },
  {
   "cell_type": "code",
   "execution_count": 202,
   "id": "26ad5d39",
   "metadata": {},
   "outputs": [],
   "source": [
    "y = list(t)"
   ]
  },
  {
   "cell_type": "code",
   "execution_count": 203,
   "id": "13e1fdfd",
   "metadata": {},
   "outputs": [
    {
     "name": "stdout",
     "output_type": "stream",
     "text": [
      "[1, 2, 3, 4, 5, 6, 7, 8, 9, 10]\n"
     ]
    }
   ],
   "source": [
    "print(y)"
   ]
  },
  {
   "cell_type": "code",
   "execution_count": 204,
   "id": "4fe5ce60",
   "metadata": {},
   "outputs": [
    {
     "data": {
      "text/plain": [
       "list"
      ]
     },
     "execution_count": 204,
     "metadata": {},
     "output_type": "execute_result"
    }
   ],
   "source": [
    "type(y)"
   ]
  },
  {
   "cell_type": "markdown",
   "id": "5134fe4f",
   "metadata": {},
   "source": [
    "## Operatorler "
   ]
  },
  {
   "cell_type": "markdown",
   "id": "453d2ad3",
   "metadata": {},
   "source": [
    "### Mantik Operatorleri"
   ]
  },
  {
   "cell_type": "markdown",
   "id": "e13060ba",
   "metadata": {},
   "source": [
    "##### \"and\" operatoru"
   ]
  },
  {
   "cell_type": "code",
   "execution_count": 205,
   "id": "6a2fa2b6",
   "metadata": {},
   "outputs": [],
   "source": [
    "#\"and\" operatorunun dogru olmasi icin tum kosullarin dogru olmasi gerekir."
   ]
  },
  {
   "cell_type": "code",
   "execution_count": 206,
   "id": "698af281",
   "metadata": {},
   "outputs": [
    {
     "data": {
      "text/plain": [
       "True"
      ]
     },
     "execution_count": 206,
     "metadata": {},
     "output_type": "execute_result"
    }
   ],
   "source": [
    "5 < 10 and 3 < 8 # 5 10'dan kucuk ve 3 8'den kucuk oldugu icin \"and\" operatoru True doner."
   ]
  },
  {
   "cell_type": "code",
   "execution_count": 207,
   "id": "ae14a09b",
   "metadata": {},
   "outputs": [
    {
     "data": {
      "text/plain": [
       "False"
      ]
     },
     "execution_count": 207,
     "metadata": {},
     "output_type": "execute_result"
    }
   ],
   "source": [
    "5 > 10 and 3 > 8 # 5 10'dan kucuk degil ama 3 8'den kucuk oldugu icin \"and\" operatoru False doner."
   ]
  },
  {
   "cell_type": "code",
   "execution_count": 208,
   "id": "7d218aed",
   "metadata": {},
   "outputs": [
    {
     "data": {
      "text/plain": [
       "False"
      ]
     },
     "execution_count": 208,
     "metadata": {},
     "output_type": "execute_result"
    }
   ],
   "source": [
    "5 < 10 and 3 > 8 # 5 10'dan kucuk ama 3 8'den kucuk olmadigi icin \"and\" operatoru False doner."
   ]
  },
  {
   "cell_type": "markdown",
   "id": "29f9f5f8",
   "metadata": {},
   "source": [
    "#### \"or\" operatoru"
   ]
  },
  {
   "cell_type": "code",
   "execution_count": 209,
   "id": "21580e38",
   "metadata": {},
   "outputs": [],
   "source": [
    "# \"or\" operatorunun dogru olmasi icin en az bir kosulun dogru olmasi gerekir.\n",
    "# \"or\" veya anlamina gelir."
   ]
  },
  {
   "cell_type": "code",
   "execution_count": 210,
   "id": "b53212de",
   "metadata": {},
   "outputs": [
    {
     "data": {
      "text/plain": [
       "True"
      ]
     },
     "execution_count": 210,
     "metadata": {},
     "output_type": "execute_result"
    }
   ],
   "source": [
    "5 < 10 or 3 > 8 # 5 10'dan kucuk oldugu icin \"or\" operatoru True doner."
   ]
  },
  {
   "cell_type": "code",
   "execution_count": 211,
   "id": "82643b3e",
   "metadata": {},
   "outputs": [
    {
     "data": {
      "text/plain": [
       "True"
      ]
     },
     "execution_count": 211,
     "metadata": {},
     "output_type": "execute_result"
    }
   ],
   "source": [
    "5 > 10 or 3 < 8 # 3 8'den kucuk oldugu icin \"or\" operatoru True doner."
   ]
  },
  {
   "cell_type": "code",
   "execution_count": 212,
   "id": "5188bc26",
   "metadata": {},
   "outputs": [
    {
     "data": {
      "text/plain": [
       "False"
      ]
     },
     "execution_count": 212,
     "metadata": {},
     "output_type": "execute_result"
    }
   ],
   "source": [
    "# \"or\" operatorunun yanlis olmasi icin tum kosullarin yanlis olmasi gerekir.\n",
    "5 > 10 or 3 > 8 # 5 10'dan kucuk degil ve 3 8'den kucuk olmadigi icin \"or\" operatoru False doner."
   ]
  },
  {
   "cell_type": "markdown",
   "id": "c0f63cde",
   "metadata": {},
   "source": [
    "#### \"not\" operatoru"
   ]
  },
  {
   "cell_type": "code",
   "execution_count": 213,
   "id": "93aef501",
   "metadata": {},
   "outputs": [],
   "source": [
    "# \"not\" operatoru bir kosulu tersine cevirir. yani dogru olan bir kosulu yanlis yapar. yanlis olan bir kosulu dogru yapar."
   ]
  },
  {
   "cell_type": "code",
   "execution_count": 214,
   "id": "c46e4c2a",
   "metadata": {},
   "outputs": [
    {
     "data": {
      "text/plain": [
       "False"
      ]
     },
     "execution_count": 214,
     "metadata": {},
     "output_type": "execute_result"
    }
   ],
   "source": [
    "not 5 > 3 # 5 3'ten buyuk oldugu icin \"not\" operatoru False doner."
   ]
  },
  {
   "cell_type": "code",
   "execution_count": 215,
   "id": "3a30bfc8",
   "metadata": {},
   "outputs": [
    {
     "data": {
      "text/plain": [
       "True"
      ]
     },
     "execution_count": 215,
     "metadata": {},
     "output_type": "execute_result"
    }
   ],
   "source": [
    "not 5 < 3 # 5 3'ten kucuk olmadigi icin \"not\" operatoru True doner."
   ]
  },
  {
   "cell_type": "markdown",
   "id": "3c2b4f34",
   "metadata": {},
   "source": [
    "#### aitlik operatoru"
   ]
  },
  {
   "cell_type": "markdown",
   "id": "85e65de8",
   "metadata": {},
   "source": [
    "##### \"in\" operatoru"
   ]
  },
  {
   "cell_type": "code",
   "execution_count": 216,
   "id": "2b887c7a",
   "metadata": {},
   "outputs": [],
   "source": [
    "# \"in\" operatoru bir elemanin bir listede, tuple'da, string'de, set'de olup olmadigini kontrol eder."
   ]
  },
  {
   "cell_type": "code",
   "execution_count": 217,
   "id": "7ca76a20",
   "metadata": {},
   "outputs": [],
   "source": [
    "b = [1,2,3,4,5,6,7,8,9,10]"
   ]
  },
  {
   "cell_type": "code",
   "execution_count": 218,
   "id": "0fd5cd82",
   "metadata": {},
   "outputs": [
    {
     "data": {
      "text/plain": [
       "True"
      ]
     },
     "execution_count": 218,
     "metadata": {},
     "output_type": "execute_result"
    }
   ],
   "source": [
    "5 in b # 5 elemani b listesinde oldugu icin \"in\" operatoru True doner."
   ]
  },
  {
   "cell_type": "code",
   "execution_count": 219,
   "id": "20512d73",
   "metadata": {},
   "outputs": [
    {
     "data": {
      "text/plain": [
       "False"
      ]
     },
     "execution_count": 219,
     "metadata": {},
     "output_type": "execute_result"
    }
   ],
   "source": [
    "11 in b # 11 elemani b listesinde olmadigi icin \"in\" operatoru False doner."
   ]
  },
  {
   "cell_type": "markdown",
   "id": "3c982482",
   "metadata": {},
   "source": [
    "##### \"not in \" operatoru"
   ]
  },
  {
   "cell_type": "code",
   "execution_count": 220,
   "id": "a536d853",
   "metadata": {},
   "outputs": [],
   "source": [
    "# \"not in\" operatoru bir elemanin bir listede, tuple'da, string'de, set'de olsa bile olmadigini kontrol eder."
   ]
  },
  {
   "cell_type": "code",
   "execution_count": 221,
   "id": "d0aeebd7",
   "metadata": {},
   "outputs": [],
   "source": [
    "a = [1,2,3,4,5,6,7,8,9,10]"
   ]
  },
  {
   "cell_type": "code",
   "execution_count": 222,
   "id": "8ea5e9ce",
   "metadata": {},
   "outputs": [
    {
     "data": {
      "text/plain": [
       "False"
      ]
     },
     "execution_count": 222,
     "metadata": {},
     "output_type": "execute_result"
    }
   ],
   "source": [
    "5 not in a # 5 elemani a listesinde oldugu icin \"not in\" operatoru False doner."
   ]
  },
  {
   "cell_type": "markdown",
   "id": "157db387",
   "metadata": {},
   "source": [
    "#### Atama operatorleri"
   ]
  },
  {
   "cell_type": "code",
   "execution_count": 223,
   "id": "bbec6603",
   "metadata": {},
   "outputs": [],
   "source": [
    "b = 4"
   ]
  },
  {
   "cell_type": "code",
   "execution_count": 224,
   "id": "37e35897",
   "metadata": {},
   "outputs": [],
   "source": [
    "b = b + 5"
   ]
  },
  {
   "cell_type": "code",
   "execution_count": 225,
   "id": "5564b997",
   "metadata": {},
   "outputs": [
    {
     "name": "stdout",
     "output_type": "stream",
     "text": [
      "9\n"
     ]
    }
   ],
   "source": [
    "print(b)"
   ]
  },
  {
   "cell_type": "code",
   "execution_count": 226,
   "id": "3c9fe57a",
   "metadata": {},
   "outputs": [],
   "source": [
    "b += 5 # b = b + 5 islemi ile ayni islemi yapar."
   ]
  },
  {
   "cell_type": "code",
   "execution_count": 227,
   "id": "4d19bfdc",
   "metadata": {},
   "outputs": [
    {
     "name": "stdout",
     "output_type": "stream",
     "text": [
      "14\n"
     ]
    }
   ],
   "source": [
    "print(b)"
   ]
  },
  {
   "cell_type": "code",
   "execution_count": 228,
   "id": "eb6206f7",
   "metadata": {},
   "outputs": [],
   "source": [
    "\n",
    "b -= 5 # b = b - 5 islemi ile ayni islemi yapar."
   ]
  },
  {
   "cell_type": "code",
   "execution_count": 229,
   "id": "77d01764",
   "metadata": {},
   "outputs": [
    {
     "name": "stdout",
     "output_type": "stream",
     "text": [
      "9\n"
     ]
    }
   ],
   "source": [
    "print(b)"
   ]
  },
  {
   "cell_type": "code",
   "execution_count": 230,
   "id": "12d3b080",
   "metadata": {},
   "outputs": [],
   "source": [
    "b = b * 5"
   ]
  },
  {
   "cell_type": "code",
   "execution_count": 231,
   "id": "b47e5dea",
   "metadata": {},
   "outputs": [
    {
     "name": "stdout",
     "output_type": "stream",
     "text": [
      "45\n"
     ]
    }
   ],
   "source": [
    "print(b)"
   ]
  },
  {
   "cell_type": "code",
   "execution_count": 232,
   "id": "ca47e76a",
   "metadata": {},
   "outputs": [],
   "source": [
    "b *= 10"
   ]
  },
  {
   "cell_type": "code",
   "execution_count": 233,
   "id": "ed3ab29c",
   "metadata": {},
   "outputs": [
    {
     "name": "stdout",
     "output_type": "stream",
     "text": [
      "450\n"
     ]
    }
   ],
   "source": [
    "print(b)"
   ]
  },
  {
   "cell_type": "code",
   "execution_count": 234,
   "id": "81f3e053",
   "metadata": {},
   "outputs": [],
   "source": [
    "b /= 9"
   ]
  },
  {
   "cell_type": "code",
   "execution_count": 235,
   "id": "f809c4da",
   "metadata": {},
   "outputs": [
    {
     "name": "stdout",
     "output_type": "stream",
     "text": [
      "50.0\n"
     ]
    }
   ],
   "source": [
    "print(b)"
   ]
  },
  {
   "cell_type": "code",
   "execution_count": 236,
   "id": "825f6cad",
   "metadata": {},
   "outputs": [],
   "source": [
    "b //= 3 # b = b // 3 islemi ile ayni islemi yapar.\n",
    "# b'nin degerini 3'e boler ve b'nin degerini atar."
   ]
  },
  {
   "cell_type": "code",
   "execution_count": 237,
   "id": "da0c5776",
   "metadata": {},
   "outputs": [
    {
     "name": "stdout",
     "output_type": "stream",
     "text": [
      "16.0\n"
     ]
    }
   ],
   "source": [
    "print(b)"
   ]
  },
  {
   "cell_type": "code",
   "execution_count": 238,
   "id": "e2bc3207",
   "metadata": {},
   "outputs": [],
   "source": [
    "b %= 2 # b = b % 2 islemi ile ayni islemi yapar."
   ]
  },
  {
   "cell_type": "markdown",
   "id": "1cc59454",
   "metadata": {},
   "source": [
    "### KOSULLU IFADELER"
   ]
  },
  {
   "cell_type": "markdown",
   "id": "830d6101",
   "metadata": {},
   "source": [
    "#### IF kosul ifadesi"
   ]
  },
  {
   "cell_type": "code",
   "execution_count": 239,
   "id": "a391e3e6",
   "metadata": {},
   "outputs": [
    {
     "name": "stdout",
     "output_type": "stream",
     "text": [
      "5 3'ten buyuktur.\n"
     ]
    }
   ],
   "source": [
    "if 5 > 3: #eger anlami tasir.\n",
    "    print(\"5 3'ten buyuktur.\") # if kosulu dogru oldugu icin bu satir calisir.\n",
    "else: # degilse anlamina gelir.\n",
    "    print(\"Yanlis.\") "
   ]
  },
  {
   "cell_type": "code",
   "execution_count": 240,
   "id": "5e3d2f0f",
   "metadata": {},
   "outputs": [
    {
     "name": "stdout",
     "output_type": "stream",
     "text": [
      "Kullanici adi dogru.\n"
     ]
    }
   ],
   "source": [
    "kullanici_adi = \"tunahanerturk\"\n",
    "sifre = \"123456\"\n",
    "\n",
    "if kullanici_adi == \"tunahanerturk\":\n",
    "    print(\"Kullanici adi dogru.\")\n",
    "else:\n",
    "    print(\"Kullanici adi yanlis.\")"
   ]
  },
  {
   "cell_type": "code",
   "execution_count": 241,
   "id": "f1621b39",
   "metadata": {},
   "outputs": [
    {
     "name": "stdout",
     "output_type": "stream",
     "text": [
      "Kullanici adi dogru.\n"
     ]
    }
   ],
   "source": [
    "ad  = input(\"kullanici_adi girin : \") \n",
    "sifre = input(\"sifre girin : \")\n",
    "\n",
    "if kullanici_adi == ad :\n",
    "    print(\"Kullanici adi dogru.\")\n",
    "else:\n",
    "    print(\"Kullanici adi yanlis.\")"
   ]
  },
  {
   "cell_type": "code",
   "execution_count": 242,
   "id": "1b1d574e",
   "metadata": {},
   "outputs": [
    {
     "name": "stdout",
     "output_type": "stream",
     "text": [
      "Giris basarisiz.\n"
     ]
    }
   ],
   "source": [
    "ad = input(\"kullanici adi girin : \")\n",
    "sifre_gir = input(\"sifre girin : \")\n",
    "\n",
    "if kullanici_adi == ad and sifre == sifre_gir:\n",
    "    print(\"Giris basarili.\")\n",
    "else:\n",
    "    print(\"Giris basarisiz.\")"
   ]
  },
  {
   "cell_type": "markdown",
   "id": "0ca97213",
   "metadata": {},
   "source": [
    "#### \"Elif\" Kosul ifadesi"
   ]
  },
  {
   "cell_type": "code",
   "execution_count": 243,
   "id": "8aa95080",
   "metadata": {},
   "outputs": [],
   "source": [
    "#\"elif\" ifadesi \"else if\" anlamina gelir. \"else if\" anlamina gelir.\n",
    "# \"elif\" ifadesi birden fazla kosulun kontrol edilmesi icin kullanilir."
   ]
  },
  {
   "cell_type": "code",
   "execution_count": 244,
   "id": "58bfc683",
   "metadata": {},
   "outputs": [
    {
     "name": "stdout",
     "output_type": "stream",
     "text": [
      "Giris basarili.\n"
     ]
    }
   ],
   "source": [
    "kullanici_adi = \"hakanfidan\"\n",
    "sifre = \"12345\"\n",
    "\n",
    "ad = input(\"kullanici adi girin : \")\n",
    "sifre_gir = input(\"sifre girin : \")\n",
    "\n",
    "if kullanici_adi == ad and sifre == sifre_gir:\n",
    "    print(\"Giris basarili.\")\n",
    "elif kullanici_adi != ad :\n",
    "    print(\"Kullanici adi yanlis.\")    \n",
    "else:\n",
    "    print(\"Sifre yanlis.\")  "
   ]
  },
  {
   "cell_type": "markdown",
   "id": "a788b419",
   "metadata": {},
   "source": [
    "###### Veri donusumleri"
   ]
  },
  {
   "cell_type": "code",
   "execution_count": 245,
   "id": "9519227c",
   "metadata": {},
   "outputs": [
    {
     "name": "stdout",
     "output_type": "stream",
     "text": [
      "11\n",
      "56\n",
      "11\n",
      "5.56.5\n",
      "12.0\n",
      "11.5\n",
      "11\n"
     ]
    }
   ],
   "source": [
    "#veri donusumleri (type casting)\n",
    "\n",
    "a = 5\n",
    "b = 6\n",
    "\n",
    "c = a + b\n",
    "\n",
    "print(c)\n",
    "\n",
    "a = \"5\"\n",
    "b = \"6\"\n",
    "\n",
    "c = a + b\n",
    "\n",
    "print(c)\n",
    "\n",
    "a = int(a)\n",
    "b = int(b)\n",
    "\n",
    "c = a + b\n",
    "\n",
    "print(c)\n",
    "\n",
    "a = \"5.5\"\n",
    "b = \"6.5\"\n",
    "\n",
    "c = a + b\n",
    "\n",
    "print(c)\n",
    "\n",
    "a = float(a)\n",
    "b = float(b)\n",
    "\n",
    "c = a + b\n",
    "\n",
    "print(c)\n",
    "\n",
    "b = int(b)\n",
    "\n",
    "c = a + b\n",
    "\n",
    "print(c)\n",
    "\n",
    "a = 5\n",
    "b = \"6\"\n",
    "\n",
    "c = a + int(b)\n",
    "\n",
    "print(c)\n",
    "\n",
    "\n"
   ]
  },
  {
   "cell_type": "code",
   "execution_count": 246,
   "id": "0a335a82",
   "metadata": {},
   "outputs": [
    {
     "name": "stdout",
     "output_type": "stream",
     "text": [
      "BA aldiniz\n"
     ]
    }
   ],
   "source": [
    "ders_notu = int(input(\"notunuzu girin : \")) # str veri tipinden int veri tipine cevirme islemi yapar.\n",
    "\n",
    "if ders_notu >= 90 and ders_notu <= 100:\n",
    "    print(\"AA aldiniz\")\n",
    "elif ders_notu >= 80 and ders_notu < 90:\n",
    "    print(\"BA aldiniz\")\n",
    "elif ders_notu >= 70 and ders_notu < 80:\n",
    "    print(\"CC aldiniz\")\n",
    "elif ders_notu >= 60 and ders_notu < 70:\n",
    "    print(\"DD aldiniz\")\n",
    "elif ders_notu >= 50 and ders_notu < 60:\n",
    "    print(\"FF aldiniz\")\n",
    "elif ders_notu < 50 and ders_notu >= 0:\n",
    "    print(\"Dersten Kaldiniz\")\n",
    "else:\n",
    "    print(\"Gecersiz not girisi, gecerli bir deger girin\")"
   ]
  },
  {
   "cell_type": "code",
   "execution_count": 247,
   "id": "4b195cd9",
   "metadata": {},
   "outputs": [
    {
     "name": "stdout",
     "output_type": "stream",
     "text": [
      "gectiniz\n",
      "DD aldiniz\n",
      "CC aldiniz\n",
      "BB aldiniz\n",
      "Gecersiz not girisi, gecerli bir deger girin\n"
     ]
    }
   ],
   "source": [
    "ders_notu = int(input(\"notunuzu girin : \")) # str veri tipinden int veri tipine cevirme islemi yapar.\n",
    "\n",
    "if ders_notu >= 50 :\n",
    "    print(\"gectiniz\")\n",
    "if ders_notu >= 60 : \n",
    "    print(\"DD aldiniz\")\n",
    "if ders_notu >= 70 :\n",
    "    print(\"CC aldiniz\")\n",
    "if ders_notu >= 80 : \n",
    "    print(\"BB aldiniz\")\n",
    "if ders_notu >= 90 :\n",
    "    print(\"AA aldiniz\")\n",
    "if ders_notu < 50 :\n",
    "    print(\"Dersten Kaldiniz\")\n",
    "else:\n",
    "    print(\"Gecersiz not girisi, gecerli bir deger girin\")"
   ]
  },
  {
   "cell_type": "code",
   "execution_count": 248,
   "id": "c6704b5f",
   "metadata": {},
   "outputs": [
    {
     "name": "stdout",
     "output_type": "stream",
     "text": [
      "b buyuktur.\n",
      "b buyuktur.\n"
     ]
    }
   ],
   "source": [
    "# \"if - else\" tek satir halinde yazmak icin \"ternary if\" kullanilir.\n",
    "\n",
    "a = 5\n",
    "b = 6\n",
    "\n",
    "if a > b:\n",
    "    print(\"a buyuktur.\")\n",
    "else:\n",
    "    print(\"b buyuktur.\")    \n",
    "\n",
    "print(\"a buyuktur.\") if a > b else print(\"b buyuktur.\")"
   ]
  },
  {
   "cell_type": "code",
   "execution_count": 249,
   "id": "0dfdf92d",
   "metadata": {},
   "outputs": [
    {
     "name": "stdout",
     "output_type": "stream",
     "text": [
      "5 3'ten buyuktur.\n"
     ]
    }
   ],
   "source": [
    "# tek satirda if  yazmak.\n",
    "\n",
    "if 5 > 3 : print(\"5 3'ten buyuktur.\")"
   ]
  },
  {
   "cell_type": "code",
   "execution_count": 250,
   "id": "c5c90247",
   "metadata": {},
   "outputs": [
    {
     "name": "stdout",
     "output_type": "stream",
     "text": [
      "5 3'ten buyuktur.\n"
     ]
    }
   ],
   "source": [
    "# tek satirda if else yazmak.\n",
    "\n",
    "print(\"5 3'ten buyuktur.\") if 5 > 3 else print(\"5 3'ten kucuktur.\")\n",
    "# eger 5' 3 ten buyuk ise soldaki blogu calistir. Eger degil ise sagdaki blogu calistir."
   ]
  },
  {
   "cell_type": "markdown",
   "id": "61636815",
   "metadata": {},
   "source": [
    "#### Nested If (Ic ice If)"
   ]
  },
  {
   "cell_type": "code",
   "execution_count": 251,
   "id": "6876ee7c",
   "metadata": {},
   "outputs": [
    {
     "name": "stdout",
     "output_type": "stream",
     "text": [
      "Sayi pozitif.\n"
     ]
    }
   ],
   "source": [
    "sayi = int(input(\"sayi girin : \"))\n",
    "\n",
    "if sayi >= 0 :\n",
    "    if sayi == 0 :\n",
    "        print(\"Sayi sifir.\")\n",
    "    else:\n",
    "        print(\"Sayi pozitif.\")\n",
    "else:\n",
    "    print(\"Sayi negatif.\")"
   ]
  },
  {
   "cell_type": "markdown",
   "id": "539ef5b0",
   "metadata": {},
   "source": [
    "#### DONGULER -For ve While"
   ]
  },
  {
   "cell_type": "code",
   "execution_count": 252,
   "id": "339a1fda",
   "metadata": {},
   "outputs": [],
   "source": [
    "#Dongu bir durumun birden cok defa tekrar etmesi durumudur."
   ]
  },
  {
   "cell_type": "code",
   "execution_count": 253,
   "id": "884b71eb",
   "metadata": {},
   "outputs": [
    {
     "name": "stdout",
     "output_type": "stream",
     "text": [
      "Bizim sayimiz = 0\n",
      "Bizim sayimiz = 1\n",
      "Bizim sayimiz = 2\n",
      "Bizim sayimiz = 3\n",
      "Bizim sayimiz = 4\n"
     ]
    }
   ],
   "source": [
    "x = 0 \n",
    "while x < 5:\n",
    "        print(\"Bizim sayimiz =\", x)\n",
    "        x += 1"
   ]
  },
  {
   "cell_type": "code",
   "execution_count": 254,
   "id": "1f134faa",
   "metadata": {},
   "outputs": [
    {
     "name": "stdout",
     "output_type": "stream",
     "text": [
      "Bizim sayimiz = 10\n",
      "Bizim sayimiz = 11\n",
      "Bizim sayimiz = 12\n",
      "Sayimiz 13 ten buyuk\n"
     ]
    }
   ],
   "source": [
    "x = 10 \n",
    "while x < 13:\n",
    "    print(\"Bizim sayimiz =\", x)\n",
    "    x += 1\n",
    "else:\n",
    "    print(\"Sayimiz 13 ten buyuk\")"
   ]
  },
  {
   "cell_type": "markdown",
   "id": "b62ef27f",
   "metadata": {},
   "source": [
    "#####  Break Ifadesi"
   ]
  },
  {
   "cell_type": "code",
   "execution_count": 255,
   "id": "d68d2c66",
   "metadata": {},
   "outputs": [
    {
     "name": "stdout",
     "output_type": "stream",
     "text": [
      "Bizim sayimiz =  0\n",
      "Bizim sayimiz =  1\n",
      "Bizim sayimiz =  2\n",
      "Bizim sayimiz =  3\n",
      "Bizim sayimiz =  4\n",
      "Bizim sayimiz =  5\n"
     ]
    }
   ],
   "source": [
    "# break ifadesi donguyu kesmeye durdurmaya yarar.\n",
    "\n",
    "x = 0 \n",
    "while x < 10:\n",
    "    print(\"Bizim sayimiz = \" , x)\n",
    "    if x == 5:\n",
    "            break \n",
    "    x += 1\n",
    "else:\n",
    "      print(\"Sayimiz 10 dan buyuktur.\")"
   ]
  },
  {
   "cell_type": "markdown",
   "id": "6901aacb",
   "metadata": {},
   "source": [
    "##### Continue Ifadesi"
   ]
  },
  {
   "cell_type": "code",
   "execution_count": 256,
   "id": "07519e72",
   "metadata": {},
   "outputs": [
    {
     "name": "stdout",
     "output_type": "stream",
     "text": [
      "Bizim sayimiz =  1\n",
      "Bizim sayimiz =  2\n",
      "Bizim sayimiz =  3\n",
      "Bizim sayimiz =  4\n",
      "Bizim sayimiz =  6\n",
      "Bizim sayimiz =  7\n",
      "Bizim sayimiz =  8\n",
      "Bizim sayimiz =  9\n",
      "Bizim sayimiz =  10\n",
      "Sayimiz 10 dan buyuktur.\n"
     ]
    }
   ],
   "source": [
    "# continue ifadesi donguyu devam ettirmeye yarar. \"continue\" ifadesi donguyu bir adim ilerletir.\n",
    "x = 0\n",
    "\n",
    "while x < 10:\n",
    "    x += 1\n",
    "    if x == 5:\n",
    "            continue # 5 oldugunda basa dondu.\n",
    "    print(\"Bizim sayimiz = \", x)\n",
    "    \n",
    "else: \n",
    "      print(\"Sayimiz 10 dan buyuktur.\")\n"
   ]
  },
  {
   "cell_type": "markdown",
   "id": "8e54a6bf",
   "metadata": {},
   "source": [
    "##### For Dongusu"
   ]
  },
  {
   "cell_type": "code",
   "execution_count": 257,
   "id": "43c9c30e",
   "metadata": {},
   "outputs": [],
   "source": [
    "x = [1,2,4,6,7,8,10,13,14,15]"
   ]
  },
  {
   "cell_type": "code",
   "execution_count": 258,
   "id": "0ce112b9",
   "metadata": {},
   "outputs": [
    {
     "data": {
      "text/plain": [
       "True"
      ]
     },
     "execution_count": 258,
     "metadata": {},
     "output_type": "execute_result"
    }
   ],
   "source": [
    "# Boolean veri tipinde verileri almak icin \"in\" operatoru kullanilir.\n",
    "# 1 elemani x listesinde oldugu icin \"in\" operatoru True doner.\n",
    "1 in x"
   ]
  },
  {
   "cell_type": "code",
   "execution_count": 259,
   "id": "41830f71",
   "metadata": {},
   "outputs": [],
   "source": [
    "sayilar = [1,2,4,6,7,8,10,13,14,15]"
   ]
  },
  {
   "cell_type": "code",
   "execution_count": 260,
   "id": "db2944c7",
   "metadata": {},
   "outputs": [
    {
     "data": {
      "text/plain": [
       "True"
      ]
     },
     "execution_count": 260,
     "metadata": {},
     "output_type": "execute_result"
    }
   ],
   "source": [
    "1 in sayilar"
   ]
  },
  {
   "cell_type": "code",
   "execution_count": 261,
   "id": "cf6f51af",
   "metadata": {},
   "outputs": [
    {
     "name": "stdout",
     "output_type": "stream",
     "text": [
      "Sayiniz = 1\n",
      "Sayiniz = 2\n",
      "Sayiniz = 4\n",
      "Sayiniz = 6\n",
      "Sayiniz = 7\n",
      "Sayiniz = 8\n",
      "Sayiniz = 10\n",
      "Sayiniz = 13\n",
      "Sayiniz = 14\n",
      "Sayiniz = 15\n",
      "Dongu bitti\n"
     ]
    }
   ],
   "source": [
    "for sayi in sayilar:\n",
    "    print(\"Sayiniz =\" , sayi)\n",
    "else:\n",
    "    print(\"Dongu bitti\")"
   ]
  },
  {
   "cell_type": "code",
   "execution_count": 262,
   "id": "09e24a70",
   "metadata": {},
   "outputs": [
    {
     "name": "stdout",
     "output_type": "stream",
     "text": [
      "Sayiniz = 1\n",
      "Sayiniz = 2\n",
      "Sayiniz = 4\n",
      "Sayiniz = 6\n",
      "Sayiniz = 7\n",
      "Sayiniz = 8\n",
      "Sayiniz = 10\n"
     ]
    }
   ],
   "source": [
    "for sayi in sayilar:\n",
    "    print(\"Sayiniz =\" , sayi)\n",
    "    if sayi == 10 :\n",
    "        break\n",
    "else:\n",
    "    print(\"Dongu bitti\")"
   ]
  },
  {
   "cell_type": "code",
   "execution_count": 263,
   "id": "5616c80d",
   "metadata": {},
   "outputs": [
    {
     "name": "stdout",
     "output_type": "stream",
     "text": [
      "Sayiniz = 1\n",
      "Sayiniz = 2\n",
      "Sayiniz = 4\n",
      "Sayiniz = 6\n",
      "Sayiniz = 7\n",
      "Sayiniz = 8\n",
      "Sayiniz = 13\n",
      "Sayiniz = 14\n",
      "Sayiniz = 15\n",
      "Dongu bitti\n"
     ]
    }
   ],
   "source": [
    "# \"continue\" ifadesi donguyu bir adim ilerletir.\n",
    "for sayi in sayilar:\n",
    "    if sayi == 10 :\n",
    "        continue \n",
    "    print(\"Sayiniz =\" , sayi) \n",
    "else:\n",
    "    print(\"Dongu bitti\")"
   ]
  },
  {
   "cell_type": "code",
   "execution_count": 264,
   "id": "fa9e5700",
   "metadata": {},
   "outputs": [
    {
     "name": "stdout",
     "output_type": "stream",
     "text": [
      "Sayiniz = 1\n",
      "Sayiniz = 2\n",
      "Sayiniz = 4\n",
      "Sayiniz = 6\n",
      "Sayiniz = 7\n",
      "Sayiniz = 8\n",
      "Sayiniz = 10\n",
      "Sayiniz = 13\n",
      "Sayiniz = 14\n",
      "Sayiniz = 15\n",
      "Dongu bitti\n"
     ]
    }
   ],
   "source": [
    "# \"continue\" ifadesi donguyu bir adim ilerletir.\n",
    "for sayi in sayilar:\n",
    "    print(\"Sayiniz =\" , sayi)\n",
    "    if sayi == 10 :\n",
    "        continue\n",
    "else:\n",
    "    print(\"Dongu bitti\")"
   ]
  },
  {
   "cell_type": "code",
   "execution_count": 265,
   "id": "e28ae60d",
   "metadata": {},
   "outputs": [],
   "source": [
    "#Nested for dongusu ic ice for donguleri kullanilir."
   ]
  },
  {
   "cell_type": "code",
   "execution_count": 266,
   "id": "7788deb6",
   "metadata": {},
   "outputs": [],
   "source": [
    "yeni = [1,2,3]"
   ]
  },
  {
   "cell_type": "code",
   "execution_count": 267,
   "id": "5dfa4ad9",
   "metadata": {},
   "outputs": [
    {
     "name": "stdout",
     "output_type": "stream",
     "text": [
      "sayiniz =  1\n",
      "sayiniz =  2\n",
      "sayiniz =  3\n",
      "sayiniz =  1\n",
      "sayiniz =  2\n",
      "sayiniz =  3\n",
      "sayiniz =  1\n",
      "sayiniz =  2\n",
      "sayiniz =  3\n",
      "sayiniz =  1\n",
      "sayiniz =  2\n",
      "sayiniz =  3\n",
      "sayiniz =  1\n",
      "sayiniz =  2\n",
      "sayiniz =  3\n",
      "sayiniz =  1\n",
      "sayiniz =  2\n",
      "sayiniz =  3\n",
      "sayiniz =  1\n",
      "sayiniz =  2\n",
      "sayiniz =  3\n",
      "sayiniz =  1\n",
      "sayiniz =  2\n",
      "sayiniz =  3\n",
      "sayiniz =  1\n",
      "sayiniz =  2\n",
      "sayiniz =  3\n",
      "sayiniz =  1\n",
      "sayiniz =  2\n",
      "sayiniz =  3\n",
      "dongunuz bitti\n"
     ]
    }
   ],
   "source": [
    "for sayi in sayilar:\n",
    "    for x in yeni:\n",
    "        print(\"sayiniz = \",x)\n",
    "\n",
    "else:\n",
    "        print(\"dongunuz bitti\")"
   ]
  },
  {
   "cell_type": "markdown",
   "id": "8d354e87",
   "metadata": {},
   "source": [
    "##### Range fonksiyonu"
   ]
  },
  {
   "cell_type": "code",
   "execution_count": 268,
   "id": "57eb7dde",
   "metadata": {},
   "outputs": [],
   "source": [
    "# \"range\" fonksiyonu ic ice for donguleri kullanilir.\n",
    "# range fonksiyonu, Python'da bir dizi sayı üretmek için kullanılan bir fonksiyondur. Bu fonksiyon, bir başlangıç değeri, bir bitiş değeri ve bir adım değeri alarak, bu değerler arasında belirli bir adımla artan bir sayı dizisi üretir."
   ]
  },
  {
   "cell_type": "code",
   "execution_count": 269,
   "id": "6624921a",
   "metadata": {},
   "outputs": [
    {
     "name": "stdout",
     "output_type": "stream",
     "text": [
      "1\n",
      "2\n",
      "3\n",
      "4\n",
      "5\n",
      "6\n",
      "7\n",
      "8\n",
      "9\n",
      "10\n"
     ]
    }
   ],
   "source": [
    "# 1 den 11 e kadar yazdirma islemi gerceklestirildi.\n",
    "for i in range(1,11):\n",
    "    print(i)"
   ]
  },
  {
   "cell_type": "code",
   "execution_count": 270,
   "id": "f98b7ceb",
   "metadata": {},
   "outputs": [
    {
     "name": "stdout",
     "output_type": "stream",
     "text": [
      "1\n",
      "3\n",
      "5\n",
      "7\n",
      "9\n"
     ]
    }
   ],
   "source": [
    "# 1 den 11 e kadar 2 artirarak yazdirma islemi gerceklestirildi.\n",
    "for i in range(1,11,2):\n",
    "    print(i)"
   ]
  },
  {
   "cell_type": "code",
   "execution_count": 271,
   "id": "2525026d",
   "metadata": {},
   "outputs": [
    {
     "data": {
      "text/plain": [
       "[0, 1, 2, 3, 4, 5, 6, 7, 8, 9, 10, 11, 12, 13, 14, 15, 16, 17, 18, 19]"
      ]
     },
     "execution_count": 271,
     "metadata": {},
     "output_type": "execute_result"
    }
   ],
   "source": [
    "list(range(20))"
   ]
  },
  {
   "cell_type": "code",
   "execution_count": 272,
   "id": "45ca7e89",
   "metadata": {},
   "outputs": [
    {
     "data": {
      "text/plain": [
       "{0, 1, 2, 3, 4, 5, 6, 7, 8, 9, 10, 11, 12, 13, 14, 15, 16, 17, 18, 19}"
      ]
     },
     "execution_count": 272,
     "metadata": {},
     "output_type": "execute_result"
    }
   ],
   "source": [
    "set(range(20))"
   ]
  },
  {
   "cell_type": "code",
   "execution_count": 273,
   "id": "3f56f715",
   "metadata": {},
   "outputs": [
    {
     "data": {
      "text/plain": [
       "(0, 1, 2, 3, 4, 5, 6, 7, 8, 9, 10, 11, 12, 13, 14, 15, 16, 17, 18, 19)"
      ]
     },
     "execution_count": 273,
     "metadata": {},
     "output_type": "execute_result"
    }
   ],
   "source": [
    "tuple(range(20))"
   ]
  },
  {
   "cell_type": "markdown",
   "id": "78da18b5",
   "metadata": {},
   "source": [
    "##### Pass Fonksiyonu"
   ]
  },
  {
   "cell_type": "code",
   "execution_count": 274,
   "id": "b02a969e",
   "metadata": {},
   "outputs": [],
   "source": [
    "# \"pass\" ifadesi bos bir dongu olusturmak icin kullanilir.\n",
    "for a in range(1,11):\n",
    "    pass"
   ]
  },
  {
   "cell_type": "code",
   "execution_count": 275,
   "id": "f783c8f3",
   "metadata": {},
   "outputs": [],
   "source": [
    "renkler = [\"sari\",\"yesil\",\"kirmizi\",\"mavi\",\"beyaz\",\"siyah\"]"
   ]
  },
  {
   "cell_type": "code",
   "execution_count": 276,
   "id": "93c14844",
   "metadata": {},
   "outputs": [
    {
     "data": {
      "text/plain": [
       "'siyah'"
      ]
     },
     "execution_count": 276,
     "metadata": {},
     "output_type": "execute_result"
    }
   ],
   "source": [
    "renkler[0]\n",
    "renkler[1]\n",
    "renkler[2]\n",
    "renkler[3]\n",
    "renkler[4]\n",
    "renkler[5]"
   ]
  },
  {
   "cell_type": "code",
   "execution_count": 277,
   "id": "f9878ab1",
   "metadata": {},
   "outputs": [
    {
     "name": "stdout",
     "output_type": "stream",
     "text": [
      "sari\n",
      "yesil\n",
      "kirmizi\n",
      "mavi\n",
      "beyaz\n",
      "siyah\n"
     ]
    }
   ],
   "source": [
    "for renk in renkler:\n",
    "    print(renk)"
   ]
  },
  {
   "cell_type": "code",
   "execution_count": 278,
   "id": "fbb30679",
   "metadata": {},
   "outputs": [],
   "source": [
    "gelirler = [1000,2000,3000,4000,5000,6000,7000,8000,9000,10000]"
   ]
  },
  {
   "cell_type": "code",
   "execution_count": 279,
   "id": "cb484422",
   "metadata": {},
   "outputs": [
    {
     "data": {
      "text/plain": [
       "1000"
      ]
     },
     "execution_count": 279,
     "metadata": {},
     "output_type": "execute_result"
    }
   ],
   "source": [
    "gelirler[0]"
   ]
  },
  {
   "cell_type": "code",
   "execution_count": 280,
   "id": "15abb4b4",
   "metadata": {},
   "outputs": [
    {
     "name": "stdout",
     "output_type": "stream",
     "text": [
      "1000\n",
      "2000\n",
      "3000\n",
      "4000\n",
      "5000\n"
     ]
    }
   ],
   "source": [
    "for gelir in gelirler:\n",
    "    print(gelir)\n",
    "    if gelir == 5000:\n",
    "        break"
   ]
  },
  {
   "cell_type": "markdown",
   "id": "1158668e",
   "metadata": {},
   "source": [
    "#### FONKSIYONLAR (FUNCTIONS)"
   ]
  },
  {
   "cell_type": "code",
   "execution_count": 281,
   "id": "05bbd647",
   "metadata": {},
   "outputs": [],
   "source": [
    "# fonksiyonlar amaci istedigimiz islemi tekrar tekrar yapmak icin kullanilir.\n",
    "# fonksiyonu bir kere tanimlarsin ve istedigin zaman kullanabilirsin."
   ]
  },
  {
   "cell_type": "code",
   "execution_count": 282,
   "id": "4b7d63c6",
   "metadata": {},
   "outputs": [],
   "source": [
    "# \"def\" ifadesi fonksiyon tanimlamak icin kullanilir."
   ]
  },
  {
   "cell_type": "code",
   "execution_count": 283,
   "id": "1503b856",
   "metadata": {},
   "outputs": [],
   "source": [
    "def kare_al(x): # parametre tanimlama\n",
    "    print(x**2)"
   ]
  },
  {
   "cell_type": "code",
   "execution_count": 284,
   "id": "3ead7da1",
   "metadata": {},
   "outputs": [
    {
     "name": "stdout",
     "output_type": "stream",
     "text": [
      "25\n"
     ]
    }
   ],
   "source": [
    "kare_al(5) # argument tanimlama"
   ]
  },
  {
   "cell_type": "code",
   "execution_count": 285,
   "id": "735f79e4",
   "metadata": {},
   "outputs": [
    {
     "name": "stdout",
     "output_type": "stream",
     "text": [
      "100\n"
     ]
    }
   ],
   "source": [
    "kare_al(10)"
   ]
  },
  {
   "cell_type": "code",
   "execution_count": 286,
   "id": "0ec395da",
   "metadata": {},
   "outputs": [],
   "source": [
    "#tanimlanmis foksiyonu tekrar tekrar kullanmak icin \"return\" ifadesi kullanilir."
   ]
  },
  {
   "cell_type": "code",
   "execution_count": 287,
   "id": "56fcc6fd",
   "metadata": {},
   "outputs": [],
   "source": [
    "def alan(r,pi):\n",
    "    print(pi*r**2)"
   ]
  },
  {
   "cell_type": "code",
   "execution_count": 288,
   "id": "3ecb207a",
   "metadata": {},
   "outputs": [
    {
     "name": "stdout",
     "output_type": "stream",
     "text": [
      "78.5\n"
     ]
    }
   ],
   "source": [
    "alan(5,3.14)"
   ]
  },
  {
   "cell_type": "code",
   "execution_count": 289,
   "id": "059a7b3e",
   "metadata": {},
   "outputs": [
    {
     "name": "stdout",
     "output_type": "stream",
     "text": [
      "314.0\n"
     ]
    }
   ],
   "source": [
    "alan(10,3.14)"
   ]
  },
  {
   "cell_type": "code",
   "execution_count": 290,
   "id": "c45e5dd2",
   "metadata": {},
   "outputs": [],
   "source": [
    "def alan(r,pi=3.14):\n",
    "    print(pi*r**2)"
   ]
  },
  {
   "cell_type": "code",
   "execution_count": 291,
   "id": "0cc139a6",
   "metadata": {},
   "outputs": [
    {
     "name": "stdout",
     "output_type": "stream",
     "text": [
      "78.5\n"
     ]
    }
   ],
   "source": [
    "alan(5)"
   ]
  },
  {
   "cell_type": "code",
   "execution_count": 292,
   "id": "2ab1f748",
   "metadata": {},
   "outputs": [
    {
     "name": "stdout",
     "output_type": "stream",
     "text": [
      "314.0\n"
     ]
    }
   ],
   "source": [
    "alan(10)"
   ]
  },
  {
   "cell_type": "markdown",
   "id": "fb21357d",
   "metadata": {},
   "source": [
    "###### print fonksiyonun parametresi"
   ]
  },
  {
   "cell_type": "code",
   "execution_count": 293,
   "id": "d37eb1d8",
   "metadata": {},
   "outputs": [
    {
     "name": "stdout",
     "output_type": "stream",
     "text": [
      "Tunahan Erturk\n"
     ]
    }
   ],
   "source": [
    "print(\"Tunahan\", \"Erturk\",sep=\" \")"
   ]
  },
  {
   "cell_type": "code",
   "execution_count": 294,
   "id": "1a01985b",
   "metadata": {},
   "outputs": [
    {
     "name": "stdout",
     "output_type": "stream",
     "text": [
      "Tunahan-Erturk\n"
     ]
    }
   ],
   "source": [
    "print(\"Tunahan\", \"Erturk\",sep=\"-\")"
   ]
  },
  {
   "cell_type": "code",
   "execution_count": 295,
   "id": "dc6c531a",
   "metadata": {},
   "outputs": [
    {
     "name": "stdout",
     "output_type": "stream",
     "text": [
      "Tunahan*Erturk\n"
     ]
    }
   ],
   "source": [
    "print(\"Tunahan\", \"Erturk\",sep=\"*\")"
   ]
  },
  {
   "cell_type": "code",
   "execution_count": 296,
   "id": "f9c1d980",
   "metadata": {},
   "outputs": [
    {
     "name": "stdout",
     "output_type": "stream",
     "text": [
      "Tunahan Erturk:"
     ]
    }
   ],
   "source": [
    "print(\"Tunahan\", \"Erturk\",end=\":\")"
   ]
  },
  {
   "cell_type": "markdown",
   "id": "0229baf9",
   "metadata": {},
   "source": [
    "##### Fonksiyon Tanimlama def ile olur"
   ]
  },
  {
   "cell_type": "code",
   "execution_count": 297,
   "id": "d9653a03",
   "metadata": {},
   "outputs": [
    {
     "name": "stdout",
     "output_type": "stream",
     "text": [
      "Tunahan-Erturk:"
     ]
    }
   ],
   "source": [
    "print(\"Tunahan\", \"Erturk\",sep=\"-\",end=\":\")"
   ]
  },
  {
   "cell_type": "markdown",
   "id": "a9aef317",
   "metadata": {},
   "source": [
    "#### Return Fonksiyonu"
   ]
  },
  {
   "cell_type": "code",
   "execution_count": 298,
   "id": "c3af459f",
   "metadata": {},
   "outputs": [
    {
     "name": "stdout",
     "output_type": "stream",
     "text": [
      "8\n"
     ]
    }
   ],
   "source": [
    "\"\"\" \n",
    "\"Return\" ifadesi, bir fonksiyondan cikti almanizi saglar.\n",
    "Fonksiyon calisirken \"return\" ifadesine ulastiginda, o noktada fonksiyon calismasi durur ve return\n",
    "ifadesinden sonra belirtilen deger veya degerler fonksiyonu cagiran koda geri gonderilir.\n",
    "\"\"\"\n",
    "# print() sadece ekrana yazdırır ama geri döndürmez. Eğer bir değeri geri almak istiyorsak return kullanmalıyız.\n",
    "# Eğer return kullanılmazsa, fonksiyon None döndürür.\n",
    "\n",
    "def topla(a, b): \n",
    "   return a + b  #burda fonksiyon calismasi durar ve kod basa doner.\n",
    "\n",
    "sonuc = topla(3, 5)\n",
    "\n",
    "print(sonuc) \n",
    "\n",
    "\n"
   ]
  },
  {
   "cell_type": "code",
   "execution_count": 299,
   "id": "1e6741b8",
   "metadata": {},
   "outputs": [
    {
     "name": "stdout",
     "output_type": "stream",
     "text": [
      "(13, 7, 30)\n",
      "Toplam: 13\n",
      "Fark: 7\n",
      "Çarpım: 30\n"
     ]
    }
   ],
   "source": [
    "#Bu tuple, fonksiyon çağrıldığında sonuc isimli değişkene atanır ya da doğrudan ayrı değişkenlere ayrılabilir.\n",
    "\n",
    "def islem(a, b):\n",
    "    toplam = a + b\n",
    "    fark = a - b\n",
    "    carpim = a * b\n",
    "    return toplam, fark, carpim \n",
    "\n",
    "sonuc = islem(10, 3)\n",
    "print(sonuc)  # Çıktı: (13, 7, 30)\n",
    "\n",
    "# Dönen tuple'ı ayrı değişkenlere de atayabilirsiniz.\n",
    "toplam, fark, carpim = islem(10, 3)\n",
    "print(\"Toplam:\", toplam)   # Toplam: 13\n",
    "print(\"Fark:\", fark)       # Fark: 7\n",
    "print(\"Çarpım:\", carpim)   # Çarpım: 30\n"
   ]
  },
  {
   "cell_type": "code",
   "execution_count": 300,
   "id": "58e815c7",
   "metadata": {},
   "outputs": [
    {
     "name": "stdout",
     "output_type": "stream",
     "text": [
      "Pozitif\n",
      "Negatif\n",
      "Sifir\n"
     ]
    }
   ],
   "source": [
    "def kontrol_sayi(sayi):\n",
    "    if sayi > 0:\n",
    "        return \"Pozitif\"\n",
    "    elif sayi < 0:\n",
    "        return \"Negatif\"\n",
    "    else:\n",
    "        return \"Sifir\"\n",
    "\n",
    "print(kontrol_sayi(10))   # Çıktı: Pozitif\n",
    "print(kontrol_sayi(-5))   # Çıktı: Negatif\n",
    "print(kontrol_sayi(0))    # Çıktı: Sıfır\n"
   ]
  },
  {
   "cell_type": "code",
   "execution_count": 301,
   "id": "4302d946",
   "metadata": {},
   "outputs": [
    {
     "name": "stdout",
     "output_type": "stream",
     "text": [
      "113.04\n"
     ]
    }
   ],
   "source": [
    "alan1 =alan(6)"
   ]
  },
  {
   "cell_type": "code",
   "execution_count": 302,
   "id": "9c135cac",
   "metadata": {},
   "outputs": [
    {
     "name": "stdout",
     "output_type": "stream",
     "text": [
      "200.96\n"
     ]
    }
   ],
   "source": [
    "alan2 = alan(8)"
   ]
  },
  {
   "cell_type": "code",
   "execution_count": 303,
   "id": "1c121d8c",
   "metadata": {},
   "outputs": [],
   "source": [
    "#print(alan1 + alan2) # TypeError: unsupported operand type(s) for +: 'NoneType' and 'NoneType\n"
   ]
  },
  {
   "cell_type": "code",
   "execution_count": 304,
   "id": "e6ae7a23",
   "metadata": {},
   "outputs": [],
   "source": [
    "def alan(r,pi=3.14):\n",
    "    return (pi*r**2)"
   ]
  },
  {
   "cell_type": "code",
   "execution_count": 305,
   "id": "d367fb22",
   "metadata": {},
   "outputs": [],
   "source": [
    "alan1 = alan(6)"
   ]
  },
  {
   "cell_type": "code",
   "execution_count": 306,
   "id": "79fcaeb5",
   "metadata": {},
   "outputs": [],
   "source": [
    "alan2 = alan(8)"
   ]
  },
  {
   "cell_type": "code",
   "execution_count": 307,
   "id": "27956686",
   "metadata": {},
   "outputs": [
    {
     "name": "stdout",
     "output_type": "stream",
     "text": [
      "314.0\n"
     ]
    }
   ],
   "source": [
    "print(alan1 + alan2) # alan1 + alan2"
   ]
  },
  {
   "cell_type": "code",
   "execution_count": 308,
   "id": "85a7a261",
   "metadata": {},
   "outputs": [],
   "source": [
    "#Fonksiyonlarla ilgili islemler yapacaksaniz KESINLIKLE \"RETURN\" ifadesini kullanmaniz gerekir.  "
   ]
  },
  {
   "cell_type": "code",
   "execution_count": 309,
   "id": "36534a2a",
   "metadata": {},
   "outputs": [],
   "source": [
    "# pass ifadesi bos bir dongu olusturmak icin kullanilir.\n",
    "def dsjflsidjfl():\n",
    "    pass"
   ]
  },
  {
   "cell_type": "code",
   "execution_count": 310,
   "id": "7b4c1fb5",
   "metadata": {},
   "outputs": [],
   "source": [
    "def cift_mi(x):\n",
    "    if x % 2 == 0:\n",
    "        print(\"Bu sayi cifttir.\")\n",
    "    else:\n",
    "        return False\n"
   ]
  },
  {
   "cell_type": "code",
   "execution_count": 311,
   "id": "6408fa32",
   "metadata": {},
   "outputs": [
    {
     "name": "stdout",
     "output_type": "stream",
     "text": [
      "Bu sayi cifttir.\n"
     ]
    }
   ],
   "source": [
    "cift_mi(10)"
   ]
  },
  {
   "cell_type": "code",
   "execution_count": 312,
   "id": "be1413a2",
   "metadata": {},
   "outputs": [
    {
     "name": "stdout",
     "output_type": "stream",
     "text": [
      "Bu sayi cifttir.\n"
     ]
    }
   ],
   "source": [
    "cift = cift_mi(10)"
   ]
  },
  {
   "cell_type": "code",
   "execution_count": 313,
   "id": "6c4b1897",
   "metadata": {},
   "outputs": [
    {
     "data": {
      "text/plain": [
       "NoneType"
      ]
     },
     "execution_count": 313,
     "metadata": {},
     "output_type": "execute_result"
    }
   ],
   "source": [
    "type(cift)"
   ]
  },
  {
   "cell_type": "code",
   "execution_count": 314,
   "id": "5f177d42",
   "metadata": {},
   "outputs": [],
   "source": [
    "def cift_mi(x):\n",
    "    if x % 2 == 0:\n",
    "        return \"Bu sayi cifttir.\""
   ]
  },
  {
   "cell_type": "code",
   "execution_count": 315,
   "id": "f2253e8d",
   "metadata": {},
   "outputs": [],
   "source": [
    "cift = cift_mi(10)"
   ]
  },
  {
   "cell_type": "code",
   "execution_count": 316,
   "id": "5d8eb3a4",
   "metadata": {},
   "outputs": [
    {
     "data": {
      "text/plain": [
       "'Bu sayi cifttir.'"
      ]
     },
     "execution_count": 316,
     "metadata": {},
     "output_type": "execute_result"
    }
   ],
   "source": [
    "cift_mi(10)"
   ]
  },
  {
   "cell_type": "code",
   "execution_count": 317,
   "id": "671eb3d8",
   "metadata": {},
   "outputs": [
    {
     "data": {
      "text/plain": [
       "str"
      ]
     },
     "execution_count": 317,
     "metadata": {},
     "output_type": "execute_result"
    }
   ],
   "source": [
    "type(cift)"
   ]
  },
  {
   "cell_type": "code",
   "execution_count": 318,
   "id": "8be4c924",
   "metadata": {},
   "outputs": [
    {
     "data": {
      "text/plain": [
       "str"
      ]
     },
     "execution_count": 318,
     "metadata": {},
     "output_type": "execute_result"
    }
   ],
   "source": [
    "type(cift_mi(10))"
   ]
  },
  {
   "cell_type": "markdown",
   "id": "c1b679a1",
   "metadata": {},
   "source": [
    "##### \"HELP\" bir fonksiyonun ne icin kullanildigini soyler"
   ]
  },
  {
   "cell_type": "code",
   "execution_count": 319,
   "id": "aad4b8a5",
   "metadata": {},
   "outputs": [
    {
     "name": "stdout",
     "output_type": "stream",
     "text": [
      "Help on built-in function print in module builtins:\n",
      "\n",
      "print(*args, sep=' ', end='\\n', file=None, flush=False)\n",
      "    Prints the values to a stream, or to sys.stdout by default.\n",
      "\n",
      "    sep\n",
      "      string inserted between values, default a space.\n",
      "    end\n",
      "      string appended after the last value, default a newline.\n",
      "    file\n",
      "      a file-like object (stream); defaults to the current sys.stdout.\n",
      "    flush\n",
      "      whether to forcibly flush the stream.\n",
      "\n"
     ]
    }
   ],
   "source": [
    "help(print)"
   ]
  },
  {
   "cell_type": "code",
   "execution_count": 320,
   "id": "be2f34ea",
   "metadata": {},
   "outputs": [],
   "source": [
    "def kimlik(isim, soyisim, yas, tc_no):\n",
    "    print(\"isim\",isim , \"soyisim\",soyisim , \"yas\",yas , \"TC no\",tc_no)"
   ]
  },
  {
   "cell_type": "markdown",
   "id": "3518f892",
   "metadata": {},
   "source": [
    "##### Default Parameters"
   ]
  },
  {
   "cell_type": "code",
   "execution_count": 321,
   "id": "9655536d",
   "metadata": {},
   "outputs": [],
   "source": [
    "# def fonksiyon_adi(parametre1, parametre2, parametre3):\n",
    "# fonksiyona default degerler   \n",
    "\n",
    "def kimlik(isim =\"Bos\", soyisim = \"Bos\", yas = \"Bos\", tc_no = \"Bos\"):\n",
    "    print(\"Isim:\", isim , \"Soyisim:\", soyisim ,\"Yas:\", yas ,\"Tc no:\", tc_no) \n"
   ]
  },
  {
   "cell_type": "code",
   "execution_count": 322,
   "id": "13032957",
   "metadata": {},
   "outputs": [
    {
     "name": "stdout",
     "output_type": "stream",
     "text": [
      "Isim: Tunahan Soyisim: Erturk Yas: 29 Tc no: 32424234234\n"
     ]
    }
   ],
   "source": [
    "kimlik(\"Tunahan\", \"Erturk\", 29, 32424234234)"
   ]
  },
  {
   "cell_type": "code",
   "execution_count": 323,
   "id": "d1568749",
   "metadata": {},
   "outputs": [
    {
     "name": "stdout",
     "output_type": "stream",
     "text": [
      "Isim: tunahan Soyisim: erturk Yas: Bos Tc no: Bos\n"
     ]
    }
   ],
   "source": [
    "kimlik(\"tunahan\", \"erturk\")"
   ]
  },
  {
   "cell_type": "code",
   "execution_count": 324,
   "id": "67834e34",
   "metadata": {},
   "outputs": [
    {
     "name": "stdout",
     "output_type": "stream",
     "text": [
      "Isim: 29 Soyisim: 32424234234 Yas: Bos Tc no: Bos\n"
     ]
    }
   ],
   "source": [
    "kimlik(29, 32424234234)"
   ]
  },
  {
   "cell_type": "code",
   "execution_count": 325,
   "id": "a625b6f6",
   "metadata": {},
   "outputs": [
    {
     "name": "stdout",
     "output_type": "stream",
     "text": [
      "Isim: Bos Soyisim: Bos Yas: 29 Tc no: 32424234234\n"
     ]
    }
   ],
   "source": [
    "# Yukardaki hatayi gidermek icin parametreleri tanimlamak gerekir.\n",
    "kimlik(yas = 29, tc_no = 32424234234)"
   ]
  },
  {
   "cell_type": "markdown",
   "id": "05a0f4fb",
   "metadata": {},
   "source": [
    "### NESNE TABANLI PROGRAMLAMA(OBJECT ORIENTED PROGRAMMING)"
   ]
  },
  {
   "cell_type": "code",
   "execution_count": 326,
   "id": "098be0a9",
   "metadata": {},
   "outputs": [],
   "source": [
    "# Object Orineted Programming OOP:\n",
    "# Python'da bir obje olusturmak icin \"class\" ifadesi kullanilir. \n",
    "# Nesnelerin ozellikleri(attributes) ve davranislar(methods) olacaktir."
   ]
  },
  {
   "cell_type": "code",
   "execution_count": 327,
   "id": "e817acb4",
   "metadata": {},
   "outputs": [],
   "source": [
    "isim = \"tunahan\""
   ]
  },
  {
   "cell_type": "code",
   "execution_count": 328,
   "id": "06b03eb3",
   "metadata": {},
   "outputs": [
    {
     "data": {
      "text/plain": [
       "'TUNAHAN'"
      ]
     },
     "execution_count": 328,
     "metadata": {},
     "output_type": "execute_result"
    }
   ],
   "source": [
    "isim.upper()"
   ]
  },
  {
   "cell_type": "code",
   "execution_count": 329,
   "id": "ad2f654a",
   "metadata": {},
   "outputs": [],
   "source": [
    "# OOP ile nesnelerin ozellikleri(attributes) ve davranislar(methods) olacaktir.\n",
    "\n",
    "bir_isim = \"tunahan\"\n",
    "bir_soyisim = \"erturk\"\n",
    "bir_yas = 29\n",
    "bir_not_ort = 85\n",
    "\n",
    "iki_isim = \"hakan\"\n",
    "iki_soyisim = \"fidan\"\n",
    "iki_yas = \"45\"\n",
    "iki_not_ort = 65"
   ]
  },
  {
   "cell_type": "code",
   "execution_count": 330,
   "id": "9a895374",
   "metadata": {},
   "outputs": [],
   "source": [
    "class Ogrenci: # Siniflar tanimlarken ilk harf buyuk olur.\n",
    "   # Asagida Ogrenci sinifinin attributes leri  (ozellikleri) var.\n",
    "   # Hepsi ayni nesne ozelliklerini alir.\n",
    "\n",
    "    isim = \"tunahan\"\n",
    "    soyisim = \"erturk\"\n",
    "    yas = 25\n",
    "    not_ort = 85 "
   ]
  },
  {
   "cell_type": "code",
   "execution_count": 331,
   "id": "b795c64d",
   "metadata": {},
   "outputs": [],
   "source": [
    "# Ogrenci sinifinin nesnesini olusturduk.\n",
    "bir = Ogrenci()"
   ]
  },
  {
   "cell_type": "code",
   "execution_count": 332,
   "id": "76de1fbe",
   "metadata": {},
   "outputs": [
    {
     "data": {
      "text/plain": [
       "'tunahan'"
      ]
     },
     "execution_count": 332,
     "metadata": {},
     "output_type": "execute_result"
    }
   ],
   "source": [
    "bir.isim"
   ]
  },
  {
   "cell_type": "code",
   "execution_count": 333,
   "id": "9feddd5b",
   "metadata": {},
   "outputs": [
    {
     "data": {
      "text/plain": [
       "25"
      ]
     },
     "execution_count": 333,
     "metadata": {},
     "output_type": "execute_result"
    }
   ],
   "source": [
    "bir.yas"
   ]
  },
  {
   "cell_type": "code",
   "execution_count": 334,
   "id": "93f48a56",
   "metadata": {},
   "outputs": [],
   "source": [
    "iki = Ogrenci()"
   ]
  },
  {
   "cell_type": "code",
   "execution_count": 335,
   "id": "bc814010",
   "metadata": {},
   "outputs": [
    {
     "data": {
      "text/plain": [
       "'tunahan'"
      ]
     },
     "execution_count": 335,
     "metadata": {},
     "output_type": "execute_result"
    }
   ],
   "source": [
    "iki.isim"
   ]
  },
  {
   "cell_type": "markdown",
   "id": "1280cc45",
   "metadata": {},
   "source": [
    "##### Initializer or Constructor"
   ]
  },
  {
   "cell_type": "markdown",
   "id": "186d1754",
   "metadata": {},
   "source": [
    "###### Init Methodu"
   ]
  },
  {
   "cell_type": "markdown",
   "id": "ce8efc4c",
   "metadata": {},
   "source": [
    "###### Self  Degiskeninin Sinif icinde Kullanimi"
   ]
  },
  {
   "cell_type": "code",
   "execution_count": 336,
   "id": "cc687c86",
   "metadata": {},
   "outputs": [],
   "source": [
    "#Self kullanmanın amacı, sınıfın içinde tanımlanan metodların, o sınıfın özelliklerine (attribute) ve metodlarına erişebilmesini sağlamaktır."
   ]
  },
  {
   "cell_type": "code",
   "execution_count": 337,
   "id": "6998c08f",
   "metadata": {},
   "outputs": [],
   "source": [
    "#Bizim sinifimizin ana yapsini olusturan bir metot --> __init__()\n",
    "#Bir cok ogrencinin ayri ayri sinif ozelliklerini tutabilecegiz."
   ]
  },
  {
   "cell_type": "code",
   "execution_count": 338,
   "id": "bf83e41d",
   "metadata": {},
   "outputs": [],
   "source": [
    "\"\"\"\n",
    "class Ogrenci:\n",
    " \n",
    "        def __init__ (isim,soyisim,yas,not_ort):\n",
    "                nesnenin_ismi = isim\n",
    "                nesnenin_soyismi = soyisim\n",
    "                nesnenin_yasi = yas\n",
    "                nesnenin_not_ort = not_ort\n",
    "\"\"\"\n",
    "\n",
    "\n",
    "\"\"\"\n",
    "class Ogrenci:\n",
    "    def __init__ (self,isim,soyisim,yas,not_ort):\n",
    "        self.nesnenin_ismi = isim\n",
    "        self.nesnenin_soyismi = soyisim\n",
    "        self.nesnenin_yasi = yas\n",
    "        self.nesnenin_not_ort = not_ort\n",
    "\"\"\"   \n",
    "\n",
    "# self degsikeni \n",
    "class Ogrenci:\n",
    "    def __init__ (self,isim,soyisim,yas,not_ort):\n",
    "        self.isim = isim\n",
    "        self.soyisim = soyisim\n",
    "        self.yas = yas\n",
    "        self.not_ort = not_ort\n"
   ]
  },
  {
   "cell_type": "code",
   "execution_count": 339,
   "id": "8a4d4006",
   "metadata": {},
   "outputs": [],
   "source": [
    "bir = Ogrenci(\"tunahan\",\"erturk\",25,85)"
   ]
  },
  {
   "cell_type": "code",
   "execution_count": 340,
   "id": "b0f25976",
   "metadata": {},
   "outputs": [
    {
     "name": "stdout",
     "output_type": "stream",
     "text": [
      "tunahan\n"
     ]
    }
   ],
   "source": [
    "print(bir.isim)"
   ]
  },
  {
   "cell_type": "code",
   "execution_count": 341,
   "id": "7018f9a2",
   "metadata": {},
   "outputs": [],
   "source": [
    "iki = Ogrenci(\"hakan\",\"fidan\",45,65)"
   ]
  },
  {
   "cell_type": "code",
   "execution_count": 342,
   "id": "59015c01",
   "metadata": {},
   "outputs": [
    {
     "name": "stdout",
     "output_type": "stream",
     "text": [
      "hakan\n"
     ]
    }
   ],
   "source": [
    "print(iki.isim)"
   ]
  },
  {
   "cell_type": "code",
   "execution_count": 343,
   "id": "1ba86a81",
   "metadata": {},
   "outputs": [
    {
     "name": "stdout",
     "output_type": "stream",
     "text": [
      "45\n"
     ]
    }
   ],
   "source": [
    "print(iki.yas)"
   ]
  },
  {
   "cell_type": "markdown",
   "id": "6082e52c",
   "metadata": {},
   "source": [
    "##### Methods (Davranislar)"
   ]
  },
  {
   "cell_type": "code",
   "execution_count": 344,
   "id": "2880e338",
   "metadata": {},
   "outputs": [],
   "source": [
    "# Method : Bir fonksiyon \"Sinifin Icinde\" tanimlanirsa Method olur.\n",
    "# Fonskiyon : \"sinifin disinda\" tanimlanirsa Fonksiyon olur."
   ]
  },
  {
   "cell_type": "code",
   "execution_count": 345,
   "id": "4b8708b8",
   "metadata": {},
   "outputs": [],
   "source": [
    "# Olusturdugumuz methodlarda ilk parametremiz self olmak zorundadir."
   ]
  },
  {
   "cell_type": "code",
   "execution_count": 346,
   "id": "bec85330",
   "metadata": {},
   "outputs": [],
   "source": [
    "class Ogrenci:\n",
    "    def __init__ (self,isim,soyisim,yas,not_ort):\n",
    "        self.isim = isim\n",
    "        self.soyisim = soyisim\n",
    "        self.yas = yas\n",
    "        self.not_ort = not_ort\n",
    "    \n",
    "    def info(self):\n",
    "        print(\"{} {} {} yasinda ve  {} ortalamaya sahip bir ogrencidir.\".format(self.isim,self.soyisim,self.yas,self.not_ort))"
   ]
  },
  {
   "cell_type": "code",
   "execution_count": 347,
   "id": "58195f3c",
   "metadata": {},
   "outputs": [],
   "source": [
    "bir = Ogrenci(\"tunahan\",\"erturk\",25,85)"
   ]
  },
  {
   "cell_type": "code",
   "execution_count": 348,
   "id": "2efe85ae",
   "metadata": {},
   "outputs": [
    {
     "data": {
      "text/plain": [
       "85"
      ]
     },
     "execution_count": 348,
     "metadata": {},
     "output_type": "execute_result"
    }
   ],
   "source": [
    "bir.not_ort"
   ]
  },
  {
   "cell_type": "code",
   "execution_count": 349,
   "id": "2031d1d1",
   "metadata": {},
   "outputs": [
    {
     "name": "stdout",
     "output_type": "stream",
     "text": [
      "tunahan\n"
     ]
    }
   ],
   "source": [
    "print(bir.isim)"
   ]
  },
  {
   "cell_type": "code",
   "execution_count": 350,
   "id": "fe75410f",
   "metadata": {},
   "outputs": [
    {
     "name": "stdout",
     "output_type": "stream",
     "text": [
      "tunahan erturk 25 yasinda ve  85 ortalamaya sahip bir ogrencidir.\n"
     ]
    }
   ],
   "source": [
    "bir.info()"
   ]
  },
  {
   "cell_type": "code",
   "execution_count": 351,
   "id": "255cebd2",
   "metadata": {},
   "outputs": [],
   "source": [
    "class Ogrenci:\n",
    "    def __init__ (self,isim,soyisim,yas,not_ort):\n",
    "        self.isim = isim\n",
    "        self.soyisim = soyisim\n",
    "        self.yas = yas\n",
    "        self.not_ort = not_ort\n",
    "    \n",
    "    def info(self):\n",
    "        # bir fonksiyon tanimladik ve bu return ile donmelidir ve ayrica foksiyon icinde bir fonksiyon daha var bu da method'tur. \n",
    "        return \"{} {} {} yasinda ve  {} ortalamaya sahip bir ogrencidir.\".format(self.isim,self.soyisim,self.yas,self.not_ort)"
   ]
  },
  {
   "cell_type": "code",
   "execution_count": 352,
   "id": "ae7c4364",
   "metadata": {},
   "outputs": [],
   "source": [
    "bir = Ogrenci(\"tunahan\",\"erturk\",25,85)"
   ]
  },
  {
   "cell_type": "code",
   "execution_count": 353,
   "id": "b1fd1235",
   "metadata": {},
   "outputs": [
    {
     "data": {
      "text/plain": [
       "'erturk'"
      ]
     },
     "execution_count": 353,
     "metadata": {},
     "output_type": "execute_result"
    }
   ],
   "source": [
    "bir.soyisim"
   ]
  },
  {
   "cell_type": "code",
   "execution_count": 354,
   "id": "3e253d14",
   "metadata": {},
   "outputs": [
    {
     "name": "stdout",
     "output_type": "stream",
     "text": [
      "tunahan\n"
     ]
    }
   ],
   "source": [
    "print(bir.isim)"
   ]
  },
  {
   "cell_type": "code",
   "execution_count": 355,
   "id": "291e0571",
   "metadata": {},
   "outputs": [
    {
     "name": "stdout",
     "output_type": "stream",
     "text": [
      "tunahan erturk 25 yasinda ve  85 ortalamaya sahip bir ogrencidir.\n"
     ]
    }
   ],
   "source": [
    "print(bir.info())"
   ]
  },
  {
   "cell_type": "code",
   "execution_count": 356,
   "id": "482ab281",
   "metadata": {},
   "outputs": [],
   "source": [
    "# Ogretmen isminde  bir Sinif olusturduk.\n",
    "# Ogretmen sinifinin nesnesini olusturduk.\n",
    "# Sinifin icinde fonksiyon kullanirsak bu method olur, mesela; Ogretmen sinifi icinde info methodu olusturduk\n",
    " \n",
    "class Ogretmen:\n",
    "    def __init__ (self,isim,soyisim,yas,maas,uzmanlik):\n",
    "        self.isim = isim\n",
    "        self.soyisim = soyisim\n",
    "        self.yas = yas\n",
    "        self.maas = maas\n",
    "        self.uzmanlik = uzmanlik\n",
    "    \n",
    "    def info(self):\n",
    "        # bir fonksiyon tanimladik ve bu return ile donmelidir ve ayrica foksiyon icinde bir fonksiyon daha var bu da method'tur. \n",
    "        return \"{} {} {} yasinda ve  {} maasi olan ogretmendir.\".format(self.isim,self.soyisim,self.yas,self.maas,self.uzmanlik)\n",
    "    \n",
    "    def zam(self):\n",
    "        return self.maas * 1.3 \n",
    "# siniftan bagimsiz oldugu icin yani disarda oldugu icin biz buna fonksiyon deriz, fonksiyonu tanimladik.\n",
    "def info(isim,soyisim,yas,maas,uzmanlik):\n",
    "    print(\"{} {} {} yasinda ve {} maasi olan bir {} ogretmendir.\".format(isim,soyisim,yas,maas,uzmanlik))"
   ]
  },
  {
   "cell_type": "code",
   "execution_count": 357,
   "id": "8a39bd63",
   "metadata": {},
   "outputs": [],
   "source": [
    "ali = Ogretmen(\"ali\",\"erturk\",25,5000,\"matematik\")"
   ]
  },
  {
   "cell_type": "code",
   "execution_count": 358,
   "id": "4fde1920",
   "metadata": {},
   "outputs": [
    {
     "data": {
      "text/plain": [
       "'ali erturk 25 yasinda ve  5000 maasi olan ogretmendir.'"
      ]
     },
     "execution_count": 358,
     "metadata": {},
     "output_type": "execute_result"
    }
   ],
   "source": [
    "ali.info()"
   ]
  },
  {
   "cell_type": "code",
   "execution_count": 359,
   "id": "159f3a6f",
   "metadata": {},
   "outputs": [
    {
     "data": {
      "text/plain": [
       "5000"
      ]
     },
     "execution_count": 359,
     "metadata": {},
     "output_type": "execute_result"
    }
   ],
   "source": [
    "ali.maas"
   ]
  },
  {
   "cell_type": "code",
   "execution_count": 360,
   "id": "de6ff005",
   "metadata": {},
   "outputs": [
    {
     "data": {
      "text/plain": [
       "6500.0"
      ]
     },
     "execution_count": 360,
     "metadata": {},
     "output_type": "execute_result"
    }
   ],
   "source": [
    "ali.zam()"
   ]
  },
  {
   "cell_type": "code",
   "execution_count": 361,
   "id": "2d0cb581",
   "metadata": {},
   "outputs": [
    {
     "name": "stdout",
     "output_type": "stream",
     "text": [
      "mustafa tek 30 yasinda ve 7000 maasi olan bir Fizik ogretmendir.\n"
     ]
    }
   ],
   "source": [
    "info(\"mustafa\",\"tek\",30,7000,\"Fizik\")"
   ]
  },
  {
   "cell_type": "markdown",
   "id": "94f7cc87",
   "metadata": {},
   "source": [
    "##### Encapsulation (Erisim Engelleme)"
   ]
  },
  {
   "cell_type": "code",
   "execution_count": 362,
   "id": "d3dce33b",
   "metadata": {},
   "outputs": [],
   "source": [
    "# Encapulation : Kapsulama \n",
    "# Bir nesne icindeki ozelliklerin disariya acilmasini engeller. \n",
    "# Bir sinifin icindeki ozelliklerin disariya acilmasini engeller."
   ]
  },
  {
   "cell_type": "code",
   "execution_count": 363,
   "id": "7455a7ad",
   "metadata": {},
   "outputs": [],
   "source": [
    "#Erisimi engellemek icin \"__\" gibi degisiklikler yapilir, kimse erismesin diye.\n",
    "class Ogretmen:\n",
    "    def __init__ (self,isim,soyisim,yas,maas,uzmanlik):\n",
    "        self.isim = isim\n",
    "        self.soyisim = soyisim\n",
    "        self.yas = yas # genel degisken\n",
    "        self.__maas = maas # \"Encapsulation uyguladik\" ozel degisken (erisimi engelledik) \n",
    "        self.uzmanlik = uzmanlik\n",
    "    def info(self):\n",
    "        # bir fonksiyon tanimladik ve bu return ile donmelidir ve ayrica foksiyon icinde bir fonksiyon daha var bu da method'tur. \n",
    "        return \"{} {} {} yasinda ve  {} maasi olan ogretmendir.\".format(self.isim,self.soyisim,self.yas,self.maas,self.uzmanlik)\n",
    "    \n",
    "    def zam(self):\n",
    "        return self.maas * 1.3 "
   ]
  },
  {
   "cell_type": "code",
   "execution_count": 364,
   "id": "3066a283",
   "metadata": {},
   "outputs": [],
   "source": [
    "ali = Ogretmen(\"ali\",\"erturk\",25,5000,\"matematik\")"
   ]
  },
  {
   "cell_type": "code",
   "execution_count": 365,
   "id": "1a2d4a0e",
   "metadata": {},
   "outputs": [],
   "source": [
    "#ali.maas"
   ]
  },
  {
   "cell_type": "code",
   "execution_count": 366,
   "id": "4846bf2c",
   "metadata": {},
   "outputs": [],
   "source": [
    "# ali.__maas Erisimi engelledik \"Encapsulation kullandik\""
   ]
  },
  {
   "cell_type": "markdown",
   "id": "b0f8c097",
   "metadata": {},
   "source": [
    "##### Encapsulation yapilmis nesne ozelligine erismek icin \"set\" \"get\" kullanilir"
   ]
  },
  {
   "cell_type": "code",
   "execution_count": 367,
   "id": "fd4e35f5",
   "metadata": {},
   "outputs": [],
   "source": [
    "# \"get\" methodu ile degerlerine ulasabiliriz.\n",
    "# \"set\" methodu ile degerlerini degistirebiliriz."
   ]
  },
  {
   "cell_type": "code",
   "execution_count": 368,
   "id": "c60b2e30",
   "metadata": {},
   "outputs": [],
   "source": [
    "class Ogretmen:\n",
    "    def __init__ (self,isim,soyisim,yas,maas,uzmanlik):\n",
    "        self.isim = isim\n",
    "        self.soyisim = soyisim\n",
    "        self.yas = yas # genel degisken\n",
    "        self.__maas = maas # \"Encapsulation uyguladik\" ozel degisken (erisimi engelledik) \n",
    "        self.uzmanlik = uzmanlik\n",
    "    def info(self):\n",
    "        # bir fonksiyon tanimladik ve bu return ile donmelidir ve ayrica foksiyon icinde bir fonksiyon daha var bu da method'tur. \n",
    "        return \"{} {} {} yasinda ve  {} maasi olan ogretmendir.\".format(self.isim,self.soyisim,self.yas,self.__maas,self.uzmanlik)\n",
    "    \n",
    "    def __zam(self):\n",
    "        return self.__maas * 1.3 \n",
    "    \n",
    "    def getMaas(self): # get methodu ile ozel degerlere ulasabiliri.\n",
    "        return self.__maas\n",
    "    def setMaas(self,yeni_maas):\n",
    "        self.__maas = yeni_maas\n",
    "\n"
   ]
  },
  {
   "cell_type": "code",
   "execution_count": 369,
   "id": "a1381a88",
   "metadata": {},
   "outputs": [],
   "source": [
    "# ali adinda Ogretmen sinifinin bir nesnesini olusturduk.\n",
    "ali = Ogretmen(\"ali\",\"erturk\",25,5000,\"matematik\")"
   ]
  },
  {
   "cell_type": "code",
   "execution_count": 370,
   "id": "372c4f41",
   "metadata": {},
   "outputs": [
    {
     "data": {
      "text/plain": [
       "5000"
      ]
     },
     "execution_count": 370,
     "metadata": {},
     "output_type": "execute_result"
    }
   ],
   "source": [
    "ali.getMaas()"
   ]
  },
  {
   "cell_type": "code",
   "execution_count": 371,
   "id": "f837fe03",
   "metadata": {},
   "outputs": [
    {
     "data": {
      "text/plain": [
       "6000"
      ]
     },
     "execution_count": 371,
     "metadata": {},
     "output_type": "execute_result"
    }
   ],
   "source": [
    "ali.setMaas(6000) # set methodu ile ozel degerlerini degistirebiliriz.\n",
    "ali.getMaas()"
   ]
  },
  {
   "cell_type": "code",
   "execution_count": 372,
   "id": "babf0278",
   "metadata": {},
   "outputs": [],
   "source": [
    "# __zam methodu olusturup disardan erisimi engelleriz Yani Encapsulation yapariz biz kendimi erismek istersek set ve get methodunu uygulamamiz gerekir.\n",
    "#ali = Ogretmen(\"ali\",\"erturk\",25,5000,\"matematik\")\n",
    "#ali.__zam"
   ]
  },
  {
   "cell_type": "markdown",
   "id": "d728c374",
   "metadata": {},
   "source": [
    "##### Inheritance (Kalitim)"
   ]
  },
  {
   "cell_type": "code",
   "execution_count": 373,
   "id": "7fda3894",
   "metadata": {},
   "outputs": [],
   "source": [
    "# \"Inharitance\" ile Iki veya daha cok siniftada ortak olan ozellikleri tek bir sinifta tanimlayabiliriz."
   ]
  },
  {
   "cell_type": "code",
   "execution_count": 374,
   "id": "55d44922",
   "metadata": {},
   "outputs": [],
   "source": [
    "class Okul:\n",
    "    def __init__(self,isim,soyisim,yas):\n",
    "        self.isim = isim\n",
    "        self.soyisim = soyisim\n",
    "        self.yas = yas\n",
    "        print(\"Okul sinifi calisti\")\n"
   ]
  },
  {
   "cell_type": "code",
   "execution_count": 375,
   "id": "a1aa5951",
   "metadata": {},
   "outputs": [
    {
     "name": "stdout",
     "output_type": "stream",
     "text": [
      "Okul sinifi calisti\n"
     ]
    }
   ],
   "source": [
    "ahmet = Okul(\"ahmet\",\"saglam\",25)"
   ]
  },
  {
   "cell_type": "code",
   "execution_count": 376,
   "id": "a68c9e51",
   "metadata": {},
   "outputs": [
    {
     "data": {
      "text/plain": [
       "'ahmet'"
      ]
     },
     "execution_count": 376,
     "metadata": {},
     "output_type": "execute_result"
    }
   ],
   "source": [
    "ahmet.isim"
   ]
  },
  {
   "cell_type": "markdown",
   "id": "9e6056a8",
   "metadata": {},
   "source": [
    "###### Super fonksiyonu kullanimi"
   ]
  },
  {
   "cell_type": "code",
   "execution_count": 377,
   "id": "ecc2f851",
   "metadata": {},
   "outputs": [],
   "source": [
    "class Ogretmen(Okul): # Okul sinifini inherit ediyoruz.\n",
    "    def __init__(self,isim,soyisim,yas):\n",
    "    #bunun yerine \"super\" fonksiyonu kullanilir.\n",
    "    # self.isim = isim\n",
    "    #    self.soyisim = soyisim\n",
    "    #    self.yas = yas\n",
    "         \n",
    "        super().__init__(isim,soyisim,yas)\n",
    "        print(\"Ogretmen sinifi calisti\")\n",
    "    def info(self):\n",
    "        print(\"{} {} {} yasinda bir ogretmendir.\".format(self.isim,self.soyisim,self.yas))\n"
   ]
  },
  {
   "cell_type": "code",
   "execution_count": 378,
   "id": "87be2b03",
   "metadata": {},
   "outputs": [
    {
     "name": "stdout",
     "output_type": "stream",
     "text": [
      "Okul sinifi calisti\n",
      "Ogretmen sinifi calisti\n"
     ]
    }
   ],
   "source": [
    "semih = Ogretmen(\"semih\",\"sayginer\",25)"
   ]
  },
  {
   "cell_type": "code",
   "execution_count": 379,
   "id": "9268dd1c",
   "metadata": {},
   "outputs": [
    {
     "name": "stdout",
     "output_type": "stream",
     "text": [
      "semih sayginer 25 yasinda bir ogretmendir.\n"
     ]
    }
   ],
   "source": [
    "semih.info()"
   ]
  },
  {
   "cell_type": "code",
   "execution_count": 380,
   "id": "d7888cd9",
   "metadata": {},
   "outputs": [],
   "source": [
    "# BASKA ORNEK"
   ]
  },
  {
   "cell_type": "code",
   "execution_count": 381,
   "id": "821b6e8c",
   "metadata": {},
   "outputs": [],
   "source": [
    "class Hastane:\n",
    "    def __init__(self,isim,soyisim,yas):\n",
    "        self.isim = isim\n",
    "        self.soyisim = soyisim\n",
    "        self.yas = yas\n",
    "        print(\"Hastane sinifi calisti.\")"
   ]
  },
  {
   "cell_type": "code",
   "execution_count": 382,
   "id": "6a1db3f5",
   "metadata": {},
   "outputs": [],
   "source": [
    "class Doktor(Hastane):\n",
    "    def __init__(self,isim,soyisim,yas):\n",
    "        super().__init__(isim,soyisim,yas)\n",
    "        print(\"Doktor sinifi calisti\")\n",
    "    def info(self):\n",
    "        print(\"{} {} {} yasinda bir Doktordur.\".format(self.isim,self.soyisim,self.yas))"
   ]
  },
  {
   "cell_type": "code",
   "execution_count": 383,
   "id": "ff77d1e6",
   "metadata": {},
   "outputs": [
    {
     "name": "stdout",
     "output_type": "stream",
     "text": [
      "Hastane sinifi calisti.\n",
      "Doktor sinifi calisti\n"
     ]
    }
   ],
   "source": [
    "mehmet = Doktor(\"mehmet\",\"oz\",56)"
   ]
  },
  {
   "cell_type": "code",
   "execution_count": 384,
   "id": "ef53ecd2",
   "metadata": {},
   "outputs": [
    {
     "name": "stdout",
     "output_type": "stream",
     "text": [
      "mehmet oz 56 yasinda bir Doktordur.\n"
     ]
    }
   ],
   "source": [
    "mehmet.info()"
   ]
  },
  {
   "cell_type": "markdown",
   "id": "26cdf0b1",
   "metadata": {},
   "source": [
    "##### (Inheritance) Iki veya daha fazla siniftaki farkli ozellikleri ekleme yontemi "
   ]
  },
  {
   "cell_type": "code",
   "execution_count": 385,
   "id": "3495c3f1",
   "metadata": {},
   "outputs": [],
   "source": [
    "# maas ve uzmanlik ozelligi yoktu bunu \"self. \" super fonk altina ekledik.\n",
    "# methoduda direkt ekleyebiliriz. mesela zam methodunu hastane de bulunmamasina ragmen doktor classina ekleyebiliriz."
   ]
  },
  {
   "cell_type": "code",
   "execution_count": 386,
   "id": "612bfae8",
   "metadata": {},
   "outputs": [],
   "source": [
    "class Doktor(Hastane):\n",
    "    def __init__(self,isim,soyisim,yas,maas,uzmanlik):\n",
    "        super().__init__(isim,soyisim,yas)\n",
    "        # ekleme manuel olarak \"self.\" ile eklenir.\n",
    "        self.maas = maas\n",
    "        self.uzmanlik = uzmanlik\n",
    "        print(\"Doktor sinifi calisti\")\n",
    "    def info(self):\n",
    "      print(\"{} {} {} yasinda {} TL maasi olan bir {} Doktorudur.\".format(self.isim,self.soyisim,self.yas,self.maas,self.uzmanlik))\n",
    "    \n",
    "    def zam(self):\n",
    "       return self.maas * 1.5"
   ]
  },
  {
   "cell_type": "code",
   "execution_count": 387,
   "id": "e1b22ff1",
   "metadata": {},
   "outputs": [
    {
     "name": "stdout",
     "output_type": "stream",
     "text": [
      "Hastane sinifi calisti.\n",
      "Doktor sinifi calisti\n"
     ]
    }
   ],
   "source": [
    "mehmet = Doktor(\"mehmet\",\"oz\",56,50000,\"Kalp Hastaliklari\")"
   ]
  },
  {
   "cell_type": "code",
   "execution_count": 388,
   "id": "665d2745",
   "metadata": {},
   "outputs": [
    {
     "name": "stdout",
     "output_type": "stream",
     "text": [
      "mehmet oz 56 yasinda 50000 TL maasi olan bir Kalp Hastaliklari Doktorudur.\n"
     ]
    }
   ],
   "source": [
    "mehmet.info()"
   ]
  },
  {
   "cell_type": "code",
   "execution_count": 389,
   "id": "fd76bb4d",
   "metadata": {},
   "outputs": [
    {
     "data": {
      "text/plain": [
       "75000.0"
      ]
     },
     "execution_count": 389,
     "metadata": {},
     "output_type": "execute_result"
    }
   ],
   "source": [
    "mehmet.zam()"
   ]
  },
  {
   "cell_type": "code",
   "execution_count": 390,
   "id": "bee0dc63",
   "metadata": {},
   "outputs": [],
   "source": [
    "class Hemsire(Hastane):\n",
    "    def __init__(self,isim,soyisim,yas,calisma_yili):\n",
    "        super().__init__(isim,soyisim,yas)\n",
    "        self.calisma_yili = calisma_yili\n",
    "        print(\"Hemsire sinifi calisti\")\n",
    "    def info(self):\n",
    "        print(\"{} {} {} yasinda {} yil calismis bir Hemsiredir.\".format(self.isim,self.soyisim,self.yas,self.calisma_yili))\n"
   ]
  },
  {
   "cell_type": "code",
   "execution_count": 391,
   "id": "8ae0b31a",
   "metadata": {},
   "outputs": [
    {
     "name": "stdout",
     "output_type": "stream",
     "text": [
      "Hastane sinifi calisti.\n",
      "Hemsire sinifi calisti\n"
     ]
    }
   ],
   "source": [
    "ayse = Hemsire(\"ayse\",\"adiguzel\",45,15)"
   ]
  },
  {
   "cell_type": "code",
   "execution_count": 392,
   "id": "9b669f92",
   "metadata": {},
   "outputs": [
    {
     "name": "stdout",
     "output_type": "stream",
     "text": [
      "ayse adiguzel 45 yasinda 15 yil calismis bir Hemsiredir.\n"
     ]
    }
   ],
   "source": [
    "ayse.info()"
   ]
  },
  {
   "cell_type": "markdown",
   "id": "f6f6ecbd",
   "metadata": {},
   "source": [
    "##### Abstract Class (Soyut Siniflar)"
   ]
  },
  {
   "cell_type": "code",
   "execution_count": 393,
   "id": "8036fdcd",
   "metadata": {},
   "outputs": [],
   "source": [
    "# Ana sinifi kullanmadan ana sinifi soyut sinif yaparak istedigimiz zaman alt siniflarda ana soyut siniftaki ozelliklerini , methodlarini kullaniyor olacagiz.\n",
    "# Soyut Sinifta bir nesne ortaya cikmayacak.\n",
    "# Soyut siniftan nesne uretemeyiz.   "
   ]
  },
  {
   "cell_type": "markdown",
   "id": "7a50ca5a",
   "metadata": {},
   "source": [
    "###### Soyut Sinif Haline getirme ornegi"
   ]
  },
  {
   "cell_type": "code",
   "execution_count": 394,
   "id": "e01f68b8",
   "metadata": {},
   "outputs": [],
   "source": [
    "# ABC sinifindan inheritance ettik.\n",
    "# ABC = Abstract Base Class\n",
    "from abc import ABC,abstractmethod\n",
    "\n",
    "class Hayvan(ABC):\n",
    "    @abstractmethod\n",
    "    def yuru(self):\n",
    "        print(\"hayvan yuruyor.\")\n",
    "    @abstractmethod\n",
    "    def kos(self):\n",
    "        print(\"hayvan kosuyor.\")\n",
    "class Aslan(Hayvan):\n",
    "    def yuru(self):\n",
    "        print(\"Aslan yuruyor.\")\n",
    "    def kos(self):\n",
    "        print(\"Aslan kosuyor.\")"
   ]
  },
  {
   "cell_type": "code",
   "execution_count": 395,
   "id": "4c24225f",
   "metadata": {},
   "outputs": [],
   "source": [
    "# Hayvan sinifi artik \"Soyut Sinif\" bu yuzden nesne olusturamayiz bu sinifta.\n",
    "# aslan = Hayvan()\n",
    "# aslan.kos()"
   ]
  },
  {
   "cell_type": "markdown",
   "id": "79aba59f",
   "metadata": {},
   "source": [
    "###### Bu methodlari yani Soyut siniftan olsuturulmus methodlari kullanmak icin alt sinif olusturmamiz gerekir.\n",
    "###### Methodlari kullanabilmek icin Alt sinifta bu methodlari tekrar olusturmaliyiz."
   ]
  },
  {
   "cell_type": "code",
   "execution_count": 396,
   "id": "e1d30535",
   "metadata": {},
   "outputs": [],
   "source": [
    "# aslan sinifi soyut siniftan inherit ediyoruz.\n",
    "aslan_nesnesi = Aslan()"
   ]
  },
  {
   "cell_type": "code",
   "execution_count": 397,
   "id": "96a82834",
   "metadata": {},
   "outputs": [
    {
     "name": "stdout",
     "output_type": "stream",
     "text": [
      "Aslan yuruyor.\n"
     ]
    }
   ],
   "source": [
    "aslan_nesnesi.yuru()"
   ]
  },
  {
   "cell_type": "code",
   "execution_count": 398,
   "id": "7bcd998f",
   "metadata": {},
   "outputs": [
    {
     "name": "stdout",
     "output_type": "stream",
     "text": [
      "Aslan kosuyor.\n"
     ]
    }
   ],
   "source": [
    "aslan_nesnesi.kos()"
   ]
  },
  {
   "cell_type": "code",
   "execution_count": 399,
   "id": "c0c92ac9",
   "metadata": {},
   "outputs": [],
   "source": [
    "# Boylede kullanilabilir, soyut sinifin methodunu override edebiliriz."
   ]
  },
  {
   "cell_type": "code",
   "execution_count": 400,
   "id": "bc6a5fd1",
   "metadata": {},
   "outputs": [],
   "source": [
    "from abc import ABC,abstractmethod\n",
    "\n",
    "class Hayvan(ABC):\n",
    "    @abstractmethod\n",
    "    def yuru(self):\n",
    "        print(\"hayvan yuruyor.\")\n",
    "    \n",
    "    def kos(self):\n",
    "        print(\"hayvan kosuyor.\")\n",
    "class Aslan(Hayvan):\n",
    "    def yuru(self):\n",
    "        print(\"Aslan yuruyor.\")\n",
    "    "
   ]
  },
  {
   "cell_type": "code",
   "execution_count": 401,
   "id": "3bc2f874",
   "metadata": {},
   "outputs": [],
   "source": [
    "aslan_nesnesi = Aslan()"
   ]
  },
  {
   "cell_type": "code",
   "execution_count": 402,
   "id": "6bcbb623",
   "metadata": {},
   "outputs": [
    {
     "name": "stdout",
     "output_type": "stream",
     "text": [
      "hayvan kosuyor.\n"
     ]
    }
   ],
   "source": [
    "aslan_nesnesi.kos()"
   ]
  },
  {
   "cell_type": "markdown",
   "id": "52853c5a",
   "metadata": {},
   "source": [
    "##### Polymorphism (Cok Sekillik, Cok Bicimlilik) "
   ]
  },
  {
   "cell_type": "markdown",
   "id": "c4d64101",
   "metadata": {},
   "source": [
    "#Burada Mesela Okul calisanlarina %20 zam yapilcak,Ogretmenlere %50 zam yapilcak ve yeni bir Yonetim isminde alt sinif olusturacagiz. Yonetim sinifin zam orani da %100 olsun.\n",
    "#Zam sinifini Ana sinifta tanimlayip alt siniflarda tekrar zam sinifini tanimlayarak overriding yaptik."
   ]
  },
  {
   "cell_type": "code",
   "execution_count": 403,
   "id": "7b2e1cb7",
   "metadata": {},
   "outputs": [],
   "source": [
    "# Override : sadece soyut sinifin ozelliklerini kullanmak icin kullanilir."
   ]
  },
  {
   "cell_type": "code",
   "execution_count": 404,
   "id": "6efc657f",
   "metadata": {},
   "outputs": [],
   "source": [
    "class Okul:\n",
    "    def __init__(self,isim,soyisim,yas,maas):  \n",
    "        self.isim = isim\n",
    "        self.soyisim = soyisim\n",
    "        self.yas = yas\n",
    "        self.maas = maas\n",
    "        print(\"Okul sinifi calisti.\")\n",
    "\n",
    "    def info(self):\n",
    "        print(\"{} {} {} yasinda bir okul elemanidir.\".format(self.isim,self.soyisim,self.yas))\n",
    "    \n",
    "    def zam(self):\n",
    "        return self.maas * 1.2\n",
    "class Ogretmen(Okul):\n",
    "    def __init__(self,isim,soyisim,yas,maas,uzmanlik):\n",
    "        super().__init__(isim,soyisim,yas,maas)\n",
    "        self.uzmanlik = uzmanlik\n",
    "        print(\"Ogretmen sinifi calisti\")\n",
    "\n",
    "    def info(self): \n",
    "\n",
    "        print(\"{} {} {} yasinda {} TL maasi olan bir {} Ogretmenidir.\".format(self.isim,self.soyisim,self.yas,self.maas,self.uzmanlik))\n",
    "\n",
    "    def zam(self):\n",
    "        return self.maas * 1.5\n",
    "    \n",
    "class Yonetim(Okul):\n",
    "    def __init__(self,isim,soyisim,yas,maas,birim):\n",
    "        super().__init__(isim,soyisim,yas,maas)\n",
    "        self.birim = birim\n",
    "        print(\"Yonetim sinifi calisti\")\n",
    "\n",
    "    def info(self): \n",
    "\n",
    "        print(\"{} {} {} yasinda {} TL maasi olan bir {} olarak gorev yapan bir Yonetim elemanidir.\".format(self.isim,self.soyisim,self.yas,self.maas,self.birim))\n",
    "\n",
    "    def zam(self):\n",
    "        return self.maas * 2\n",
    "class Hizmetli(Okul):\n",
    "    def __init__(self,isim,soyisim,yas,maas):\n",
    "        super().__init__(isim,soyisim,yas,maas)\n",
    "        print(\"Hizmetli sinifi calisti\")\n",
    "\n",
    "    def info(self): \n",
    "\n",
    "        print(\"{} {} {} yasinda {} TL maasi olan bir okul elemanidir.\".format(self.isim,self.soyisim,self.yas,self.maas))\n",
    "\n",
    "    def zam(self):\n",
    "        return self.maas * 3"
   ]
  },
  {
   "cell_type": "code",
   "execution_count": 405,
   "id": "e3f2dce4",
   "metadata": {},
   "outputs": [
    {
     "name": "stdout",
     "output_type": "stream",
     "text": [
      "Okul sinifi calisti.\n"
     ]
    }
   ],
   "source": [
    "Ahmet = Okul(\"Ahmet\",\"korkmaz\",\"25\",5000)"
   ]
  },
  {
   "cell_type": "code",
   "execution_count": 406,
   "id": "c7408109",
   "metadata": {},
   "outputs": [
    {
     "name": "stdout",
     "output_type": "stream",
     "text": [
      "Okul sinifi calisti.\n",
      "Ogretmen sinifi calisti\n"
     ]
    }
   ],
   "source": [
    "Ali = Ogretmen(\"Ali,\",\"erturk\",\"25\",5000,\"matematik\")"
   ]
  },
  {
   "cell_type": "code",
   "execution_count": 407,
   "id": "aea45680",
   "metadata": {},
   "outputs": [
    {
     "name": "stdout",
     "output_type": "stream",
     "text": [
      "Okul sinifi calisti.\n",
      "Yonetim sinifi calisti\n"
     ]
    }
   ],
   "source": [
    "Abdulhamid = Yonetim(\"Abdulhamid\",\"Han\",38,5000,\"Mudur\")"
   ]
  },
  {
   "cell_type": "code",
   "execution_count": 408,
   "id": "a54a28a0",
   "metadata": {},
   "outputs": [
    {
     "name": "stdout",
     "output_type": "stream",
     "text": [
      "Okul sinifi calisti.\n",
      "Hizmetli sinifi calisti\n"
     ]
    }
   ],
   "source": [
    "Hasan = Hizmetli(\"Hasan\",\"Han\",\"25\",5000)"
   ]
  },
  {
   "cell_type": "code",
   "execution_count": 409,
   "id": "4ff51140",
   "metadata": {},
   "outputs": [
    {
     "data": {
      "text/plain": [
       "6000.0"
      ]
     },
     "execution_count": 409,
     "metadata": {},
     "output_type": "execute_result"
    }
   ],
   "source": [
    "Ahmet.zam()"
   ]
  },
  {
   "cell_type": "code",
   "execution_count": 410,
   "id": "9bde9d4d",
   "metadata": {},
   "outputs": [
    {
     "data": {
      "text/plain": [
       "7500.0"
      ]
     },
     "execution_count": 410,
     "metadata": {},
     "output_type": "execute_result"
    }
   ],
   "source": [
    "Ali.zam()"
   ]
  },
  {
   "cell_type": "code",
   "execution_count": 411,
   "id": "768a2c34",
   "metadata": {},
   "outputs": [
    {
     "data": {
      "text/plain": [
       "10000"
      ]
     },
     "execution_count": 411,
     "metadata": {},
     "output_type": "execute_result"
    }
   ],
   "source": [
    "Abdulhamid.zam()"
   ]
  },
  {
   "cell_type": "code",
   "execution_count": 412,
   "id": "6f964c11",
   "metadata": {},
   "outputs": [
    {
     "data": {
      "text/plain": [
       "15000"
      ]
     },
     "execution_count": 412,
     "metadata": {},
     "output_type": "execute_result"
    }
   ],
   "source": [
    "Hasan.zam()"
   ]
  },
  {
   "cell_type": "markdown",
   "id": "7eddc640",
   "metadata": {},
   "source": [
    "##### Override/Overriding (Uzerine Yazma-Oncekini Iptal Etme)"
   ]
  },
  {
   "cell_type": "markdown",
   "id": "ab4ae2a9",
   "metadata": {},
   "source": [
    "#Eger alt sinifta ana siniftan metotlari ayni isimde tanimlarsak alt siniftaki ust siniftakini iptal eder ve alt siniftaki aktif olur."
   ]
  },
  {
   "cell_type": "code",
   "execution_count": 413,
   "id": "edf2eb02",
   "metadata": {},
   "outputs": [],
   "source": [
    "class Okul:\n",
    "    def __init__(self,isim,soyisim,yas):\n",
    "        self.isim = isim\n",
    "        self.soyisim = soyisim\n",
    "        self.yas = yas\n",
    "        print(\"Okul sinifi calisti\")\n",
    "    \n",
    "    def info(self):\n",
    "        print(\"{} {} {} yasinda bir okul elemanidir.\".format(self.isim,self.soyisim,self.yas))"
   ]
  },
  {
   "cell_type": "code",
   "execution_count": 414,
   "id": "39d8199f",
   "metadata": {},
   "outputs": [
    {
     "name": "stdout",
     "output_type": "stream",
     "text": [
      "Okul sinifi calisti\n"
     ]
    }
   ],
   "source": [
    "Zakkum = Okul(\"Zakkum\",\"Korkmaz\",29)"
   ]
  },
  {
   "cell_type": "code",
   "execution_count": 415,
   "id": "0a9e6e1b",
   "metadata": {},
   "outputs": [],
   "source": [
    "# Ust sinif Okuldur.\n",
    "class Okul:\n",
    "    def __init__(self,isim,soyisim,yas):\n",
    "        self.isim = isim\n",
    "        self.soyisim = soyisim\n",
    "        self.yas = yas\n",
    "        print(\"Okul sinifi calisti\")\n",
    "    \n",
    "    def info(self):\n",
    "        print(\"{} {} {} yasinda bir okul elemanidir.\".format(self.isim,self.soyisim,self.yas))\n",
    "# Alt sinif Ogretmen olur.        \n",
    "class Ogretment:\n",
    "    def __init__(self,isim,soyisim,yas,maas,uzmanlik):\n",
    "        super().__init__(isim, soyisim, yas)\n",
    "        self.maas = maas\n",
    "        self.uzmanlik = uzmanlik\n",
    "        print(\"Ogretmen sinifi calisti\")\n",
    "\n",
    "    #  Override : Sınıfın kendi içindeki diğer işlevlerle aynı işlevi uygulamak için bu işlevi geçersiz kılar.\n",
    "    # info override olarak tekrar yazildi ve alt sinif artik aktif oldu.\n",
    "\n",
    "    def info(self):\n",
    "        print(\"{} {} {} yasinda {} TL maasi olan bir {} Ogretmenidir.\".format(self.isim,self.soyisim,self.yas,self.maas,self.maas,self.uzmanlik))\n",
    "        # Burada info metodu cagirildiginda, ust siniftaki info metodu cagiracak. \n"
   ]
  },
  {
   "cell_type": "code",
   "execution_count": 416,
   "id": "33bcd1cc",
   "metadata": {},
   "outputs": [
    {
     "name": "stdout",
     "output_type": "stream",
     "text": [
      "Okul sinifi calisti\n"
     ]
    }
   ],
   "source": [
    "nilufer = Okul(\"Nilufer\",\"Korkmaz\",29)"
   ]
  },
  {
   "cell_type": "code",
   "execution_count": 417,
   "id": "1d107b32",
   "metadata": {},
   "outputs": [
    {
     "name": "stdout",
     "output_type": "stream",
     "text": [
      "Okul sinifi calisti.\n",
      "Ogretmen sinifi calisti\n"
     ]
    }
   ],
   "source": [
    "zafer = Ogretmen(\"Zafer\",\"Korkmaz\",29,5000,\"Matematik\")"
   ]
  },
  {
   "cell_type": "code",
   "execution_count": 418,
   "id": "6c0e2582",
   "metadata": {},
   "outputs": [
    {
     "name": "stdout",
     "output_type": "stream",
     "text": [
      "Nilufer Korkmaz 29 yasinda bir okul elemanidir.\n"
     ]
    }
   ],
   "source": [
    "nilufer.info()"
   ]
  },
  {
   "cell_type": "code",
   "execution_count": 419,
   "id": "4d3fb985",
   "metadata": {},
   "outputs": [
    {
     "name": "stdout",
     "output_type": "stream",
     "text": [
      "Zafer Korkmaz 29 yasinda 5000 TL maasi olan bir Matematik Ogretmenidir.\n"
     ]
    }
   ],
   "source": [
    "zafer.info()"
   ]
  },
  {
   "cell_type": "markdown",
   "id": "5e81c597",
   "metadata": {},
   "source": [
    "### *args and *kwargs"
   ]
  },
  {
   "cell_type": "code",
   "execution_count": 420,
   "id": "a6fdd5dd",
   "metadata": {},
   "outputs": [],
   "source": [
    "# args ve kwargs bir fonksiyona birden fazla argüman veya anahtar kelime argümanı aktarmanıza izin verir"
   ]
  },
  {
   "cell_type": "markdown",
   "id": "15f558a5",
   "metadata": {},
   "source": [
    "#### Arbitrary Arguments, *args"
   ]
  },
  {
   "cell_type": "markdown",
   "id": "70bbe8d4",
   "metadata": {},
   "source": [
    "#Args kullanmamizim amaci: Birden cok arguman alabilirz bazi durumlarda, bu durumlarda *args  kelimesi kullanarak \n",
    "birden fazla argüman kullanmamizi saglar."
   ]
  },
  {
   "cell_type": "code",
   "execution_count": 421,
   "id": "9303b5f7",
   "metadata": {},
   "outputs": [],
   "source": [
    "# arguments topla(argument):\n",
    "def topla(x,y):\n",
    "    print (x+y)"
   ]
  },
  {
   "cell_type": "code",
   "execution_count": 422,
   "id": "b8577ff9",
   "metadata": {},
   "outputs": [
    {
     "name": "stdout",
     "output_type": "stream",
     "text": [
      "7\n"
     ]
    }
   ],
   "source": [
    "topla(3,4)"
   ]
  },
  {
   "cell_type": "code",
   "execution_count": 423,
   "id": "65dd8c43",
   "metadata": {},
   "outputs": [],
   "source": [
    "# topla(3,4,5) hata aliriz yukarda argumen sayisi 2 tane cunku"
   ]
  },
  {
   "cell_type": "code",
   "execution_count": 424,
   "id": "38058e6c",
   "metadata": {},
   "outputs": [],
   "source": [
    "# Icerisine ne kadar arguman veremeyecegimizi bilmedigimiz durumlarda Arbitrary Arguments *args kullanilir."
   ]
  },
  {
   "cell_type": "code",
   "execution_count": 425,
   "id": "bc3b95a4",
   "metadata": {},
   "outputs": [],
   "source": [
    "def topla(*args):\n",
    "    toplam = 0\n",
    "    for i in args:\n",
    "        toplam += i\n",
    "    print(toplam)"
   ]
  },
  {
   "cell_type": "code",
   "execution_count": 426,
   "id": "23aaa172",
   "metadata": {},
   "outputs": [
    {
     "name": "stdout",
     "output_type": "stream",
     "text": [
      "18\n"
     ]
    }
   ],
   "source": [
    "topla(3,4,5,6)"
   ]
  },
  {
   "cell_type": "code",
   "execution_count": 427,
   "id": "230ffcc1",
   "metadata": {},
   "outputs": [],
   "source": [
    "# Burda onemli olan * dir kullanma.\n",
    "# args yerine istenilen isim yazilabilir.\n",
    "# ama projelerde args olarak yaz, cunku baska developerlar anlayamazlar."
   ]
  },
  {
   "cell_type": "code",
   "execution_count": 428,
   "id": "f9478fc8",
   "metadata": {},
   "outputs": [],
   "source": [
    "def topla(*numaralar):\n",
    "    toplam = 0\n",
    "    for i in numaralar:\n",
    "        toplam += i\n",
    "    print(toplam)"
   ]
  },
  {
   "cell_type": "code",
   "execution_count": 429,
   "id": "fd7dc4ba",
   "metadata": {},
   "outputs": [
    {
     "name": "stdout",
     "output_type": "stream",
     "text": [
      "18\n"
     ]
    }
   ],
   "source": [
    "topla(3,4,5,6)"
   ]
  },
  {
   "cell_type": "code",
   "execution_count": 430,
   "id": "93f17711",
   "metadata": {},
   "outputs": [],
   "source": [
    "def isim(*args):\n",
    "    print(\"{} {} Python Egitmeni\".format(args[0], args[1]))"
   ]
  },
  {
   "cell_type": "code",
   "execution_count": 431,
   "id": "9f0d5d76",
   "metadata": {},
   "outputs": [
    {
     "name": "stdout",
     "output_type": "stream",
     "text": [
      "mehmet yilmaz Python Egitmeni\n"
     ]
    }
   ],
   "source": [
    "isim(\"mehmet\",\"yilmaz\")"
   ]
  },
  {
   "cell_type": "markdown",
   "id": "92426634",
   "metadata": {},
   "source": [
    "#### Arbitrary Keyword Arguments, **kwargs"
   ]
  },
  {
   "cell_type": "code",
   "execution_count": 432,
   "id": "afa67a32",
   "metadata": {},
   "outputs": [],
   "source": [
    "# \"Dictionarylerde\" kac tane arguman girebilecigimizi bilmedigimiz durumlarda kullaniriz."
   ]
  },
  {
   "cell_type": "markdown",
   "id": "7da29938",
   "metadata": {},
   "source": [
    "#Burada bir dictionary karsimiza cikacak anahtar ve deger olarak istedigimiz kadar deger girebilecegiz"
   ]
  },
  {
   "cell_type": "code",
   "execution_count": 433,
   "id": "d335a8c8",
   "metadata": {},
   "outputs": [],
   "source": [
    "#anahtar kelimemiz **kwargs\n",
    "def kimlik(**kwargs):\n",
    "    print(\"kwargs:\", kwargs)"
   ]
  },
  {
   "cell_type": "code",
   "execution_count": 434,
   "id": "3860cb5b",
   "metadata": {},
   "outputs": [
    {
     "name": "stdout",
     "output_type": "stream",
     "text": [
      "kwargs: {'isim': 'tunahan', 'soyisim': 'erturk'}\n"
     ]
    }
   ],
   "source": [
    "kimlik(isim = \"tunahan\", soyisim = \"erturk\")"
   ]
  },
  {
   "cell_type": "markdown",
   "id": "fd21f6c1",
   "metadata": {},
   "source": [
    "####### Olusturulan bir fonksiyonda degerleri ve anahtarlari almaya caliscaz **kwargs ile."
   ]
  },
  {
   "cell_type": "code",
   "execution_count": 435,
   "id": "081c31d0",
   "metadata": {},
   "outputs": [],
   "source": [
    "# .keys ile key degerlerini verir.\n",
    "def kimlik(**kwargs):\n",
    "    for key in kwargs.keys():\n",
    "        print(\"anahtarlar : \",key)\n"
   ]
  },
  {
   "cell_type": "code",
   "execution_count": 436,
   "id": "3bc167a3",
   "metadata": {},
   "outputs": [
    {
     "name": "stdout",
     "output_type": "stream",
     "text": [
      "anahtarlar :  isim\n",
      "anahtarlar :  soyisim\n"
     ]
    }
   ],
   "source": [
    "kimlik(isim = \"tunahan\", soyisim = \"erturk\")"
   ]
  },
  {
   "cell_type": "code",
   "execution_count": 437,
   "id": "828c861f",
   "metadata": {},
   "outputs": [],
   "source": [
    "# .items ile key ve value degerlerini verir.\n",
    "def kimlik(**kwargs):\n",
    "    for key,value in kwargs.items():\n",
    "        print(\"anahtarlar : \",key, \"degerler :\", value)"
   ]
  },
  {
   "cell_type": "code",
   "execution_count": 438,
   "id": "9876b1ee",
   "metadata": {},
   "outputs": [
    {
     "name": "stdout",
     "output_type": "stream",
     "text": [
      "anahtarlar :  isim degerler : tunahan\n",
      "anahtarlar :  soyisim degerler : erturk\n"
     ]
    }
   ],
   "source": [
    "kimlik(isim = \"tunahan\", soyisim = \"erturk\")"
   ]
  },
  {
   "cell_type": "code",
   "execution_count": 439,
   "id": "6c2946d2",
   "metadata": {},
   "outputs": [],
   "source": [
    "\n",
    "def kimlik(**kwargs):\n",
    "    for key,value in kwargs.items():\n",
    "        print(\" {} = {}\". format(key,value))"
   ]
  },
  {
   "cell_type": "code",
   "execution_count": 440,
   "id": "01243043",
   "metadata": {},
   "outputs": [
    {
     "name": "stdout",
     "output_type": "stream",
     "text": [
      " isim = tunahan\n",
      " soyisim = erturk\n",
      " yas = 29\n",
      " tc = 123492384023\n",
      " email = erfe@gmail.com\n",
      " anne_adi = anne\n"
     ]
    }
   ],
   "source": [
    "kimlik(isim = \"tunahan\", soyisim = \"erturk\", yas = 29, tc = 123492384023, email = \"erfe@gmail.com\", anne_adi = \"anne\")"
   ]
  },
  {
   "cell_type": "markdown",
   "id": "8e1bd8e9",
   "metadata": {},
   "source": [
    "###### Args ve Keywargs birlikte kullanimi"
   ]
  },
  {
   "cell_type": "code",
   "execution_count": 441,
   "id": "1a2e29b6",
   "metadata": {},
   "outputs": [],
   "source": [
    "# args ve keywargs birlikte kullanirken args once kullanilir sonra keywargs kullanilir."
   ]
  },
  {
   "cell_type": "code",
   "execution_count": 442,
   "id": "61627120",
   "metadata": {},
   "outputs": [],
   "source": [
    "def yeni(*args, **kwargs):\n",
    "    print(\"args:\", args)\n",
    "    print(\"kwargs:\", kwargs)"
   ]
  },
  {
   "cell_type": "code",
   "execution_count": 443,
   "id": "e5a7b875",
   "metadata": {},
   "outputs": [
    {
     "name": "stdout",
     "output_type": "stream",
     "text": [
      "args: (1, 2, 4, 6)\n",
      "kwargs: {'isim': 'tunahan', 'soyisim': 'erturk'}\n"
     ]
    }
   ],
   "source": [
    "yeni(1,2,4,6,isim = \"tunahan\", soyisim = \"erturk\",)"
   ]
  },
  {
   "cell_type": "code",
   "execution_count": 444,
   "id": "d49437ac",
   "metadata": {},
   "outputs": [],
   "source": [
    "def birlestir(**kwargs):\n",
    "    son = \"\"\n",
    "    for kelime in kwargs.values():\n",
    "        son += kelime \n",
    "    return son"
   ]
  },
  {
   "cell_type": "code",
   "execution_count": 445,
   "id": "372b7e2a",
   "metadata": {},
   "outputs": [
    {
     "data": {
      "text/plain": [
       "'python dunyanin en cok kullanilan programlama dilidir.'"
      ]
     },
     "execution_count": 445,
     "metadata": {},
     "output_type": "execute_result"
    }
   ],
   "source": [
    "birlestir(a=\"python \",b=\"dunyanin \",c=\"en cok kullanilan \",d=\"programlama dilidir.\")"
   ]
  },
  {
   "cell_type": "markdown",
   "id": "db246a54",
   "metadata": {},
   "source": [
    "#### Python Gloabal and Local Variables"
   ]
  },
  {
   "cell_type": "markdown",
   "id": "cafcf735",
   "metadata": {},
   "source": [
    "##### Global Variables"
   ]
  },
  {
   "cell_type": "code",
   "execution_count": 446,
   "id": "c9352119",
   "metadata": {},
   "outputs": [],
   "source": [
    "# Biz bir degiskeni aslinda fonksiyon \"disinda\" tanimlarsak bu bir global degisken oluyor."
   ]
  },
  {
   "cell_type": "code",
   "execution_count": 447,
   "id": "7f40eb65",
   "metadata": {},
   "outputs": [
    {
     "name": "stdout",
     "output_type": "stream",
     "text": [
      "10\n"
     ]
    }
   ],
   "source": [
    "x = 10\n",
    "\n",
    "print(x)"
   ]
  },
  {
   "cell_type": "markdown",
   "id": "37dd1ad8",
   "metadata": {},
   "source": [
    "Python'da, fonksiyon dışında veya global kapsamda bildirilen bir değişken global değişken olarak bilinir. Bu, global bir değişkene fonksiyonun içinden veya dışından erişilebileceği anlamına gelir."
   ]
  },
  {
   "cell_type": "markdown",
   "id": "9517b724",
   "metadata": {},
   "source": [
    "##### Local Variables"
   ]
  },
  {
   "cell_type": "markdown",
   "id": "8e31a4ae",
   "metadata": {},
   "source": [
    "İşlevin gövdesi içinde veya yerel kapsamda bildirilen bir değişken yerel değişken olarak bilinir."
   ]
  },
  {
   "cell_type": "code",
   "execution_count": 448,
   "id": "3a154ab6",
   "metadata": {},
   "outputs": [],
   "source": [
    "# Biz bir degiskeni aslinda fonksiyon \"icinde\" tanimlarsak bu bir yerel degisken oluyor."
   ]
  },
  {
   "cell_type": "code",
   "execution_count": 449,
   "id": "960b98cb",
   "metadata": {},
   "outputs": [],
   "source": [
    "def fonksiyon():\n",
    "    x = 5\n",
    "    print(x)"
   ]
  },
  {
   "cell_type": "code",
   "execution_count": 450,
   "id": "7a9e667f",
   "metadata": {},
   "outputs": [
    {
     "name": "stdout",
     "output_type": "stream",
     "text": [
      "5\n"
     ]
    }
   ],
   "source": [
    "fonksiyon()"
   ]
  },
  {
   "cell_type": "markdown",
   "id": "8ac438dd",
   "metadata": {},
   "source": [
    "Farklari"
   ]
  },
  {
   "cell_type": "code",
   "execution_count": 451,
   "id": "6c1204c2",
   "metadata": {},
   "outputs": [],
   "source": [
    "x = 10\n",
    "def fonksiyon():\n",
    "    x = 5\n",
    "    print(x)\n",
    "    print(globals()['x'])  # Burada global kapsamda bildigimiz x degerini cagirdik."
   ]
  },
  {
   "cell_type": "code",
   "execution_count": 452,
   "id": "28f1cfb1",
   "metadata": {},
   "outputs": [
    {
     "name": "stdout",
     "output_type": "stream",
     "text": [
      "5\n",
      "10\n"
     ]
    }
   ],
   "source": [
    "fonksiyon()"
   ]
  },
  {
   "cell_type": "markdown",
   "id": "d642d028",
   "metadata": {},
   "source": [
    "#### Python Lambda Function"
   ]
  },
  {
   "cell_type": "markdown",
   "id": "57610b50",
   "metadata": {},
   "source": [
    "Bir kere kullanmamiz gereken fonksiyonlarda lambda fonksiyonu kullaniriz.\n",
    "\n",
    "Lambda fonksiyonu, bir işlevi tek satırda tanımlayan bir özellikli bir yapıdır.\n",
    "\n",
    "Lambda işlevi küçük bir anonim işlevdir.\n",
    "\n",
    "Bir lambda fonksiyonu herhangi bir sayıda argüman alabilir, ancak yalnızca bir ifadeye sahip olabilir.\n",
    "\n",
    "Bu işlevi bir kez kullandığınızda lambda kullanın\n",
    "\n",
    "lambda argüman : ifade"
   ]
  },
  {
   "cell_type": "code",
   "execution_count": 453,
   "id": "7f81eb73",
   "metadata": {},
   "outputs": [],
   "source": [
    "def kare(x): \n",
    "    return x ** 2"
   ]
  },
  {
   "cell_type": "code",
   "execution_count": 454,
   "id": "1c6b8b56",
   "metadata": {},
   "outputs": [
    {
     "data": {
      "text/plain": [
       "64"
      ]
     },
     "execution_count": 454,
     "metadata": {},
     "output_type": "execute_result"
    }
   ],
   "source": [
    "kare(8)"
   ]
  },
  {
   "cell_type": "code",
   "execution_count": 455,
   "id": "59d61034",
   "metadata": {},
   "outputs": [],
   "source": [
    "x = lambda x : x**2"
   ]
  },
  {
   "cell_type": "code",
   "execution_count": 456,
   "id": "2b553d73",
   "metadata": {},
   "outputs": [
    {
     "data": {
      "text/plain": [
       "100"
      ]
     },
     "execution_count": 456,
     "metadata": {},
     "output_type": "execute_result"
    }
   ],
   "source": [
    "x(10)"
   ]
  },
  {
   "cell_type": "markdown",
   "id": "8c7e85f3",
   "metadata": {},
   "source": [
    "Ne zaman Lambda Function kullanacagiz?\n",
    "\n",
    "- Sadece bir kere bir işlemi temsil eden ve sadece bir satırda yazılması gereken işlemlerde.\n",
    "\n",
    "- Fonksiyonların kısa bir hali olarak kullanmak istediğinizde.\n",
    "\n",
    "- Birden fazla argüman almak istediğinizde.\n",
    "\n",
    "- Fonksiyonun kendisini çağırmak istediğinizde.\n",
    "\n",
    "- Listelerde veya kümelerde işlemler yapmak istediğinizde.\n",
    "\n",
    "- Fonksiyonun kendisini bir değişkene atmak istediğinizde.\n",
    "\n",
    "- Fonksiyonların kendi içlerinde başka fonksiyonlar çağırarak işlemler yapmak istediğinizde.\n",
    "\n",
    "- Fonksiyonların kendi içlerinde başka fonksiyonların dışarıdan çağrılmasını istediğinizde.\n"
   ]
  },
  {
   "cell_type": "markdown",
   "id": "c5ecaf84",
   "metadata": {},
   "source": [
    "Ne zaman Lambda fonk kullanilir? \n",
    "\n",
    "filter() fonksiyonunda ve map() fonksiyonlarinda kullanilir\n",
    "\n",
    "Lambda'nın gücü, onları başka bir fonksiyonun içinde anonim bir fonksiyon olarak kullandığınızda daha iyi gösterilir.\n",
    "Python'daki filter() fonksiyonu argüman olarak bir fonksiyon ve bir liste alır. filter() fonksiyonu bir\n",
    "yineleyici, öğelerin kabul edilip edilmediğini test etmek için bir işlev aracılığıyla filtrelenir.\n",
    "İşlev, listedeki tüm öğelerle birlikte çağrılır ve öğeleri içeren yeni bir liste döndürülür.\n",
    "işlevi True olarak değerlendirilir."
   ]
  },
  {
   "cell_type": "markdown",
   "id": "9531116e",
   "metadata": {},
   "source": [
    "##### Filter() Fonksiyon Kullanimi"
   ]
  },
  {
   "cell_type": "markdown",
   "id": "e1375f1b",
   "metadata": {},
   "source": [
    "filter() fonksiyonu iki parametreden olusur.\n",
    "\n",
    "- İlk parametre, bir işlevdir. Bu işlev, listedeki her öğeyi test eder.\n",
    "\n",
    "- İkinci parametre, bir dizi veya bir listeye sahiptir. Bu dizi, filter() fonksiyonu ile işlenecek.\n",
    "\n",
    "filter() fonksiyonu, her öğeye göre bir True veya False değer döndürür. True olanlar, yeni bir listeye eklenir.\n",
    "\n",
    "Örnek:\n",
    "\n",
    "Listedeki çift sayıları filtrelemek için:"
   ]
  },
  {
   "cell_type": "code",
   "execution_count": 457,
   "id": "af0f0046",
   "metadata": {},
   "outputs": [
    {
     "data": {
      "text/plain": [
       "[0, 2, 4, 6, 8, 10]"
      ]
     },
     "execution_count": 457,
     "metadata": {},
     "output_type": "execute_result"
    }
   ],
   "source": [
    "x = [0,1,2,3,4,5,6,7,8,9,10]\n",
    "\n",
    "list(filter(lambda x: x % 2 == 0, x))"
   ]
  },
  {
   "cell_type": "markdown",
   "id": "fd58596f",
   "metadata": {},
   "source": [
    "##### Map () Function Kullanimi"
   ]
  },
  {
   "cell_type": "markdown",
   "id": "879ea620",
   "metadata": {},
   "source": [
    "her bir eleman ile islem yapmak istedigimizde map() fonksiyonu kullaniriz."
   ]
  },
  {
   "cell_type": "markdown",
   "id": "132edd94",
   "metadata": {},
   "source": [
    "Map() ile örnek kullanım\n",
    "Python'daki map() işlevi bir işlev ve bir liste alır.Map() işlevi, her bir öğenin yinelenebilir öğesinde belirtilen bir işlevi yürütür. Öğe işleve parametre olarak gönderilir.İşlev, listedeki tüm öğelerle çağrılır ve her öğe için bu işlevle ilgili öğeleri içeren yeni bir liste döndürülür.\n",
    "\n",
    "Örnek:\n",
    "\n",
    "Listedeki öğeleri toplama işlemi için:"
   ]
  },
  {
   "cell_type": "code",
   "execution_count": 458,
   "id": "c709ffaf",
   "metadata": {},
   "outputs": [
    {
     "data": {
      "text/plain": [
       "[1, 4, 9, 16, 25, 36, 49, 64, 81, 100]"
      ]
     },
     "execution_count": 458,
     "metadata": {},
     "output_type": "execute_result"
    }
   ],
   "source": [
    "# \"map\" degerleri degistirmek icin kullanilir.\n",
    "x = [1,2,3,4,5,6,7,8,9,10]\n",
    "\n",
    "list(map(lambda x: x ** 2, x))"
   ]
  },
  {
   "cell_type": "markdown",
   "id": "d45012f1",
   "metadata": {},
   "source": [
    "#### Some Built-in Functions(Gomulu Fonksiyonlar)"
   ]
  },
  {
   "cell_type": "markdown",
   "id": "1db1f527",
   "metadata": {},
   "source": [
    "abs() mutlak deger almaya yarayan fonksiyondur"
   ]
  },
  {
   "cell_type": "code",
   "execution_count": 459,
   "id": "dc468d70",
   "metadata": {},
   "outputs": [
    {
     "data": {
      "text/plain": [
       "1"
      ]
     },
     "execution_count": 459,
     "metadata": {},
     "output_type": "execute_result"
    }
   ],
   "source": [
    "abs(-1)"
   ]
  },
  {
   "cell_type": "markdown",
   "id": "00095e6d",
   "metadata": {},
   "source": [
    "bin() icine verdigimiz sayinin binary versiyonunu verir. 2 li tabandaki karsiliklarini verir."
   ]
  },
  {
   "cell_type": "code",
   "execution_count": 460,
   "id": "fc4524f6",
   "metadata": {},
   "outputs": [
    {
     "data": {
      "text/plain": [
       "'0b100'"
      ]
     },
     "execution_count": 460,
     "metadata": {},
     "output_type": "execute_result"
    }
   ],
   "source": [
    "bin(4)"
   ]
  },
  {
   "cell_type": "markdown",
   "id": "466e47c0",
   "metadata": {},
   "source": [
    "enumerate() biz icerisine bir tuple verdigimizi varsaydigimizda ordaki icersiindeki her bir elemani ve indexini bizlere verir."
   ]
  },
  {
   "cell_type": "code",
   "execution_count": 461,
   "id": "4e529af7",
   "metadata": {},
   "outputs": [],
   "source": [
    "#enumerate() fonksiyonunu genelde \"for dongusu\" uzerinde kullaniliriz."
   ]
  },
  {
   "cell_type": "code",
   "execution_count": 462,
   "id": "979ab85c",
   "metadata": {},
   "outputs": [],
   "source": [
    "renkler = [\"sari\",\"beyaz\",\"mavi\",\"kirmizi\"]"
   ]
  },
  {
   "cell_type": "code",
   "execution_count": 463,
   "id": "84fc6967",
   "metadata": {},
   "outputs": [],
   "source": [
    "x = enumerate(renkler)"
   ]
  },
  {
   "cell_type": "code",
   "execution_count": 464,
   "id": "f46f4da6",
   "metadata": {},
   "outputs": [
    {
     "data": {
      "text/plain": [
       "[(0, 'sari'), (1, 'beyaz'), (2, 'mavi'), (3, 'kirmizi')]"
      ]
     },
     "execution_count": 464,
     "metadata": {},
     "output_type": "execute_result"
    }
   ],
   "source": [
    "list(x)"
   ]
  },
  {
   "cell_type": "code",
   "execution_count": 465,
   "id": "2c9acc10",
   "metadata": {},
   "outputs": [
    {
     "name": "stdout",
     "output_type": "stream",
     "text": [
      "0 sari\n",
      "1 beyaz\n",
      "2 mavi\n",
      "3 kirmizi\n"
     ]
    }
   ],
   "source": [
    "# elemanlar index, renk : iki eleman alacaksa for dongusunde boyle ifade edilir.\n",
    "for index ,renk in enumerate(renkler):\n",
    "    print(index,renk)"
   ]
  },
  {
   "cell_type": "markdown",
   "id": "82accc6e",
   "metadata": {},
   "source": [
    "max() fonksiyonu verdigimiz degerler arasinda en yuksek, en buyuk, en son degeri bizlere verir."
   ]
  },
  {
   "cell_type": "code",
   "execution_count": 466,
   "id": "a34fd6b5",
   "metadata": {},
   "outputs": [],
   "source": [
    "x = [3,4,456,23]"
   ]
  },
  {
   "cell_type": "code",
   "execution_count": 467,
   "id": "aa105717",
   "metadata": {},
   "outputs": [
    {
     "data": {
      "text/plain": [
       "456"
      ]
     },
     "execution_count": 467,
     "metadata": {},
     "output_type": "execute_result"
    }
   ],
   "source": [
    "max(x)"
   ]
  },
  {
   "cell_type": "code",
   "execution_count": 468,
   "id": "355474ff",
   "metadata": {},
   "outputs": [],
   "source": [
    "# string ifadelerde siralanabilir o zamanda alfabetik siraya gore siralanir."
   ]
  },
  {
   "cell_type": "code",
   "execution_count": 469,
   "id": "4f6183d1",
   "metadata": {},
   "outputs": [],
   "source": [
    "y = [\"c\", \"d\", \"a\", \"b\"]"
   ]
  },
  {
   "cell_type": "code",
   "execution_count": 470,
   "id": "dae9876d",
   "metadata": {},
   "outputs": [
    {
     "data": {
      "text/plain": [
       "'d'"
      ]
     },
     "execution_count": 470,
     "metadata": {},
     "output_type": "execute_result"
    }
   ],
   "source": [
    "max(y)"
   ]
  },
  {
   "cell_type": "markdown",
   "id": "b5f890fe",
   "metadata": {},
   "source": [
    "min() fonksiyonu verdigimiz degerler arasinda en kucuk, en dusuk, en ilk degeri bizlere verir."
   ]
  },
  {
   "cell_type": "code",
   "execution_count": 471,
   "id": "26ecc445",
   "metadata": {},
   "outputs": [],
   "source": [
    "x = [3,4,456,23]"
   ]
  },
  {
   "cell_type": "code",
   "execution_count": 472,
   "id": "c45fa094",
   "metadata": {},
   "outputs": [
    {
     "data": {
      "text/plain": [
       "3"
      ]
     },
     "execution_count": 472,
     "metadata": {},
     "output_type": "execute_result"
    }
   ],
   "source": [
    "min(x)"
   ]
  },
  {
   "cell_type": "code",
   "execution_count": 473,
   "id": "8d22ae01",
   "metadata": {},
   "outputs": [],
   "source": [
    "y = [\"c\", \"d\", \"a\", \"b\"]"
   ]
  },
  {
   "cell_type": "code",
   "execution_count": 474,
   "id": "bbf9706e",
   "metadata": {},
   "outputs": [
    {
     "data": {
      "text/plain": [
       "'a'"
      ]
     },
     "execution_count": 474,
     "metadata": {},
     "output_type": "execute_result"
    }
   ],
   "source": [
    "min(y)"
   ]
  },
  {
   "cell_type": "markdown",
   "id": "91d6690d",
   "metadata": {},
   "source": [
    "pow() fonksiyonu : uzeri islemi yapmamizi saglar\n",
    "\n",
    "* x'in değerini sizin değerinizin kuvvetine döndürür.\n",
    "pow() fonksiyonu x değerini y'nin kuvvetine (xy) çevirir.\n",
    "\n",
    "* Üçüncü bir parametre varsa, x değerini y'nin z modülüne göre kuvveti olarak döndürür.\n",
    "5 değerini 4'ün kuvveti, modül 10 olarak döndürür\n",
    "\n",
    "yani (5*5*5*5)%10"
   ]
  },
  {
   "cell_type": "code",
   "execution_count": 475,
   "id": "9136344a",
   "metadata": {},
   "outputs": [
    {
     "data": {
      "text/plain": [
       "32"
      ]
     },
     "execution_count": 475,
     "metadata": {},
     "output_type": "execute_result"
    }
   ],
   "source": [
    "pow(2,5)"
   ]
  },
  {
   "cell_type": "code",
   "execution_count": 476,
   "id": "00c36b24",
   "metadata": {},
   "outputs": [
    {
     "data": {
      "text/plain": [
       "5"
      ]
     },
     "execution_count": 476,
     "metadata": {},
     "output_type": "execute_result"
    }
   ],
   "source": [
    "# 5 in 4. kuvvetini aliyor sonra 10 a bolumunde kalan sayiyi bize soyluyor.\n",
    "pow(5,4,10)"
   ]
  },
  {
   "cell_type": "markdown",
   "id": "ff82087c",
   "metadata": {},
   "source": [
    "reversed() fonksiyonu icerisine verdigimiz degeri tam tersine cevirir."
   ]
  },
  {
   "cell_type": "code",
   "execution_count": 477,
   "id": "6a49f929",
   "metadata": {},
   "outputs": [],
   "source": [
    "x = [3,4,456,23,5,40]"
   ]
  },
  {
   "cell_type": "code",
   "execution_count": 478,
   "id": "35fef5bb",
   "metadata": {},
   "outputs": [],
   "source": [
    "y = reversed(x)"
   ]
  },
  {
   "cell_type": "code",
   "execution_count": 479,
   "id": "d680821c",
   "metadata": {},
   "outputs": [
    {
     "data": {
      "text/plain": [
       "[40, 5, 23, 456, 4, 3]"
      ]
     },
     "execution_count": 479,
     "metadata": {},
     "output_type": "execute_result"
    }
   ],
   "source": [
    "list(y)"
   ]
  },
  {
   "cell_type": "markdown",
   "id": "8b5f53e8",
   "metadata": {},
   "source": [
    "round() fonksiyonu icerisine verdigimiz degeri yuvarlar."
   ]
  },
  {
   "cell_type": "code",
   "execution_count": 480,
   "id": "a85d3093",
   "metadata": {},
   "outputs": [
    {
     "data": {
      "text/plain": [
       "3"
      ]
     },
     "execution_count": 480,
     "metadata": {},
     "output_type": "execute_result"
    }
   ],
   "source": [
    "round(3.1415)"
   ]
  },
  {
   "cell_type": "code",
   "execution_count": 481,
   "id": "93e9b622",
   "metadata": {},
   "outputs": [
    {
     "data": {
      "text/plain": [
       "3.342"
      ]
     },
     "execution_count": 481,
     "metadata": {},
     "output_type": "execute_result"
    }
   ],
   "source": [
    "#kaca yuvarlacagimizi soylemek icin parametre gireriz\n",
    "round(3.34234,3)"
   ]
  },
  {
   "cell_type": "markdown",
   "id": "715327e2",
   "metadata": {},
   "source": [
    "sorted() fonksiyonu aslinda bir siralama yapar"
   ]
  },
  {
   "cell_type": "code",
   "execution_count": 482,
   "id": "d173b069",
   "metadata": {},
   "outputs": [],
   "source": [
    "x = [3,4,456,23,5,40]"
   ]
  },
  {
   "cell_type": "code",
   "execution_count": 483,
   "id": "68619bed",
   "metadata": {},
   "outputs": [
    {
     "data": {
      "text/plain": [
       "[3, 4, 5, 23, 40, 456]"
      ]
     },
     "execution_count": 483,
     "metadata": {},
     "output_type": "execute_result"
    }
   ],
   "source": [
    "sorted(x)"
   ]
  },
  {
   "cell_type": "code",
   "execution_count": 484,
   "id": "fe89c283",
   "metadata": {},
   "outputs": [
    {
     "data": {
      "text/plain": [
       "[456, 40, 23, 5, 4, 3]"
      ]
     },
     "execution_count": 484,
     "metadata": {},
     "output_type": "execute_result"
    }
   ],
   "source": [
    "sorted(x , reverse = True) "
   ]
  },
  {
   "cell_type": "markdown",
   "id": "90844b11",
   "metadata": {},
   "source": [
    "sum () fonksiyonu sayilarin toplami ile alakali islem yapariz Yine liste icerisinde kullanmamiz gerekir.\n",
    "her elemana gidip hepsini tek tek toplar."
   ]
  },
  {
   "cell_type": "code",
   "execution_count": 485,
   "id": "4b7a7c87",
   "metadata": {},
   "outputs": [],
   "source": [
    "x = [3,4,456,23,5,40] "
   ]
  },
  {
   "cell_type": "code",
   "execution_count": 486,
   "id": "08b2feac",
   "metadata": {},
   "outputs": [
    {
     "data": {
      "text/plain": [
       "531"
      ]
     },
     "execution_count": 486,
     "metadata": {},
     "output_type": "execute_result"
    }
   ],
   "source": [
    "# sum (3,4,456,23,5,40)   sum() takes at most 2 arguments\n",
    "sum(x) "
   ]
  },
  {
   "cell_type": "markdown",
   "id": "dc415058",
   "metadata": {},
   "source": [
    "zip () fonksiyonu ikiden fazla olan iterator gibi donebilen listeyi ya da tuple gibi elemanlari birbirine birlestiriyor."
   ]
  },
  {
   "cell_type": "code",
   "execution_count": 487,
   "id": "e32a8b68",
   "metadata": {},
   "outputs": [],
   "source": [
    "x = [3,4,5,6]\n",
    "renkler =[\"sari\",\"beyaz\",\"mavi\",\"kirmizi\"]"
   ]
  },
  {
   "cell_type": "code",
   "execution_count": 488,
   "id": "ff4a7241",
   "metadata": {},
   "outputs": [
    {
     "data": {
      "text/plain": [
       "[(3, 'sari'), (4, 'beyaz'), (5, 'mavi'), (6, 'kirmizi')]"
      ]
     },
     "execution_count": 488,
     "metadata": {},
     "output_type": "execute_result"
    }
   ],
   "source": [
    "list(zip(x,renkler)) # zip() fonksiyonu iki listeyi bir araya getirir."
   ]
  },
  {
   "cell_type": "markdown",
   "id": "5cbd50e2",
   "metadata": {},
   "source": [
    "* Modulleri, paket ve kutuphaneleri \"https://pypi.org/\" sitesinden inceleyebilir , indirebiliriz.\n",
    "* Modulleri bilgisayara indirmek icin ise pip komutunu kullanbiliriz. Tabi eger yuklu degilse https://pypi.org/project/pip/ adresinden indirebiliriz."
   ]
  },
  {
   "cell_type": "markdown",
   "id": "c754c7da",
   "metadata": {},
   "source": [
    "### Modul / Paket / Library Nasil Kullanilir ?"
   ]
  },
  {
   "cell_type": "markdown",
   "id": "530daace",
   "metadata": {},
   "source": [
    "Modul : icerisinde fonksiyonlari , siniflari veya degiskenleri barindiran bir python dosyasidir."
   ]
  },
  {
   "cell_type": "markdown",
   "id": "add94af3",
   "metadata": {},
   "source": [
    "* Biliyorsunuz fonksiyonlari kullanmamizin sebebi surekli ayni kodlari tekrar etmemekti. Bir kere istedigimiz fonksiyonu yaziyoruz ve projemizin herhangi bir yerinde bu fonksiyonu kullaniyoruz. Aksi taktide fonksiyon ihtuyac oldugu heryerde tekrar tekrar yazmamiz gerekiyor."
   ]
  },
  {
   "cell_type": "markdown",
   "id": "a7c03d59",
   "metadata": {},
   "source": [
    "* Moduller aslinda icerisinde faydali olabilecek siniflarin, fonksiyonlarin veya degiskenlerin yazildigi ve sonrasinda ihtoyacimiz oldugunda kullanabilecegimiz kodlar butunudur."
   ]
  },
  {
   "cell_type": "markdown",
   "id": "179f7687",
   "metadata": {},
   "source": [
    "* Fonksiyonlar kendi yazdigimi fonksiyonlar ve Python gelistiricilerinin yazdigi gomulu fonksiyonlar(built-in function) olarak ikiye ayirmistik."
   ]
  },
  {
   "cell_type": "markdown",
   "id": "783d54d4",
   "metadata": {},
   "source": [
    "* Modulleride boyle 2 ye ayirabiliriz , kendi modullerimizide yazabiliriz ya da py developerlerin yazdigi modulleride kullanabiliriz, import ederek bu modulleri kullanabiliriz. Yoksa butun her seyi bastan yazmak gerekir."
   ]
  },
  {
   "cell_type": "markdown",
   "id": "23ecdc54",
   "metadata": {},
   "source": [
    "##### Packages "
   ]
  },
  {
   "cell_type": "markdown",
   "id": "7d4e0c75",
   "metadata": {},
   "source": [
    "* Paketler : Birden cok modulun birlesmesi ile olusur."
   ]
  },
  {
   "cell_type": "markdown",
   "id": "c3e0fcbd",
   "metadata": {},
   "source": [
    "##### Library (Kutuphaneler)"
   ]
  },
  {
   "cell_type": "markdown",
   "id": "2cfa5383",
   "metadata": {},
   "source": [
    "* Birden cok paketin birlesmesi ile olusur."
   ]
  },
  {
   "cell_type": "markdown",
   "id": "72f8a939",
   "metadata": {},
   "source": [
    "### Modulleri projemize cagirip indirmek icin 4 tane yontem kullanabiliriz."
   ]
  },
  {
   "cell_type": "markdown",
   "id": "163df873",
   "metadata": {},
   "source": [
    "* 1) Herhangi bir modulu projemize indirmek ve kullanmak icin \"import math\" seklinde cagirabiliriz."
   ]
  },
  {
   "cell_type": "markdown",
   "id": "034e261d",
   "metadata": {},
   "source": [
    "* 2) Modulleri indirirken kendimizde isim veya kisaltma verebilirsiniz \"import math as mathametic\" ya da \n",
    "\"import math as mt\" seklinde cagirabiliriz."
   ]
  },
  {
   "cell_type": "markdown",
   "id": "7ba9fc7b",
   "metadata": {},
   "source": [
    "* 3) Bir modul icerisinden herhangi bir sinif veya fonksiyonu kullanmak istedigimizde \"from math import sqrt\" seklinde cagirabiliriz."
   ]
  },
  {
   "cell_type": "markdown",
   "id": "288a5fd2",
   "metadata": {},
   "source": [
    "* 4) Bir modul ilerisindeki her seyi \"from math import\" seklinde cagirabiliriz."
   ]
  },
  {
   "cell_type": "markdown",
   "id": "452ab1c7",
   "metadata": {},
   "source": [
    "## Moduller - Paketler ve Kutuphaneler"
   ]
  },
  {
   "cell_type": "code",
   "execution_count": 489,
   "id": "fefc57b6",
   "metadata": {},
   "outputs": [],
   "source": [
    "# import : kelime olarak dahil etmek, eklemek anlamina gelir.\n",
    "import math"
   ]
  },
  {
   "cell_type": "code",
   "execution_count": 490,
   "id": "55e4ebaa",
   "metadata": {},
   "outputs": [
    {
     "data": {
      "text/plain": [
       "120"
      ]
     },
     "execution_count": 490,
     "metadata": {},
     "output_type": "execute_result"
    }
   ],
   "source": [
    "math.factorial(5)"
   ]
  },
  {
   "cell_type": "code",
   "execution_count": 491,
   "id": "c14e08ae",
   "metadata": {},
   "outputs": [
    {
     "data": {
      "text/plain": [
       "2.23606797749979"
      ]
     },
     "execution_count": 491,
     "metadata": {},
     "output_type": "execute_result"
    }
   ],
   "source": [
    "# karakoku alma fonksiyonu\n",
    "math.sqrt(5)"
   ]
  },
  {
   "cell_type": "code",
   "execution_count": 492,
   "id": "687d5e51",
   "metadata": {},
   "outputs": [
    {
     "data": {
      "text/plain": [
       "81.0"
      ]
     },
     "execution_count": 492,
     "metadata": {},
     "output_type": "execute_result"
    }
   ],
   "source": [
    "math.pow(3,4)"
   ]
  },
  {
   "cell_type": "code",
   "execution_count": 493,
   "id": "7589a3fd",
   "metadata": {},
   "outputs": [
    {
     "data": {
      "text/plain": [
       "6"
      ]
     },
     "execution_count": 493,
     "metadata": {},
     "output_type": "execute_result"
    }
   ],
   "source": [
    "# comb = kombinasyon fonksiyonu\n",
    "n = 4\n",
    "k = 2\n",
    "math.comb(n,k) \n"
   ]
  },
  {
   "cell_type": "code",
   "execution_count": 494,
   "id": "466b40c5",
   "metadata": {},
   "outputs": [
    {
     "data": {
      "text/plain": [
       "3.141592653589793"
      ]
     },
     "execution_count": 494,
     "metadata": {},
     "output_type": "execute_result"
    }
   ],
   "source": [
    "math.pi"
   ]
  },
  {
   "cell_type": "markdown",
   "id": "286acfa8",
   "metadata": {},
   "source": [
    "* Uzun bir kutuphane ismi vs oldugunda kisaltmak icin boyle kullanilir \"as\" diyerek kisaltma kelimesi girilir."
   ]
  },
  {
   "cell_type": "code",
   "execution_count": 495,
   "id": "cc4fd436",
   "metadata": {},
   "outputs": [],
   "source": [
    "import math as matematik "
   ]
  },
  {
   "cell_type": "code",
   "execution_count": 496,
   "id": "84adfa01",
   "metadata": {},
   "outputs": [
    {
     "data": {
      "text/plain": [
       "3.141592653589793"
      ]
     },
     "execution_count": 496,
     "metadata": {},
     "output_type": "execute_result"
    }
   ],
   "source": [
    "matematik.pi "
   ]
  },
  {
   "cell_type": "markdown",
   "id": "1ace7882",
   "metadata": {},
   "source": [
    "* Bir paket icerisinde sadece birtane fonksiyonu veya bir sinifi almak istedigimizde \"from math import function/class\""
   ]
  },
  {
   "cell_type": "code",
   "execution_count": 497,
   "id": "6aeae9c4",
   "metadata": {},
   "outputs": [],
   "source": [
    "# modulun icerisindeki her seyi \"from math import\" seklinde cagirabiliriz.\n",
    "# ama math modulunu cagirmadik yani \"math.\" kullanamayiz.\n",
    "# modulun icindeki sinifi birtane fonksiyonu veya bir sinifi almak istedigimizde kullaniriz.\n",
    "from math import factorial"
   ]
  },
  {
   "cell_type": "code",
   "execution_count": 498,
   "id": "22af2b8b",
   "metadata": {},
   "outputs": [
    {
     "data": {
      "text/plain": [
       "120"
      ]
     },
     "execution_count": 498,
     "metadata": {},
     "output_type": "execute_result"
    }
   ],
   "source": [
    "factorial(5)"
   ]
  },
  {
   "cell_type": "markdown",
   "id": "06c3831a",
   "metadata": {},
   "source": [
    "* Bir modul icerisindeki her seyi \"from math import *\" yani \"*\" her sey al anlamina gelir."
   ]
  },
  {
   "cell_type": "code",
   "execution_count": 499,
   "id": "9d5eb5a8",
   "metadata": {},
   "outputs": [],
   "source": [
    "from math import *"
   ]
  },
  {
   "cell_type": "code",
   "execution_count": 500,
   "id": "705c4574",
   "metadata": {},
   "outputs": [
    {
     "data": {
      "text/plain": [
       "2.23606797749979"
      ]
     },
     "execution_count": 500,
     "metadata": {},
     "output_type": "execute_result"
    }
   ],
   "source": [
    "sqrt(5)"
   ]
  },
  {
   "cell_type": "markdown",
   "id": "8eee3d90",
   "metadata": {},
   "source": [
    "### Datetime Module "
   ]
  },
  {
   "cell_type": "markdown",
   "id": "8f0fe461",
   "metadata": {},
   "source": [
    "* datetime modulu icerisinde \"datetime\" , \"date\" ve \"time\" siniflari vardir."
   ]
  },
  {
   "cell_type": "code",
   "execution_count": 501,
   "id": "8558ccd5",
   "metadata": {},
   "outputs": [],
   "source": [
    "# Datetime module tarih ve saatler icin kullanilir.\n",
    "import datetime"
   ]
  },
  {
   "cell_type": "code",
   "execution_count": 502,
   "id": "6e8d132c",
   "metadata": {},
   "outputs": [
    {
     "data": {
      "text/plain": [
       "datetime.datetime(2025, 2, 7, 21, 34, 50, 223946)"
      ]
     },
     "execution_count": 502,
     "metadata": {},
     "output_type": "execute_result"
    }
   ],
   "source": [
    "# datetime modulu icerisinde datetime diye sinifina ulasmak icin aralarda nokta \".\" kullaniriz, sonra bu sinif icerisinde bir methoda now methoduna ulasiyoruz.\n",
    "datetime.datetime.now()"
   ]
  },
  {
   "cell_type": "code",
   "execution_count": 503,
   "id": "11a3003b",
   "metadata": {},
   "outputs": [
    {
     "data": {
      "text/plain": [
       "datetime.datetime(2025, 2, 7, 21, 34, 50, 276726)"
      ]
     },
     "execution_count": 503,
     "metadata": {},
     "output_type": "execute_result"
    }
   ],
   "source": [
    "datetime.datetime.today()"
   ]
  },
  {
   "cell_type": "code",
   "execution_count": 504,
   "id": "523f16e0",
   "metadata": {},
   "outputs": [],
   "source": [
    "simdi = datetime.datetime.now()"
   ]
  },
  {
   "cell_type": "code",
   "execution_count": 505,
   "id": "6301c79c",
   "metadata": {},
   "outputs": [
    {
     "data": {
      "text/plain": [
       "'07/02/2025 21:34:50'"
      ]
     },
     "execution_count": 505,
     "metadata": {},
     "output_type": "execute_result"
    }
   ],
   "source": [
    "#formatting yapmak istersek strftime kullaniriz.\n",
    "simdi.strftime(\"%d/%m/%Y %H:%M:%S\")"
   ]
  },
  {
   "cell_type": "markdown",
   "id": "d4b9d3b6",
   "metadata": {},
   "source": [
    "## \"dir\" fonksiyonu bir modulun icinde hangi siniflarin oldugunu gosterir."
   ]
  },
  {
   "cell_type": "code",
   "execution_count": 506,
   "id": "86774b5c",
   "metadata": {},
   "outputs": [
    {
     "data": {
      "text/plain": [
       "['MAXYEAR',\n",
       " 'MINYEAR',\n",
       " 'UTC',\n",
       " '__all__',\n",
       " '__builtins__',\n",
       " '__cached__',\n",
       " '__doc__',\n",
       " '__file__',\n",
       " '__loader__',\n",
       " '__name__',\n",
       " '__package__',\n",
       " '__spec__',\n",
       " 'date',\n",
       " 'datetime',\n",
       " 'datetime_CAPI',\n",
       " 'time',\n",
       " 'timedelta',\n",
       " 'timezone',\n",
       " 'tzinfo']"
      ]
     },
     "execution_count": 506,
     "metadata": {},
     "output_type": "execute_result"
    }
   ],
   "source": [
    "dir(datetime)"
   ]
  },
  {
   "cell_type": "code",
   "execution_count": 507,
   "id": "9f95f7b8",
   "metadata": {},
   "outputs": [],
   "source": [
    "# datetime modulunun icindeki date sinifini cagirdik.\n",
    "from datetime import date"
   ]
  },
  {
   "cell_type": "code",
   "execution_count": 508,
   "id": "8ab36bd7",
   "metadata": {},
   "outputs": [
    {
     "data": {
      "text/plain": [
       "datetime.date(2025, 2, 7)"
      ]
     },
     "execution_count": 508,
     "metadata": {},
     "output_type": "execute_result"
    }
   ],
   "source": [
    "date.today()"
   ]
  },
  {
   "cell_type": "code",
   "execution_count": 509,
   "id": "e0f71410",
   "metadata": {},
   "outputs": [],
   "source": [
    "# bugun diye obje olusturduk ve bu objeyi date sinifinin today fonksiyonuna esitledik.\n",
    "bugun = date.today()"
   ]
  },
  {
   "cell_type": "code",
   "execution_count": 510,
   "id": "eee07103",
   "metadata": {},
   "outputs": [
    {
     "data": {
      "text/plain": [
       "datetime.date(2025, 2, 7)"
      ]
     },
     "execution_count": 510,
     "metadata": {},
     "output_type": "execute_result"
    }
   ],
   "source": [
    "bugun"
   ]
  },
  {
   "cell_type": "code",
   "execution_count": 511,
   "id": "6980707f",
   "metadata": {},
   "outputs": [
    {
     "data": {
      "text/plain": [
       "7"
      ]
     },
     "execution_count": 511,
     "metadata": {},
     "output_type": "execute_result"
    }
   ],
   "source": [
    "bugun.day"
   ]
  },
  {
   "cell_type": "code",
   "execution_count": 512,
   "id": "ec1ea796",
   "metadata": {},
   "outputs": [
    {
     "data": {
      "text/plain": [
       "2"
      ]
     },
     "execution_count": 512,
     "metadata": {},
     "output_type": "execute_result"
    }
   ],
   "source": [
    "bugun.month"
   ]
  },
  {
   "cell_type": "code",
   "execution_count": 513,
   "id": "31207a62",
   "metadata": {},
   "outputs": [
    {
     "data": {
      "text/plain": [
       "2025"
      ]
     },
     "execution_count": 513,
     "metadata": {},
     "output_type": "execute_result"
    }
   ],
   "source": [
    "bugun.year"
   ]
  },
  {
   "cell_type": "code",
   "execution_count": 514,
   "id": "20b665c0",
   "metadata": {},
   "outputs": [],
   "source": [
    "# obje olusturmak icin\n",
    "yeni = date(2018,6,23)"
   ]
  },
  {
   "cell_type": "code",
   "execution_count": 515,
   "id": "56de8498",
   "metadata": {},
   "outputs": [
    {
     "data": {
      "text/plain": [
       "datetime.date(2018, 6, 23)"
      ]
     },
     "execution_count": 515,
     "metadata": {},
     "output_type": "execute_result"
    }
   ],
   "source": [
    "yeni"
   ]
  },
  {
   "cell_type": "markdown",
   "id": "199fd5d6",
   "metadata": {},
   "source": [
    "#### time sinifindan ornekler"
   ]
  },
  {
   "cell_type": "code",
   "execution_count": 516,
   "id": "1b95765f",
   "metadata": {},
   "outputs": [],
   "source": [
    "from datetime import time"
   ]
  },
  {
   "cell_type": "markdown",
   "id": "697fe831",
   "metadata": {},
   "source": [
    "#### Objeler nokta ile birlestirilir.\n",
    "#### Fonksiyonalrda sadece () olur.\n",
    "#### Objelerde () OLMAZ"
   ]
  },
  {
   "cell_type": "code",
   "execution_count": 517,
   "id": "82f8d2d1",
   "metadata": {},
   "outputs": [],
   "source": [
    "zaman = time(10,23,45,245)"
   ]
  },
  {
   "cell_type": "code",
   "execution_count": 518,
   "id": "955b144a",
   "metadata": {},
   "outputs": [
    {
     "data": {
      "text/plain": [
       "10"
      ]
     },
     "execution_count": 518,
     "metadata": {},
     "output_type": "execute_result"
    }
   ],
   "source": [
    "zaman.hour"
   ]
  },
  {
   "cell_type": "code",
   "execution_count": 519,
   "id": "4098a776",
   "metadata": {},
   "outputs": [
    {
     "data": {
      "text/plain": [
       "23"
      ]
     },
     "execution_count": 519,
     "metadata": {},
     "output_type": "execute_result"
    }
   ],
   "source": [
    "zaman.minute"
   ]
  },
  {
   "cell_type": "code",
   "execution_count": 520,
   "id": "2737d950",
   "metadata": {},
   "outputs": [
    {
     "data": {
      "text/plain": [
       "45"
      ]
     },
     "execution_count": 520,
     "metadata": {},
     "output_type": "execute_result"
    }
   ],
   "source": [
    "zaman.second"
   ]
  },
  {
   "cell_type": "code",
   "execution_count": 521,
   "id": "aac59787",
   "metadata": {},
   "outputs": [
    {
     "data": {
      "text/plain": [
       "245"
      ]
     },
     "execution_count": 521,
     "metadata": {},
     "output_type": "execute_result"
    }
   ],
   "source": [
    "zaman.microsecond"
   ]
  },
  {
   "cell_type": "code",
   "execution_count": 522,
   "id": "f56f6c49",
   "metadata": {},
   "outputs": [
    {
     "name": "stdout",
     "output_type": "stream",
     "text": [
      "10:23:45.000245\n"
     ]
    }
   ],
   "source": [
    "print(zaman)"
   ]
  },
  {
   "cell_type": "code",
   "execution_count": 523,
   "id": "55c04a0a",
   "metadata": {},
   "outputs": [],
   "source": [
    "zaman1 = date(2025,2,6)"
   ]
  },
  {
   "cell_type": "code",
   "execution_count": 524,
   "id": "9e02be69",
   "metadata": {},
   "outputs": [],
   "source": [
    "zaman2 = date(2000,10,27)"
   ]
  },
  {
   "cell_type": "code",
   "execution_count": 525,
   "id": "548f93fa",
   "metadata": {},
   "outputs": [
    {
     "data": {
      "text/plain": [
       "datetime.timedelta(days=8868)"
      ]
     },
     "execution_count": 525,
     "metadata": {},
     "output_type": "execute_result"
    }
   ],
   "source": [
    "zaman1 - zaman2 "
   ]
  },
  {
   "cell_type": "markdown",
   "id": "61ff373f",
   "metadata": {},
   "source": [
    "### Time Module"
   ]
  },
  {
   "cell_type": "code",
   "execution_count": 526,
   "id": "8493536e",
   "metadata": {},
   "outputs": [],
   "source": [
    "import time"
   ]
  },
  {
   "cell_type": "code",
   "execution_count": 527,
   "id": "b8f09f42",
   "metadata": {},
   "outputs": [
    {
     "data": {
      "text/plain": [
       "1738953290.8625724"
      ]
     },
     "execution_count": 527,
     "metadata": {},
     "output_type": "execute_result"
    }
   ],
   "source": [
    "time.time() # Unix time"
   ]
  },
  {
   "cell_type": "code",
   "execution_count": 528,
   "id": "bd6619a9",
   "metadata": {},
   "outputs": [
    {
     "data": {
      "text/plain": [
       "time.struct_time(tm_year=2025, tm_mon=2, tm_mday=7, tm_hour=21, tm_min=34, tm_sec=50, tm_wday=4, tm_yday=38, tm_isdst=0)"
      ]
     },
     "execution_count": 528,
     "metadata": {},
     "output_type": "execute_result"
    }
   ],
   "source": [
    "time.localtime() # Current time in local timezone"
   ]
  },
  {
   "cell_type": "code",
   "execution_count": 529,
   "id": "9f395fae",
   "metadata": {},
   "outputs": [
    {
     "data": {
      "text/plain": [
       "'Fri Feb  7 21:34:50 2025'"
      ]
     },
     "execution_count": 529,
     "metadata": {},
     "output_type": "execute_result"
    }
   ],
   "source": [
    "time.ctime(time.time()) # Unix time to readable time"
   ]
  },
  {
   "cell_type": "code",
   "execution_count": 530,
   "id": "b3bcfd92",
   "metadata": {},
   "outputs": [
    {
     "data": {
      "text/plain": [
       "time.struct_time(tm_year=2025, tm_mon=2, tm_mday=7, tm_hour=18, tm_min=34, tm_sec=50, tm_wday=4, tm_yday=38, tm_isdst=0)"
      ]
     },
     "execution_count": 530,
     "metadata": {},
     "output_type": "execute_result"
    }
   ],
   "source": [
    "time.gmtime() # Current time in GMT timezone"
   ]
  },
  {
   "cell_type": "code",
   "execution_count": 531,
   "id": "5bb0ab19",
   "metadata": {},
   "outputs": [
    {
     "data": {
      "text/plain": [
       "1738953290.0"
      ]
     },
     "execution_count": 531,
     "metadata": {},
     "output_type": "execute_result"
    }
   ],
   "source": [
    "time.mktime(time.localtime()) # Convert local time to Unix time"
   ]
  },
  {
   "cell_type": "code",
   "execution_count": 532,
   "id": "cd57b0b4",
   "metadata": {},
   "outputs": [
    {
     "data": {
      "text/plain": [
       "'07/Feb/2025 21:34:50'"
      ]
     },
     "execution_count": 532,
     "metadata": {},
     "output_type": "execute_result"
    }
   ],
   "source": [
    "time.strftime(\"%d/%b/%Y %H:%M:%S\") # Convert"
   ]
  },
  {
   "cell_type": "code",
   "execution_count": 533,
   "id": "bddaad05",
   "metadata": {},
   "outputs": [
    {
     "data": {
      "text/plain": [
       "'21:34:51'"
      ]
     },
     "execution_count": 533,
     "metadata": {},
     "output_type": "execute_result"
    }
   ],
   "source": [
    "time.strftime(\"%H:%M:%S\") "
   ]
  },
  {
   "cell_type": "markdown",
   "id": "76172697",
   "metadata": {},
   "source": [
    "### Sleep function"
   ]
  },
  {
   "cell_type": "markdown",
   "id": "8c7f4e97",
   "metadata": {},
   "source": [
    "#Sleep function time.sleep(1) demek 1 saniye bekle ve tekrar basa don demek."
   ]
  },
  {
   "cell_type": "code",
   "execution_count": 534,
   "id": "66315a29",
   "metadata": {},
   "outputs": [
    {
     "data": {
      "text/plain": [
       "' while True: # surekli donsun demek yani sonsuz dongu yapiyoruz.\\n    zaman = time.strftime(\"%H:%M:%S\")\\n    print(zaman)\\n    time.sleep(1) # 1 saniyede bir kacis kere ekrana yazdiracak.\\n'"
      ]
     },
     "execution_count": 534,
     "metadata": {},
     "output_type": "execute_result"
    }
   ],
   "source": [
    "\"\"\" while True: # surekli donsun demek yani sonsuz dongu yapiyoruz.\n",
    "    zaman = time.strftime(\"%H:%M:%S\")\n",
    "    print(zaman)\n",
    "    time.sleep(1) # 1 saniyede bir kacis kere ekrana yazdiracak.\n",
    "\"\"\" "
   ]
  },
  {
   "cell_type": "markdown",
   "id": "733f728c",
   "metadata": {},
   "source": [
    "#### Kendi modulumuzu olusturmak icin"
   ]
  },
  {
   "cell_type": "code",
   "execution_count": 535,
   "id": "e93520b0",
   "metadata": {},
   "outputs": [],
   "source": [
    "#\".py\" uzzntili python dosyasi olarak kaydettigimizde aslinda kendi modulumuzu olusturmus oluyoruz."
   ]
  },
  {
   "cell_type": "code",
   "execution_count": 537,
   "id": "55ab9b93",
   "metadata": {},
   "outputs": [],
   "source": [
    "#import Hesap_Makinesi "
   ]
  },
  {
   "cell_type": "code",
   "execution_count": 539,
   "id": "0d435eb0",
   "metadata": {},
   "outputs": [],
   "source": [
    "# Hesap_Makinesi.topla(4,34,5,6,1)"
   ]
  },
  {
   "cell_type": "markdown",
   "id": "33c271f0",
   "metadata": {},
   "source": [
    "* Ulasmak istersek kendi yazdigimiz modullere bu yontem izlenir ;"
   ]
  },
  {
   "cell_type": "code",
   "execution_count": null,
   "id": "7f12746b",
   "metadata": {},
   "outputs": [],
   "source": [
    "# import Anapaket.altpaket.modul"
   ]
  },
  {
   "cell_type": "markdown",
   "id": "dbe59e91",
   "metadata": {},
   "source": [
    "## Hatalar ve Istisnalar (Try Except)\n"
   ]
  },
  {
   "cell_type": "code",
   "execution_count": 541,
   "id": "425a6400",
   "metadata": {},
   "outputs": [
    {
     "data": {
      "text/plain": [
       "'\\n    def topla(x,y):\\n    print(x+y)\\n\\n     Cell In[73],   line 3\\n    print(x+y)\\n    ^\\n    IndentationError: expected an indented block after function definition on line 2\\n'"
      ]
     },
     "execution_count": 541,
     "metadata": {},
     "output_type": "execute_result"
    }
   ],
   "source": [
    "#Indentation Error\n",
    "'''\n",
    "    def topla(x,y):\n",
    "    print(x+y)\n",
    "\n",
    "     Cell In[73],   line 3\n",
    "    print(x+y)\n",
    "    ^\n",
    "    IndentationError: expected an indented block after function definition on line 2\n",
    "''' "
   ]
  },
  {
   "cell_type": "code",
   "execution_count": 542,
   "id": "b45864cc",
   "metadata": {},
   "outputs": [
    {
     "data": {
      "text/plain": [
       "'\\n    if 5 > 1 \\n        print(\"5 buyuktur 1\")\\n\\n    Cell In[74],   line 2\\n        if 5 > 1\\n                ^\\n    SyntaxError: expected \\':\\'\\n'"
      ]
     },
     "execution_count": 542,
     "metadata": {},
     "output_type": "execute_result"
    }
   ],
   "source": [
    "# Syntax Error\n",
    "'''\n",
    "    if 5 > 1 \n",
    "        print(\"5 buyuktur 1\")\n",
    "\n",
    "    Cell In[74],   line 2\n",
    "        if 5 > 1\n",
    "                ^\n",
    "    SyntaxError: expected ':'\n",
    "'''"
   ]
  },
  {
   "cell_type": "code",
   "execution_count": 543,
   "id": "7eb3bb65",
   "metadata": {},
   "outputs": [
    {
     "data": {
      "text/plain": [
       "'\\n    x = 5\\n    y = \"10\"\\n    x + y\\n\\n    TypeError             Traceback (most recent call last)\\n    Cell In[76], line 4\\n      2 x = 5\\n      3 y = \"10\"\\n    ----> 4 x + y\\n\\n    TypeError: unsupported operand type(s) for +: \\'int\\' and \\'str\\n\\n'"
      ]
     },
     "execution_count": 543,
     "metadata": {},
     "output_type": "execute_result"
    }
   ],
   "source": [
    "# Type Error\n",
    "'''\n",
    "    x = 5\n",
    "    y = \"10\"\n",
    "    x + y\n",
    "\n",
    "    TypeError             Traceback (most recent call last)\n",
    "    Cell In[76], line 4\n",
    "      2 x = 5\n",
    "      3 y = \"10\"\n",
    "    ----> 4 x + y\n",
    "\n",
    "    TypeError: unsupported operand type(s) for +: 'int' and 'str\n",
    "\n",
    "'''\n"
   ]
  },
  {
   "cell_type": "code",
   "execution_count": 544,
   "id": "0c23e05e",
   "metadata": {},
   "outputs": [
    {
     "data": {
      "text/plain": [
       "\"\\n    z + y\\n\\n    NameError          Traceback (most recent call last)\\n    Cell In[78], line 2\\n        1 # Name Error\\n    ----> 2 z + y\\n\\n    NameError: name 'z' is not defined\\n\\n\""
      ]
     },
     "execution_count": 544,
     "metadata": {},
     "output_type": "execute_result"
    }
   ],
   "source": [
    "# Name Error\n",
    "'''\n",
    "    z + y\n",
    "\n",
    "    NameError          Traceback (most recent call last)\n",
    "    Cell In[78], line 2\n",
    "        1 # Name Error\n",
    "    ----> 2 z + y\n",
    "\n",
    "    NameError: name 'z' is not defined\n",
    "\n",
    "'''"
   ]
  },
  {
   "cell_type": "code",
   "execution_count": 545,
   "id": "339691e8",
   "metadata": {},
   "outputs": [
    {
     "data": {
      "text/plain": [
       "' x = int(input(\"bir sayi giriniz\"))\\n    y = int(input(\"ikinci sayi giriniz\"))\\n\\n    x + y\\n\\n    ValueError          Traceback (most recent call last)\\n    Cell In[82], line 2\\n        1 # Value Error\\n    ----> 2 x = int(input(\"bir sayi giriniz\"))\\n        3 y = int(input(\"ikinci sayi giriniz\"))\\n        5 x + y\\n\\n    ValueError: invalid literal for int() with base 10: \\'dschuksfvd\\'\\n'"
      ]
     },
     "execution_count": 545,
     "metadata": {},
     "output_type": "execute_result"
    }
   ],
   "source": [
    "# Value Error\n",
    "''' x = int(input(\"bir sayi giriniz\"))\n",
    "    y = int(input(\"ikinci sayi giriniz\"))\n",
    "\n",
    "    x + y\n",
    "\n",
    "    ValueError          Traceback (most recent call last)\n",
    "    Cell In[82], line 2\n",
    "        1 # Value Error\n",
    "    ----> 2 x = int(input(\"bir sayi giriniz\"))\n",
    "        3 y = int(input(\"ikinci sayi giriniz\"))\n",
    "        5 x + y\n",
    "\n",
    "    ValueError: invalid literal for int() with base 10: 'dschuksfvd'\n",
    "'''    "
   ]
  },
  {
   "cell_type": "markdown",
   "id": "ffb060e8",
   "metadata": {},
   "source": [
    "# Try Except Komutlari"
   ]
  },
  {
   "cell_type": "code",
   "execution_count": 546,
   "id": "2f9a2735",
   "metadata": {},
   "outputs": [],
   "source": [
    "#bunu dene try yap diyoruz. \n",
    "try :\n",
    "    x = int(input(\"bir sayi giriniz\"))\n",
    "    y = int(input(\"ikinci sayi giriniz\"))\n",
    "\n",
    "    x + y\n",
    "# except burda hata almazsan yani istisna et demektir bunu calistir eger hata almazsan boyle bir cikti ver demek istiyoruz.\n",
    "except :\n",
    "    print(\"Hata olustu\")"
   ]
  },
  {
   "cell_type": "code",
   "execution_count": 547,
   "id": "ccf8c08b",
   "metadata": {},
   "outputs": [],
   "source": [
    "try:\n",
    "    x = int(input(\"bir sayi giriniz\"))\n",
    "    y = int(input(\"ikinci sayi giriniz\")) #string bir ifade\n",
    "    x / y\n",
    "\n",
    "except ValueError:\n",
    "    print(\"Lutfen sayi giriniz\")\n",
    "except TypeError:\n",
    "    print(\"Verilerin tipinde bir hata var.\")\n",
    "except ZeroDivisionError:\n",
    "    print(\"Sifira bolunemez,sifirdan farkli bir deger giriniz.\")"
   ]
  },
  {
   "cell_type": "markdown",
   "id": "29b5e131",
   "metadata": {},
   "source": [
    "#Boylede yazabilirsiniz."
   ]
  },
  {
   "cell_type": "code",
   "execution_count": 548,
   "id": "87fb9740",
   "metadata": {},
   "outputs": [],
   "source": [
    "try:\n",
    "    x = int(input(\"bir sayi giriniz\"))\n",
    "    y = int(input(\"ikinci sayi giriniz\")) #string bir ifade\n",
    "    x / y\n",
    "\n",
    "except( ValueError, TypeError , ZeroDivisionError):\n",
    "    print(\"Hatali giris yaptiniz\")"
   ]
  },
  {
   "cell_type": "markdown",
   "id": "102318e6",
   "metadata": {},
   "source": [
    "#Try - except Blogu icinde else kullanimi"
   ]
  },
  {
   "cell_type": "code",
   "execution_count": 549,
   "id": "86da303e",
   "metadata": {},
   "outputs": [
    {
     "name": "stdout",
     "output_type": "stream",
     "text": [
      "Hatali giris yaptiniz\n"
     ]
    }
   ],
   "source": [
    "try:\n",
    "    x = int(input(\"bir sayi giriniz\"))\n",
    "    y = int(input(\"ikinci sayi giriniz\")) #string bir ifade\n",
    "    x / y\n",
    "\n",
    "# Problem var ise except calsiir.\n",
    "except:\n",
    "    print(\"Hatali giris yaptiniz\")\n",
    "# Problem yoksa else calisir.\n",
    "else:\n",
    "    print(\"problem yoktur.\")"
   ]
  },
  {
   "cell_type": "markdown",
   "id": "c7ea70a7",
   "metadata": {},
   "source": [
    "## Finally Komutu Blogu ve Raise ifadesi"
   ]
  },
  {
   "cell_type": "markdown",
   "id": "6cef2143",
   "metadata": {},
   "source": [
    "* Dosya acma ve kapatma islemlerinde bir dosya actigimizda sonrasinda dosyayi kapatmamiz gerekiyor.\n",
    "* bu gibi durumlarda finally blogunu kullaniriz."
   ]
  },
  {
   "cell_type": "code",
   "execution_count": 550,
   "id": "e4970875",
   "metadata": {},
   "outputs": [
    {
     "name": "stdout",
     "output_type": "stream",
     "text": [
      "0.09195402298850575\n",
      "ne olursa olsun calisacak\n"
     ]
    }
   ],
   "source": [
    "# finally her zaman calisir.\n",
    "try :\n",
    "    x = int(input(\"bir sayi giriniz:\"))\n",
    "    y = int(input(\"ikinci sayi giriniz:\"))\n",
    "    print(x / y)\n",
    "except:\n",
    "    print(\"Hatali giris yaptiniz\")\n",
    "finally:\n",
    "    print(\"ne olursa olsun calisacak\")"
   ]
  },
  {
   "cell_type": "markdown",
   "id": "fd29549d",
   "metadata": {},
   "source": [
    "#### Raise exception"
   ]
  },
  {
   "cell_type": "markdown",
   "id": "e40e89b5",
   "metadata": {},
   "source": [
    "* Raise blogu ile hata firlatma islemi yapilabilir. Hata ortaya cikarmaya yarar.\n",
    "* raise ile Exception beraber kullaniliriz."
   ]
  },
  {
   "cell_type": "code",
   "execution_count": 551,
   "id": "5cc981b9",
   "metadata": {},
   "outputs": [
    {
     "data": {
      "text/plain": [
       "'\\nx = int(input(\"bir sayi giriniz \"))\\n\\n    if x == 0:\\n        # Hata olusursa buraya giriyor.\\n        raise Exception(\"Lutfen sifirdan farkli bir deger giriniz.\")\\n    else:\\n    print(x)\\n\\n    Exception                                 Traceback (most recent call last)\\n    Cell In[567], line 5\\n      1 x = int(input(\"bir sayi giriniz \"))\\n      3 if x == 0:\\n      4     # Hata olusursa buraya giriyor.\\n    ----> 5     raise Exception(\"Lutfen sifirdan farkli bir deger giriniz.\")\\n      6 else:\\n      7     print(x)\\n\\n    Exception: Lutfen sifirdan farkli bir deger giriniz.\\n\\n'"
      ]
     },
     "execution_count": 551,
     "metadata": {},
     "output_type": "execute_result"
    }
   ],
   "source": [
    "'''\n",
    "x = int(input(\"bir sayi giriniz \"))\n",
    "\n",
    "    if x == 0:\n",
    "        # Hata olusursa buraya giriyor.\n",
    "        raise Exception(\"Lutfen sifirdan farkli bir deger giriniz.\")\n",
    "    else:\n",
    "    print(x)\n",
    "\n",
    "    Exception                                 Traceback (most recent call last)\n",
    "    Cell In[567], line 5\n",
    "      1 x = int(input(\"bir sayi giriniz \"))\n",
    "      3 if x == 0:\n",
    "      4     # Hata olusursa buraya giriyor.\n",
    "    ----> 5     raise Exception(\"Lutfen sifirdan farkli bir deger giriniz.\")\n",
    "      6 else:\n",
    "      7     print(x)\n",
    "\n",
    "    Exception: Lutfen sifirdan farkli bir deger giriniz.\n",
    "\n",
    "'''"
   ]
  },
  {
   "cell_type": "code",
   "execution_count": 552,
   "id": "b43cbc52",
   "metadata": {},
   "outputs": [],
   "source": [
    "# Exception classini inheritance ettik SifirHatasi classi icin Exception adi yerine artik sifir hatasi olarak kullandik.\n",
    "class SifirHatasi(Exception):\n",
    "    pass"
   ]
  },
  {
   "cell_type": "code",
   "execution_count": 553,
   "id": "83dda21d",
   "metadata": {},
   "outputs": [
    {
     "data": {
      "text/plain": [
       "'\\nx = int(input(\"bir sayi giriniz \"))\\n\\nif x == 0:\\n    # Hata olusursa buraya giriyor.\\n    raise SifirHatasi(\"Lutfen sifirdan farkli bir deger giriniz.\")\\nelse:\\n    print(x)\\n\\n    SifirHatasi      Traceback (most recent call last)\\n    Cell In[569], line 5\\n      1 x = int(input(\"bir sayi giriniz \"))\\n      3 if x == 0:\\n      4     # Hata olusursa buraya giriyor.\\n    ----> 5     raise SifirHatasi(\"Lutfen sifirdan farkli bir deger giriniz.\")\\n      6 else:\\n      7     print(x)\\n\\n    SifirHatasi: Lutfen sifirdan farkli bir deger giriniz.\\n\\n'"
      ]
     },
     "execution_count": 553,
     "metadata": {},
     "output_type": "execute_result"
    }
   ],
   "source": [
    "'''\n",
    "x = int(input(\"bir sayi giriniz \"))\n",
    "\n",
    "if x == 0:\n",
    "    # Hata olusursa buraya giriyor.\n",
    "    raise SifirHatasi(\"Lutfen sifirdan farkli bir deger giriniz.\")\n",
    "else:\n",
    "    print(x)\n",
    "\n",
    "    SifirHatasi      Traceback (most recent call last)\n",
    "    Cell In[569], line 5\n",
    "      1 x = int(input(\"bir sayi giriniz \"))\n",
    "      3 if x == 0:\n",
    "      4     # Hata olusursa buraya giriyor.\n",
    "    ----> 5     raise SifirHatasi(\"Lutfen sifirdan farkli bir deger giriniz.\")\n",
    "      6 else:\n",
    "      7     print(x)\n",
    "\n",
    "    SifirHatasi: Lutfen sifirdan farkli bir deger giriniz.\n",
    "\n",
    "'''    "
   ]
  },
  {
   "cell_type": "markdown",
   "id": "42732ce1",
   "metadata": {},
   "source": [
    "## Python Programlama dilinde Dosya Islemleri"
   ]
  },
  {
   "cell_type": "markdown",
   "id": "1172eb80",
   "metadata": {},
   "source": [
    "* Pythonda Dosya acmak icin \"open()\" fonksiyonu kullaniriz.\n",
    "* Open() fonksiyonu iki parametre alir, Birinci parametre dosya ismi, ikinci parametre modu.\n",
    "* Dsoya islemleri yaparken once dosyayi acacagiz sonra okuma ve yazma islemleri yapcagiz. son olarakta dosyamizi kapatiyoruz.\n",
    "* Mod = yazma icin mi acacagiz yoksa okumak icin mi diye modu belirmemiz gerekir ikinci parametrede.\n",
    "* Dosya ile isimiz bittiginde hemen kapatmaliyiz."
   ]
  },
  {
   "cell_type": "markdown",
   "id": "47746756",
   "metadata": {},
   "source": [
    "##### \"w\" modu written"
   ]
  },
  {
   "cell_type": "code",
   "execution_count": 554,
   "id": "00ca3168",
   "metadata": {},
   "outputs": [],
   "source": [
    "# dsoya adi dosya.txt mode written yazma modu demektir.\n",
    "# \"w\" modu eger bu dosya (dosya.txt) yoksa yenisini olusturuyor varsa da uzerine yaziyor yani eskisinin icindeki bilgileri siliyor ve yeniden uzerine dosyayi aciyor.\n",
    "dosya = open(\"dosya.txt\", mode = \"w\", encoding = \"utf-8\")"
   ]
  },
  {
   "cell_type": "code",
   "execution_count": 555,
   "id": "20009fcd",
   "metadata": {},
   "outputs": [
    {
     "data": {
      "text/plain": [
       "32"
      ]
     },
     "execution_count": 555,
     "metadata": {},
     "output_type": "execute_result"
    }
   ],
   "source": [
    "dosya.write(\" Merhaba ben python ogreniyorum.\")"
   ]
  },
  {
   "cell_type": "code",
   "execution_count": 556,
   "id": "c9286556",
   "metadata": {},
   "outputs": [],
   "source": [
    "# dosya kapatmaliyiz close() ile kapatilir.\n",
    "dosya.close()"
   ]
  },
  {
   "cell_type": "markdown",
   "id": "0be5d228",
   "metadata": {},
   "source": [
    "##### \"a\" modu append modu"
   ]
  },
  {
   "cell_type": "code",
   "execution_count": 557,
   "id": "9a6122b7",
   "metadata": {},
   "outputs": [],
   "source": [
    "# append \"a\" modu bu dosyayi acmaya calistigimizda oyle bir dosya varsa sadec o dosayyi aciyor yeniden olusturmuyor w modu gibi.\n",
    "\n",
    "dosya = open(\"dosya.txt\", mode = \"a\", encoding = \"utf-8\")"
   ]
  },
  {
   "cell_type": "code",
   "execution_count": 558,
   "id": "d0ee6f26",
   "metadata": {},
   "outputs": [
    {
     "data": {
      "text/plain": [
       "43"
      ]
     },
     "execution_count": 558,
     "metadata": {},
     "output_type": "execute_result"
    }
   ],
   "source": [
    "dosya.write(\" Merhaba ben python ogreniyorum ama hizlica\")"
   ]
  },
  {
   "cell_type": "code",
   "execution_count": 559,
   "id": "410907ab",
   "metadata": {},
   "outputs": [],
   "source": [
    "dosya.close()"
   ]
  },
  {
   "cell_type": "markdown",
   "id": "319eab14",
   "metadata": {},
   "source": [
    "#### \"x\" modu "
   ]
  },
  {
   "cell_type": "markdown",
   "id": "896bd66f",
   "metadata": {},
   "source": [
    "* Eger boyle bir dosya var ise bize bir hata verir , \"x\" modu bu ise yarar.\n",
    "\n",
    "* Bu mod, dosyanın var olup olmadığını kontrol etmek ve sadece yoksa oluşturmak için kullanılır."
   ]
  },
  {
   "cell_type": "code",
   "execution_count": 560,
   "id": "4a713eba",
   "metadata": {},
   "outputs": [
    {
     "data": {
      "text/plain": [
       "'    \\n    dosya = open(\"dosya.txt\", mode = \"x\", encoding = \"utf-8\")\\n\\n    # Boyle bir dosya var demektir. olmasaydi dosya acardi.\\n    FileExistsError: [Errno 17] File exists: \\'dosya.txt\\'\\n'"
      ]
     },
     "execution_count": 560,
     "metadata": {},
     "output_type": "execute_result"
    }
   ],
   "source": [
    "'''    \n",
    "    dosya = open(\"dosya.txt\", mode = \"x\", encoding = \"utf-8\")\n",
    "\n",
    "    # Boyle bir dosya var demektir. olmasaydi dosya acardi.\n",
    "    FileExistsError: [Errno 17] File exists: 'dosya.txt'\n",
    "'''\n"
   ]
  },
  {
   "cell_type": "markdown",
   "id": "323e7037",
   "metadata": {},
   "source": [
    "#### \"r\" modu read() modu"
   ]
  },
  {
   "cell_type": "markdown",
   "id": "a7a7c659",
   "metadata": {},
   "source": [
    "* Icerisindeki yazilanlari okumak icin dosyayi \"r\" modu kullanarak acmaliyiz."
   ]
  },
  {
   "cell_type": "code",
   "execution_count": 561,
   "id": "c1e5b7f0",
   "metadata": {},
   "outputs": [],
   "source": [
    "dosya = open(\"dosya.txt\", mode = \"r\", encoding = \"utf-8\")\n"
   ]
  },
  {
   "cell_type": "code",
   "execution_count": 562,
   "id": "20c22caf",
   "metadata": {},
   "outputs": [
    {
     "data": {
      "text/plain": [
       "' Merhaba ben python ogreniyorum. Merhaba ben python ogreniyorum ama hizlica'"
      ]
     },
     "execution_count": 562,
     "metadata": {},
     "output_type": "execute_result"
    }
   ],
   "source": [
    "dosya.read()"
   ]
  },
  {
   "cell_type": "code",
   "execution_count": 563,
   "id": "f8426d23",
   "metadata": {},
   "outputs": [],
   "source": [
    "dosya.close()"
   ]
  },
  {
   "cell_type": "code",
   "execution_count": 564,
   "id": "ac485939",
   "metadata": {},
   "outputs": [],
   "source": [
    "# iki kere dosya.read() calistirirsak o zaman ikinci calistirmada cursor mouse imleci en sonda oldugu icin sonuc ikincide ' ' bize bos verir.\n",
    "dosya = open(\"dosya.txt\", mode = \"r\", encoding = \"utf-8\")\n"
   ]
  },
  {
   "cell_type": "code",
   "execution_count": 565,
   "id": "dd7bf4b5",
   "metadata": {},
   "outputs": [
    {
     "data": {
      "text/plain": [
       "' Merhaba ben python ogreniyorum. Merhaba ben python ogreniyorum ama hizlica'"
      ]
     },
     "execution_count": 565,
     "metadata": {},
     "output_type": "execute_result"
    }
   ],
   "source": [
    "dosya.read()"
   ]
  },
  {
   "cell_type": "code",
   "execution_count": 566,
   "id": "58c920b1",
   "metadata": {},
   "outputs": [
    {
     "data": {
      "text/plain": [
       "''"
      ]
     },
     "execution_count": 566,
     "metadata": {},
     "output_type": "execute_result"
    }
   ],
   "source": [
    "dosya.read()"
   ]
  },
  {
   "cell_type": "code",
   "execution_count": 567,
   "id": "ba7d221a",
   "metadata": {},
   "outputs": [],
   "source": [
    "dosya.close()"
   ]
  },
  {
   "cell_type": "markdown",
   "id": "6a0c8d9f",
   "metadata": {},
   "source": [
    "#### \"for\" dongusu ile dosya okuma"
   ]
  },
  {
   "cell_type": "markdown",
   "id": "e7578de4",
   "metadata": {},
   "source": [
    "* Satir satir dosya okumamizi saglar."
   ]
  },
  {
   "cell_type": "code",
   "execution_count": 568,
   "id": "962c8c50",
   "metadata": {},
   "outputs": [],
   "source": [
    "dosya = open(\"dosya.txt\", mode = \"r\", encoding = \"utf-8\")\n"
   ]
  },
  {
   "cell_type": "code",
   "execution_count": 569,
   "id": "04eafa60",
   "metadata": {},
   "outputs": [
    {
     "name": "stdout",
     "output_type": "stream",
     "text": [
      " Merhaba ben python ogreniyorum. Merhaba ben python ogreniyorum ama hizlica\n"
     ]
    }
   ],
   "source": [
    "for i in dosya:\n",
    "    print(i)"
   ]
  },
  {
   "cell_type": "code",
   "execution_count": 570,
   "id": "af62e42c",
   "metadata": {},
   "outputs": [],
   "source": [
    "dosya.close()"
   ]
  },
  {
   "cell_type": "markdown",
   "id": "1043f2ae",
   "metadata": {},
   "source": [
    "##### Dosya ya yazi ekleme"
   ]
  },
  {
   "cell_type": "markdown",
   "id": "db0eab59",
   "metadata": {},
   "source": [
    "* a modu ile actigimida ekleme yapacagimiz icin a ile acariz sonra dosya.write ile yazimizi ekleriz ve dosyamizi kapatiriz."
   ]
  },
  {
   "cell_type": "code",
   "execution_count": 571,
   "id": "090d1edf",
   "metadata": {},
   "outputs": [],
   "source": [
    "dosya = open(\"dosya.txt\", mode = \"a\", encoding = \"utf-8\")"
   ]
  },
  {
   "cell_type": "code",
   "execution_count": 572,
   "id": "9de29cfd",
   "metadata": {},
   "outputs": [
    {
     "data": {
      "text/plain": [
       "29"
      ]
     },
     "execution_count": 572,
     "metadata": {},
     "output_type": "execute_result"
    }
   ],
   "source": [
    "dosya.write(\"ben python ogrenmeyi bitirdim\")"
   ]
  },
  {
   "cell_type": "code",
   "execution_count": 573,
   "id": "910d00eb",
   "metadata": {},
   "outputs": [],
   "source": [
    "dosya.close()"
   ]
  },
  {
   "cell_type": "markdown",
   "id": "3babb561",
   "metadata": {},
   "source": [
    "#### \"readline\" methodu dongusu ile dosya okuma"
   ]
  },
  {
   "cell_type": "markdown",
   "id": "1c2ca004",
   "metadata": {},
   "source": [
    "* Satir satir dosya okumamizi saglar."
   ]
  },
  {
   "cell_type": "code",
   "execution_count": 574,
   "id": "354e1da0",
   "metadata": {},
   "outputs": [],
   "source": [
    "dosya = open(\"dosya.txt\", mode = \"r\", encoding = \"utf-8\")\n"
   ]
  },
  {
   "cell_type": "code",
   "execution_count": 575,
   "id": "43aaaad8",
   "metadata": {},
   "outputs": [
    {
     "data": {
      "text/plain": [
       "' Merhaba ben python ogreniyorum. Merhaba ben python ogreniyorum ama hizlicaben python ogrenmeyi bitirdim'"
      ]
     },
     "execution_count": 575,
     "metadata": {},
     "output_type": "execute_result"
    }
   ],
   "source": [
    "dosya.readline()"
   ]
  },
  {
   "cell_type": "code",
   "execution_count": 576,
   "id": "532a54eb",
   "metadata": {},
   "outputs": [
    {
     "data": {
      "text/plain": [
       "''"
      ]
     },
     "execution_count": 576,
     "metadata": {},
     "output_type": "execute_result"
    }
   ],
   "source": [
    "dosya.readline()"
   ]
  },
  {
   "cell_type": "code",
   "execution_count": 577,
   "id": "c7d5ad6b",
   "metadata": {},
   "outputs": [
    {
     "data": {
      "text/plain": [
       "''"
      ]
     },
     "execution_count": 577,
     "metadata": {},
     "output_type": "execute_result"
    }
   ],
   "source": [
    "dosya.readline()"
   ]
  },
  {
   "cell_type": "code",
   "execution_count": 578,
   "id": "9e6f5b1f",
   "metadata": {},
   "outputs": [
    {
     "data": {
      "text/plain": [
       "''"
      ]
     },
     "execution_count": 578,
     "metadata": {},
     "output_type": "execute_result"
    }
   ],
   "source": [
    "# satirlar bittiginde bos bir cikti verir bize.\n",
    "dosya.readline()"
   ]
  },
  {
   "cell_type": "code",
   "execution_count": 579,
   "id": "28901681",
   "metadata": {},
   "outputs": [],
   "source": [
    "dosya.close()"
   ]
  },
  {
   "cell_type": "code",
   "execution_count": 580,
   "id": "449170cb",
   "metadata": {},
   "outputs": [],
   "source": [
    "dosya = open(\"dosya.txt\", mode = \"r\", encoding = \"utf-8\")"
   ]
  },
  {
   "cell_type": "markdown",
   "id": "897d72de",
   "metadata": {},
   "source": [
    "##### \"readlines\" mehodu ile kullanirsak her bir satiri liste icerisine alir."
   ]
  },
  {
   "cell_type": "markdown",
   "id": "f162507a",
   "metadata": {},
   "source": [
    "* \"readlines\" methodu her bir satiri ayri bir eleman olarak ele alir ve liste icerisinde atar."
   ]
  },
  {
   "cell_type": "code",
   "execution_count": 581,
   "id": "76022064",
   "metadata": {},
   "outputs": [],
   "source": [
    "liste = dosya.readlines()"
   ]
  },
  {
   "cell_type": "code",
   "execution_count": 582,
   "id": "3cd529bb",
   "metadata": {},
   "outputs": [
    {
     "data": {
      "text/plain": [
       "[' Merhaba ben python ogreniyorum. Merhaba ben python ogreniyorum ama hizlicaben python ogrenmeyi bitirdim']"
      ]
     },
     "execution_count": 582,
     "metadata": {},
     "output_type": "execute_result"
    }
   ],
   "source": [
    "liste"
   ]
  },
  {
   "cell_type": "code",
   "execution_count": 583,
   "id": "28b00b5d",
   "metadata": {},
   "outputs": [
    {
     "data": {
      "text/plain": [
       "' Merhaba ben python ogreniyorum. Merhaba ben python ogreniyorum ama hizlicaben python ogrenmeyi bitirdim'"
      ]
     },
     "execution_count": 583,
     "metadata": {},
     "output_type": "execute_result"
    }
   ],
   "source": [
    "liste[0]"
   ]
  },
  {
   "cell_type": "code",
   "execution_count": 584,
   "id": "2d2dbea9",
   "metadata": {},
   "outputs": [],
   "source": [
    "dosya.close()"
   ]
  },
  {
   "cell_type": "markdown",
   "id": "ed4648c9",
   "metadata": {},
   "source": [
    "#### \"with\" keywordu ile dosya acmak ve kapatmak daha kisa ve okunabilir hale getirir."
   ]
  },
  {
   "cell_type": "markdown",
   "id": "5ab11ff8",
   "metadata": {},
   "source": [
    "* with open(file.txt , \"w,r,a,x\", encoding=\"utf-8\")  ... as dosya(dosy adinda degisken oldu mesela , tuna da olabilirdi): bu method ile otomatik olarak is bitince dosya kapanmis olacak."
   ]
  },
  {
   "cell_type": "code",
   "execution_count": 585,
   "id": "a51f05a0",
   "metadata": {},
   "outputs": [],
   "source": [
    "with open(\"tuna.txt\" ,\"w\", encoding=\"utf-8\") as tuna:\n",
    "    tuna.write(\"Hi , I am tuna\")\n",
    "    tuna.write(\"I am 24 years old.\")\n",
    "    tuna.write(\"I am software engineer and software developer\")\n"
   ]
  },
  {
   "cell_type": "markdown",
   "id": "41fecfc4",
   "metadata": {},
   "source": [
    "### seek() ve tell() methodlari"
   ]
  },
  {
   "cell_type": "markdown",
   "id": "c3de9943",
   "metadata": {},
   "source": [
    "* seek() ve tell() methodlarini kullanarak dosya icinde hareket edebilirsiniz. Seek() methodu ile istediginiz karakter sayisina gidebilir, tell() metodu ile de kacinci karakterde oldugunuzu ogrenebilirsiniz."
   ]
  },
  {
   "cell_type": "code",
   "execution_count": 586,
   "id": "acf07a19",
   "metadata": {},
   "outputs": [
    {
     "name": "stdout",
     "output_type": "stream",
     "text": [
      "ars old.I am software engineer and\n",
      "58\n"
     ]
    }
   ],
   "source": [
    "# ayni dosyadan zaten oldugu icin \"r\" modu ile acariz tekrar.\n",
    "with open(\"tuna.txt\" ,\"r\", encoding=\"utf-8\") as tuna:\n",
    "    tuna.seek(24) # 24 karakter ilerlemesi icin bunu yazariz.\n",
    "    print(tuna.read(34)) # 34 karakter okudu.\n",
    "    print(tuna.tell()) # Hangi karakterde oldugumzu soyler."
   ]
  },
  {
   "cell_type": "markdown",
   "id": "cae417e9",
   "metadata": {},
   "source": [
    "#### Seek() ve write() birlikte kullanirsa"
   ]
  },
  {
   "cell_type": "markdown",
   "id": "7c4a3beb",
   "metadata": {},
   "source": [
    "* seek() ile o karaktere gidip write () metodu ile o karakterden sonra yazmaya baslariz."
   ]
  },
  {
   "cell_type": "markdown",
   "id": "dc3c2934",
   "metadata": {},
   "source": [
    "#### Ayrica hem okuma hemde yazma yapmak icin \"+\" kullanmaliyiz."
   ]
  },
  {
   "cell_type": "markdown",
   "id": "41506a7c",
   "metadata": {},
   "source": [
    "* \"r+\" modu kullanimi hem okuma hem yazma icin (dosyanin var olmasi gerekir.)\n",
    "* \"w+\" modu kullanimi hem okuma hem yazma icin (dosya var ise siler)\n",
    "* \"a+\" modu kullanimi ile de hem okuma hem yazma yapabiliriz.(Eger cagrilan dosya bulunursa, en sonundan eklemeye devam eder. Eger dosya yoksa yazma ve okuma islemleri yapacak yeni bir dosya olusturur.)\n",
    "* \"x+\" modu kullanimi ile de yine hem okuma ve hem yazma yapabiliriz. (Dosya yoksa hata verir.)"
   ]
  },
  {
   "cell_type": "markdown",
   "id": "724bc5f9",
   "metadata": {},
   "source": [
    "##### \"r+\" modu kullanimi"
   ]
  },
  {
   "cell_type": "code",
   "execution_count": 588,
   "id": "86221d5f",
   "metadata": {},
   "outputs": [
    {
     "name": "stdout",
     "output_type": "stream",
     "text": [
      "Hi , I am tunaI am 24 years old.I am sof\n"
     ]
    }
   ],
   "source": [
    "with open(\"tuna.txt\" ,\"r+\", encoding=\"utf-8\") as tuna:\n",
    "    print(tuna.read(40)) # 40 karakter okudu.\n",
    "    tuna.write(\"passionate about teaching\")"
   ]
  },
  {
   "cell_type": "markdown",
   "id": "a7331d7f",
   "metadata": {},
   "source": [
    "##### \"a+\" modu kullanimi"
   ]
  },
  {
   "cell_type": "markdown",
   "id": "dd520d00",
   "metadata": {},
   "source": [
    "* Dosyanin sonuna yazmak icin  \"a\" modu ile acmamiz ve write() kullanmamiz gerekir.\n",
    "* Dosyanin basina yazmak icinse dosya = \"....\" + dosya yapabiliriz.\n",
    "* Ortasina bir sey eklemek icin readlines() kullanarak liste olusturabilir ve insert() metodu ile ekleyebiliriz.\n",
    "* Listeyi dosyaya yazmak icin ise writelines(liste) metodunu kullanabiliriz."
   ]
  },
  {
   "cell_type": "code",
   "execution_count": 589,
   "id": "a424496c",
   "metadata": {},
   "outputs": [],
   "source": [
    "with open(\"tuna.txt\", \"a+\", encoding = \"utf-8\") as tuna:\n",
    "    tuna.write(\"I am passionate about teaching\\n\") # \\n ile bir alt satira gecildi.\n",
    "    tuna.seek(0) # dosyanin basina donduruldu.\n",
    "    liste = tuna.readlines() # dosyadaki her bir satir bir eleman olarak listeye atildi.\n",
    "    liste.insert(1, \"I am a software engineer and software developer\\n\") # 1. indekse ekleme yapti.\n",
    "    tuna.seek(0) # dosyanin basina donduruldu.\n",
    "    tuna.writelines(liste) # listedeki her bir eleman bir satira atildi.\n"
   ]
  },
  {
   "cell_type": "code",
   "execution_count": 599,
   "id": "47730e5e",
   "metadata": {},
   "outputs": [],
   "source": [
    "with open(\"yeni.txt\",\"w+\",encoding = \"utf-8\") as tuna:\n",
    "    tuna.write(\"I am a software engineer and software developer. I am a software developer and I am a software developer I am from canada.\\n\")"
   ]
  },
  {
   "cell_type": "markdown",
   "id": "788e8b44",
   "metadata": {},
   "source": [
    "* Özetle, seek(0) kullanmazsanız, yeni eklenen satır dosyanın sonuna eklenir ve mevcut içerik korunur. seek(0) kullanırsanız, dosyanın başından itibaren yazma işlemi yapılır ve mevcut içerik güncellenir."
   ]
  },
  {
   "cell_type": "code",
   "execution_count": 600,
   "id": "a37f96a9",
   "metadata": {},
   "outputs": [],
   "source": [
    "with open(\"yeni.txt\",\"r+\",encoding = \"utf-8\") as tuna:\n",
    "    liste = tuna.readlines() # her satirin bir eleman oldugu listeye ulasilir.\n",
    "    # 2. indekse ekleme yapmak icin insert() metodu\n",
    "    liste.insert(2, \"I am a passionate about teaching\\n\")\n",
    "    tuna.seek(0) # yazma islemini dosyanin basindan itibaren baslar.\n",
    "    # listedeki her bir eleman bir satira atmak icin writelines() metodu\n",
    "    tuna.writelines(liste)\n",
    "    "
   ]
  },
  {
   "cell_type": "markdown",
   "id": "ceec7fd2",
   "metadata": {},
   "source": [
    "## Iterator"
   ]
  },
  {
   "cell_type": "markdown",
   "id": "1f256091",
   "metadata": {},
   "source": [
    "* Iterasyon nedir? Bir objedeki elemanlari sirali sekilde ziyaret etme islemi olarak tanimlayabiliriz.\n",
    "* For dongulerinde; Listeler , demetler veya karakter dizileri birer iterable objelerdir. \n",
    "* Iterator, Python'da bir veri yapısı üzerinde \"sırayla\" gezebilmenizi sağlayan bir nesnedir.\n",
    "* Python’da iterator protokolü sayesinde, veriler üzerinde döngü (örneğin, for döngüsü) ile çalışabiliriz"
   ]
  },
  {
   "cell_type": "markdown",
   "id": "29856006",
   "metadata": {},
   "source": [
    "### Iterable ve Iterator Nedir?"
   ]
  },
  {
   "cell_type": "markdown",
   "id": "c0821fe9",
   "metadata": {},
   "source": [
    "* Iterable (Yineleyebilir) Nesneler:\n",
    "Listeler, demetler, sözlükler, setler gibi nesneler iterable’dır. Bu nesneler, içlerinde sakladıkları elemanları sırayla sunmak üzere tasarlanmıştır."
   ]
  },
  {
   "cell_type": "markdown",
   "id": "e9769190",
   "metadata": {},
   "source": [
    "* Iterator (Yineleyici) Nesneler:\n",
    "Bir iterator, üzerinde __ iter __() ve __ next __()  metodlarını tanımlayan nesnedir.\n",
    "\n",
    "* __ iter __() metodu, iterator’un kendisini döner (bazı durumlarda yeni bir iterator oluşturabilir).\n",
    "* __ next __() metodu ise, sıradaki elemanı döner; eğer eleman kalmadıysa StopIteration istisnasını fırlatır."
   ]
  },
  {
   "cell_type": "markdown",
   "id": "8ce8ddfb",
   "metadata": {},
   "source": [
    "### Basit bir Ornek: Liste Uzerinde Iterator Kullanimi"
   ]
  },
  {
   "cell_type": "code",
   "execution_count": 11,
   "id": "2f145901",
   "metadata": {},
   "outputs": [
    {
     "name": "stdout",
     "output_type": "stream",
     "text": [
      "10\n",
      "20\n",
      "30\n",
      "40\n",
      "50\n",
      "Liste bitti!\n"
     ]
    }
   ],
   "source": [
    "# Bir liste tanimlayalim\n",
    "liste = [10,20,30,40,50]\n",
    "\n",
    "# Liste uzerinde iterator elde edelim. it adinda obje olusturalim.\n",
    "it = iter(liste)\n",
    "\n",
    "# next() fonksiyonu ile sirayla elemanlari alalim.\n",
    "print(next(it)) # 10\n",
    "print(next(it)) # 20\n",
    "print(next(it)) # 30\n",
    "print(next(it)) # 40\n",
    "print(next(it)) # 50\n",
    "\n",
    "try:\n",
    "    print(next(it)) # StopIteration hatasi verir.\n",
    "except StopIteration:\n",
    "    print(\"Liste bitti!\") # StopIteration hatasi alinca burada calisir.\n",
    "\n",
    "# Kullanimda dikkat edilmesi gereken bir sey, listenin sonuna gelindiginde next() fonksiyonu Bir sonraki çağrıda StopIteration hatası fırlatır\n",
    "# print(next(it))  # Uncomment ederseniz hata alırsınız."
   ]
  },
  {
   "cell_type": "markdown",
   "id": "cc0a0111",
   "metadata": {},
   "source": [
    "##### Python’da for döngüsü de aslında arka planda iterator protokolünü kullanır. Örneğin:"
   ]
  },
  {
   "cell_type": "code",
   "execution_count": 10,
   "id": "7b14def5",
   "metadata": {},
   "outputs": [
    {
     "name": "stdout",
     "output_type": "stream",
     "text": [
      "10\n",
      "20\n",
      "30\n",
      "40\n",
      "50\n"
     ]
    }
   ],
   "source": [
    "# yukaridaki  ciktiyla ayni islemi yapan for dongusu de vardir.  \n",
    "\n",
    "for i in liste: # i buada eleman demek 10,20,30 u temsil eder.\n",
    "    print(i) # 10, 20, 30, 40, 50\n",
    "    "
   ]
  },
  {
   "cell_type": "code",
   "execution_count": 604,
   "id": "c3cb6c53",
   "metadata": {},
   "outputs": [],
   "source": [
    "x = \"Tunahan\" # iteratable object yani donebilir bir nesne."
   ]
  },
  {
   "cell_type": "code",
   "execution_count": 605,
   "id": "41699d36",
   "metadata": {},
   "outputs": [
    {
     "name": "stdout",
     "output_type": "stream",
     "text": [
      "T\n",
      "u\n",
      "n\n",
      "a\n",
      "h\n",
      "a\n",
      "n\n"
     ]
    }
   ],
   "source": [
    "for i in x:\n",
    "    print(i)"
   ]
  },
  {
   "cell_type": "code",
   "execution_count": 606,
   "id": "85428060",
   "metadata": {},
   "outputs": [],
   "source": [
    "y = [1,2,3,4,5,6,7,8]"
   ]
  },
  {
   "cell_type": "code",
   "execution_count": 608,
   "id": "7b7eaf45",
   "metadata": {},
   "outputs": [
    {
     "name": "stdout",
     "output_type": "stream",
     "text": [
      "1\n",
      "2\n",
      "3\n",
      "4\n",
      "5\n",
      "6\n",
      "7\n",
      "8\n"
     ]
    }
   ],
   "source": [
    "for i in y:\n",
    "    print(i) "
   ]
  },
  {
   "cell_type": "code",
   "execution_count": 609,
   "id": "a7164f8c",
   "metadata": {},
   "outputs": [],
   "source": [
    "# iteratable object olusturmak\n",
    "iterasyon = iter(x)"
   ]
  },
  {
   "cell_type": "code",
   "execution_count": 610,
   "id": "4a0f3a5c",
   "metadata": {},
   "outputs": [
    {
     "data": {
      "text/plain": [
       "'T'"
      ]
     },
     "execution_count": 610,
     "metadata": {},
     "output_type": "execute_result"
    }
   ],
   "source": [
    "# next fonksiyonu ile icerisinde gezebilirim.\n",
    "next(iterasyon)"
   ]
  },
  {
   "cell_type": "code",
   "execution_count": 611,
   "id": "b54c1371",
   "metadata": {},
   "outputs": [
    {
     "data": {
      "text/plain": [
       "'u'"
      ]
     },
     "execution_count": 611,
     "metadata": {},
     "output_type": "execute_result"
    }
   ],
   "source": [
    "next(iterasyon)"
   ]
  },
  {
   "cell_type": "code",
   "execution_count": 612,
   "id": "5c9054e7",
   "metadata": {},
   "outputs": [
    {
     "data": {
      "text/plain": [
       "'n'"
      ]
     },
     "execution_count": 612,
     "metadata": {},
     "output_type": "execute_result"
    }
   ],
   "source": [
    "next(iterasyon)"
   ]
  },
  {
   "cell_type": "code",
   "execution_count": 613,
   "id": "117964b4",
   "metadata": {},
   "outputs": [
    {
     "data": {
      "text/plain": [
       "'a'"
      ]
     },
     "execution_count": 613,
     "metadata": {},
     "output_type": "execute_result"
    }
   ],
   "source": [
    "next(iterasyon)"
   ]
  },
  {
   "cell_type": "code",
   "execution_count": 614,
   "id": "1ec93b61",
   "metadata": {},
   "outputs": [
    {
     "data": {
      "text/plain": [
       "'h'"
      ]
     },
     "execution_count": 614,
     "metadata": {},
     "output_type": "execute_result"
    }
   ],
   "source": [
    "next(iterasyon)"
   ]
  },
  {
   "cell_type": "code",
   "execution_count": 619,
   "id": "cd89fe7e",
   "metadata": {},
   "outputs": [
    {
     "name": "stdout",
     "output_type": "stream",
     "text": [
      "T\n",
      "u\n",
      "n\n",
      "a\n",
      "h\n",
      "a\n",
      "n\n"
     ]
    }
   ],
   "source": [
    "iterasyon = iter(x) # iteratable object olusturduk.\n",
    "while True:\n",
    "    try:\n",
    "        element = next(iterasyon)\n",
    "        print(element)\n",
    "    except StopIteration:\n",
    "        break        "
   ]
  },
  {
   "cell_type": "markdown",
   "id": "2540df16",
   "metadata": {},
   "source": [
    "#### Kendi iteratorlerimizi yazmak icin ; "
   ]
  },
  {
   "cell_type": "markdown",
   "id": "61e26b0f",
   "metadata": {},
   "source": [
    "* Python, iter() fonksiyonu ile bir iterable’dan iterator oluşturur\n",
    "* next() fonksiyonu, iterator’un sıradaki elemanını döner ve eleman kalmadığında StopIteration fırlatır."
   ]
  },
  {
   "cell_type": "code",
   "execution_count": 12,
   "id": "db1748da",
   "metadata": {},
   "outputs": [],
   "source": [
    "# Kendi iterator’ınızı oluşturmak için bir sınıf tanımlayabilir ve bu sınıfta __iter__() ile __next__() metodlarını tanımlayabilirsiniz."
   ]
  },
  {
   "cell_type": "code",
   "execution_count": 3,
   "id": "fc249602",
   "metadata": {},
   "outputs": [
    {
     "name": "stdout",
     "output_type": "stream",
     "text": [
      "0\n",
      "0\n",
      "5\n",
      "10\n",
      "15\n",
      "20\n",
      "25\n",
      "30\n",
      "35\n",
      "40\n",
      "45\n",
      "50\n",
      "55\n",
      "60\n",
      "65\n",
      "70\n",
      "75\n",
      "80\n",
      "85\n",
      "90\n",
      "95\n",
      "100\n"
     ]
    }
   ],
   "source": [
    "# Sayilar isminde bir sınıf tanımlıyoruz\n",
    "class Sayilar:\n",
    "    # __iter__ metodu, bir nesnenin iterator olabilmesi için tanımlanması gereken metottur.\n",
    "    def __iter__(self):\n",
    "        self.sayi = 0 # Bu metod içerisinde, self.sayi adında bir değişkeni 0 değeriyle başlatıyoruz. Böylece iterator ilk başlatıldığında 0’dan başlayacak.\n",
    "        return self # return self ifadesiyle, nesnenin kendisini iterator olarak döndürüyoruz. (Bu durumda sınıf hem iterable hem de iterator görevi görüyor.)\n",
    "    \n",
    "    # __next__ metodu, iterator protokolünün bir parçasıdır ve her çağrıldığında bir sonraki değeri üretir.\n",
    "    def __next__(self):\n",
    "        x = self.sayi  # satırı, mevcut değeri x değişkenine atar.\n",
    "        self.sayi += 5 # ifadesiyle, sayi değişkeni 5 artırılır; böylece her çağrıda sayı 5 artar.\n",
    "        return x # ile mevcut değeri döndürürüz. İlk çağrıda 0, sonraki çağrıda 5, sonra 10 gibi değerler üretilir.\n",
    "\n",
    "# Sınıftan Nesne Oluşturma    \n",
    "besartan = Sayilar() # Sayilar sınıfından bir nesne oluşturuyoruz ve bu nesneyi besartan adlı değişkene atıyoruz.\n",
    "# Iterator Elde Etme:\n",
    "iterasyon = iter(besartan) #Python'un yerleşik iter() fonksiyonu, besartan nesnesi üzerinden bir iterator elde etmek için kullanılır. Bu işlem, besartan.__iter__() metodunu çağırır. Böylece iterasyon değişkeni artık döngüye hazır bir iterator olur.\n",
    "\n",
    "# Iterator’dan Değer Alma:\n",
    "print(next(iterasyon)) # next(iterasyon) ifadesi, iterator üzerinden bir sonraki elemanı alır. Bu örnekte ilk çağrıda __iter__ metodu tarafından sayi 0 olarak ayarlandığı için, __next__ metodu 0 değerini döndürür. Sonuç olarak, ekrana 0 yazdırılır.\n",
    "\n",
    "for i in besartan:\n",
    "        print(i) # Bu döngü, iterator üzerinde döngüyü devam eder ve her bir adımda __next__ metodu çağrılarak, bir sonraki elemanı alır. Bu işlem, iterator üzerinde sırayla değerler üretmek için kullanılan döngülerde de yapılabilir.\n",
    "        if i >= 100:\n",
    "             break # eğer sayi 100’e eşit veya büyükse döngüden çıkmak için break ifadesi kullanılabilir."
   ]
  },
  {
   "cell_type": "markdown",
   "id": "1bbc59fd",
   "metadata": {},
   "source": [
    "### Generator Fonksiyonları ve Iterator İlişkisi"
   ]
  },
  {
   "cell_type": "markdown",
   "id": "bc321586",
   "metadata": {},
   "source": [
    "* Python’da generator’lar, iterator oluşturmanın kısa ve etkili bir yoludur. Generator fonksiyonları, **yield** ifadesi kullanılarak yazılır. Örneğin:"
   ]
  },
  {
   "cell_type": "code",
   "execution_count": 17,
   "id": "8ad2dde4",
   "metadata": {},
   "outputs": [
    {
     "name": "stdout",
     "output_type": "stream",
     "text": [
      "0\n",
      "1\n",
      "2\n",
      "3\n",
      "4\n"
     ]
    }
   ],
   "source": [
    "def sayac(max_deger):\n",
    "    sayi = 0\n",
    "    while sayi < max_deger:\n",
    "        yield sayi\n",
    "        sayi += 1\n",
    "\n",
    "# Kullanım:\n",
    "for s in sayac(5):\n",
    "    print(s)\n",
    "\n",
    "# Bu fonksiyon, her yield ifadesinde geçici olarak durur ve bir sonraki next() çağrısında kaldığı yerden devam eder."
   ]
  },
  {
   "cell_type": "markdown",
   "id": "05a99dd2",
   "metadata": {},
   "source": [
    "## Generator (Uretecler)"
   ]
  },
  {
   "cell_type": "markdown",
   "id": "4b008704",
   "metadata": {},
   "source": [
    "* Python'da iterator uretmej gordugunuz gibi biraz karisik. ___iter___() ___next___() metotlarini kullanarak uretiyoruz. Eger bir eleman kalmazsa da StopIteration hatasi veriyoruz. Generatorlar iste burada imdadimiza yetisiyor. Cok kolay sekilde iterator uretmemizi sagliyor.\n",
    "* Generatorlar iterable objeler(nesneler) olusturmak icin kullanilir. Bellekte yer tutmadiklari icin son derece kullanislidirlar. "
   ]
  },
  {
   "cell_type": "markdown",
   "id": "5280418d",
   "metadata": {},
   "source": [
    "### # Generator Nasil Uretilir?\n"
   ]
  },
  {
   "cell_type": "markdown",
   "id": "fe6e2de0",
   "metadata": {},
   "source": [
    "* Normal fonksyon yazar gibi uretecegiz, sadece return yerine **yield** anahtar kelimesini kullanacagiz."
   ]
  },
  {
   "cell_type": "code",
   "execution_count": 10,
   "id": "413fb124",
   "metadata": {},
   "outputs": [],
   "source": [
    "# BU ISLEM BELLEKGE KAYDEDER GENRATOR KULLANILMAMISTIR\n",
    "# cift adinda bir fonksiyon olusturalim sayi adinda bir parametre alsin.\n",
    "def cift(sayi):\n",
    "    cift_sayilar = []\n",
    "    for i in range(sayi): # range fonksiyonu sayi uretmemizi saglar.\n",
    "        cift_sayilar.append(i*2) # her gelen sayiyi append methodu ile listeye dahil ederiz.\n",
    "    return cift_sayilar"
   ]
  },
  {
   "cell_type": "code",
   "execution_count": 9,
   "id": "f4d9e95a",
   "metadata": {},
   "outputs": [
    {
     "data": {
      "text/plain": [
       "[0, 2, 4, 6, 8, 10, 12, 14, 16, 18, 20, 22, 24, 26, 28, 30, 32, 34, 36, 38]"
      ]
     },
     "execution_count": 9,
     "metadata": {},
     "output_type": "execute_result"
    }
   ],
   "source": [
    "cift(20)"
   ]
  },
  {
   "cell_type": "code",
   "execution_count": 24,
   "id": "72ac7de6",
   "metadata": {},
   "outputs": [],
   "source": [
    "def cift(sayi):\n",
    "    for i in range(sayi): # range fonksiyonu sayi uretmemizi saglar.\n",
    "        yield i*2 # Her adımda çift sayı üretir"
   ]
  },
  {
   "cell_type": "code",
   "execution_count": 23,
   "id": "5694c1a1",
   "metadata": {},
   "outputs": [
    {
     "data": {
      "text/plain": [
       "<generator object cift at 0x000001C44B117D30>"
      ]
     },
     "execution_count": 23,
     "metadata": {},
     "output_type": "execute_result"
    }
   ],
   "source": [
    "cift(20) # kac cift sayi uretecegimizi icine yazdik ve cift objesini olusturduk."
   ]
  },
  {
   "cell_type": "code",
   "execution_count": 25,
   "id": "252affc2",
   "metadata": {},
   "outputs": [
    {
     "name": "stdout",
     "output_type": "stream",
     "text": [
      "0\n",
      "2\n",
      "4\n",
      "6\n",
      "8\n",
      "10\n",
      "12\n",
      "14\n",
      "16\n",
      "18\n",
      "20\n",
      "22\n",
      "24\n",
      "26\n",
      "28\n",
      "30\n",
      "32\n",
      "34\n",
      "36\n",
      "38\n"
     ]
    }
   ],
   "source": [
    "for i in cift(20):\n",
    "    print(i)"
   ]
  },
  {
   "cell_type": "code",
   "execution_count": null,
   "id": "8b3b82ff",
   "metadata": {},
   "outputs": [],
   "source": []
  }
 ],
 "metadata": {
  "kernelspec": {
   "display_name": "base",
   "language": "python",
   "name": "python3"
  },
  "language_info": {
   "codemirror_mode": {
    "name": "ipython",
    "version": 3
   },
   "file_extension": ".py",
   "mimetype": "text/x-python",
   "name": "python",
   "nbconvert_exporter": "python",
   "pygments_lexer": "ipython3",
   "version": "3.12.7"
  }
 },
 "nbformat": 4,
 "nbformat_minor": 5
}
